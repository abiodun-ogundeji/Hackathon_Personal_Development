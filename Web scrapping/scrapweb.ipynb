{
 "cells": [
  {
   "cell_type": "code",
   "execution_count": 1,
   "metadata": {},
   "outputs": [],
   "source": [
    "from requests import get\n",
    "from bs4 import BeautifulSoup"
   ]
  },
  {
   "cell_type": "code",
   "execution_count": 2,
   "metadata": {},
   "outputs": [],
   "source": [
    "if __name__ == '__main__':\n",
    "    resp = get(url=\"https://www.byprogrammers.com/blog/\")"
   ]
  },
  {
   "cell_type": "code",
   "execution_count": 3,
   "metadata": {},
   "outputs": [],
   "source": [
    "# if status code = 200 then proceed else print error\n",
    "if resp.status_code == 200:\n",
    "    html_doc = resp.text\n",
    "    soup = BeautifulSoup(html_doc, 'html.parser')\n",
    "    posts = soup.find_all(\"div\", \"post-inner-content\")"
   ]
  },
  {
   "cell_type": "code",
   "execution_count": 5,
   "metadata": {},
   "outputs": [
    {
     "name": "stdout",
     "output_type": "stream",
     "text": [
      "Title: LCRN EP15 – Food Recipe App – React Native UI | Scrollable Header Animation\n",
      "Author: Jack Tiong\n",
      "Title: LCRN EP14 – Crypto Wallet App – React Native UI | REST API Calls | React Redux\n",
      "Author: Jack Tiong\n",
      "Title: LCRN EP13 – Boba Milk Tea App – React Native UI, React Redux and Light/Dark theme\n",
      "Author: Jack Tiong\n",
      "Title: LCRN EP12 – Movie Streaming App – React Native UI\n",
      "Author: Jack Tiong\n",
      "Title: LCRN EP11 – Travel App – React Native UI\n",
      "Author: Jack Tiong\n",
      "Title: LCRN EP10 – Cryptocurrency App – React Native UI\n",
      "Author: Jack Tiong\n",
      "Title: LCRN EP9 – Digital Wallet App – React Native UI\n",
      "Author: Jack Tiong\n",
      "Title: LCRN EP8 – Food Delivery App – React Native UI\n",
      "Author: Jack Tiong\n",
      "Title: How to integrate Google Maps in React Native App?\n",
      "Author: Vincent Chong\n",
      "Title: How to generate Google Maps API Key for Mobile App?\n",
      "Author: Vincent Chong\n",
      "Fail to load web page\n"
     ]
    }
   ],
   "source": [
    "for post in posts:\n",
    "    title = post.header.h2.text\n",
    "    author = post.find(\"span\", \"author vcard\").text\n",
    "    print(\"Title: {}\".format(title))\n",
    "    print(\"Author: {}\".format(author))\n",
    "else:\n",
    "    print(\"Fail to load web page\")"
   ]
  },
  {
   "cell_type": "code",
   "execution_count": 6,
   "metadata": {},
   "outputs": [],
   "source": [
    "from selenium import webdriver"
   ]
  },
  {
   "cell_type": "code",
   "execution_count": 7,
   "metadata": {},
   "outputs": [],
   "source": [
    "def start_browser():\n",
    "    profile = webdriver.FirefoxProfile()\n",
    "    driver = webdriver.Firefox(firefox_profile=profile)\n",
    "    return driver"
   ]
  },
  {
   "cell_type": "code",
   "execution_count": null,
   "metadata": {},
   "outputs": [],
   "source": []
  }
 ],
 "metadata": {
  "kernelspec": {
   "display_name": "Python 3",
   "language": "python",
   "name": "python3"
  },
  "language_info": {
   "codemirror_mode": {
    "name": "ipython",
    "version": 3
   },
   "file_extension": ".py",
   "mimetype": "text/x-python",
   "name": "python",
   "nbconvert_exporter": "python",
   "pygments_lexer": "ipython3",
   "version": "3.8.5"
  }
 },
 "nbformat": 4,
 "nbformat_minor": 4
}
