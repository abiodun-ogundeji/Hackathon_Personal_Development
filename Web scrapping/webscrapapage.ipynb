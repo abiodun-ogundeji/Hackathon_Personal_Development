{
 "cells": [
  {
   "cell_type": "code",
   "execution_count": 1,
   "metadata": {},
   "outputs": [],
   "source": [
    "from bs4 import BeautifulSoup"
   ]
  },
  {
   "cell_type": "code",
   "execution_count": 2,
   "metadata": {},
   "outputs": [],
   "source": [
    "import requests"
   ]
  },
  {
   "cell_type": "code",
   "execution_count": 15,
   "metadata": {},
   "outputs": [],
   "source": [
    "url = \"https://ng.indeed.com/jobs?q=python+developer&l=lagos\""
   ]
  },
  {
   "cell_type": "code",
   "execution_count": 16,
   "metadata": {},
   "outputs": [],
   "source": [
    "page = requests.get(url)"
   ]
  },
  {
   "cell_type": "code",
   "execution_count": 17,
   "metadata": {},
   "outputs": [
    {
     "name": "stdout",
     "output_type": "stream",
     "text": [
      "<Response [200]>\n"
     ]
    }
   ],
   "source": [
    "print(page)"
   ]
  },
  {
   "cell_type": "code",
   "execution_count": 18,
   "metadata": {},
   "outputs": [],
   "source": [
    "soup = BeautifulSoup(page.content, 'html.parser')"
   ]
  },
  {
   "cell_type": "code",
   "execution_count": 22,
   "metadata": {},
   "outputs": [],
   "source": [
    "#print(soup)"
   ]
  },
  {
   "cell_type": "code",
   "execution_count": 20,
   "metadata": {},
   "outputs": [],
   "source": [
    "results = soup.find_all('div', class_ = \"jobsearch-EmbeddedLabelInput\")"
   ]
  },
  {
   "cell_type": "code",
   "execution_count": 21,
   "metadata": {},
   "outputs": [
    {
     "name": "stdout",
     "output_type": "stream",
     "text": [
      "[<div class=\"jobsearch-EmbeddedLabelInput\" id=\"what_container\">\n",
      "<div class=\"jobsearch-EmbeddedLabelInput-wrapper\"><label class=\"jobsearch-EmbeddedLabelInput-label\" for=\"what\" id=\"embedded_what_label_top\">What</label>\n",
      "<input aria-label=\"what: job title, keywords, or company\" autocomplete=\"off\" class=\"jobsearch-EmbeddedLabelInput-input input_text\" id=\"what\" maxlength=\"512\" name=\"q\" placeholder=\"Job title, keywords, or company\" type=\"text\" value=\"python developer\"/>\n",
      "</div><div style=\"position:relative;z-index:2\"><div class=\"acd\" id=\"what_acdiv\"></div></div>\n",
      "</div>, <div class=\"jobsearch-EmbeddedLabelInput\" id=\"where_container\">\n",
      "<div class=\"jobsearch-EmbeddedLabelInput-wrapper\"><label class=\"jobsearch-EmbeddedLabelInput-label\" for=\"where\" id=\"embedded_where_label_top\">Where</label>\n",
      "<input aria-label=\"where: city, state, or zip code\" autocomplete=\"off\" class=\"jobsearch-EmbeddedLabelInput-input input_text\" id=\"where\" maxlength=\"45\" name=\"l\" placeholder=\"City, state, or zip code\" value=\"lagos\"/>\n",
      "</div><div style=\"position:relative;z-index:2\"><div class=\"acd\" id=\"acdiv\"></div></div>\n",
      "</div>]\n"
     ]
    }
   ],
   "source": [
    "print(results)"
   ]
  },
  {
   "cell_type": "code",
   "execution_count": 14,
   "metadata": {},
   "outputs": [
    {
     "ename": "SyntaxError",
     "evalue": "invalid syntax (<ipython-input-14-213955cbcda4>, line 2)",
     "output_type": "error",
     "traceback": [
      "\u001b[0;36m  File \u001b[0;32m\"<ipython-input-14-213955cbcda4>\"\u001b[0;36m, line \u001b[0;32m2\u001b[0m\n\u001b[0;31m    title =\u001b[0m\n\u001b[0m           ^\u001b[0m\n\u001b[0;31mSyntaxError\u001b[0m\u001b[0;31m:\u001b[0m invalid syntax\n"
     ]
    }
   ],
   "source": [
    "for result in results:\n",
    "    title =\n",
    "    company =\n",
    "    salary ="
   ]
  },
  {
   "cell_type": "code",
   "execution_count": null,
   "metadata": {},
   "outputs": [],
   "source": []
  }
 ],
 "metadata": {
  "kernelspec": {
   "display_name": "Python 3",
   "language": "python",
   "name": "python3"
  },
  "language_info": {
   "codemirror_mode": {
    "name": "ipython",
    "version": 3
   },
   "file_extension": ".py",
   "mimetype": "text/x-python",
   "name": "python",
   "nbconvert_exporter": "python",
   "pygments_lexer": "ipython3",
   "version": "3.8.5"
  }
 },
 "nbformat": 4,
 "nbformat_minor": 4
}
