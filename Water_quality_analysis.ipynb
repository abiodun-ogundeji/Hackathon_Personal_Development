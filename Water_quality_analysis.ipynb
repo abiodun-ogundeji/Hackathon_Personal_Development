{
  "cells": [
    {
      "cell_type": "markdown",
      "metadata": {
        "id": "view-in-github",
        "colab_type": "text"
      },
      "source": [
        "<a href=\"https://colab.research.google.com/github/waleogundeji/personal/blob/main/Water_quality_analysis.ipynb\" target=\"_parent\"><img src=\"https://colab.research.google.com/assets/colab-badge.svg\" alt=\"Open In Colab\"/></a>"
      ]
    },
    {
      "cell_type": "markdown",
      "source": [
        "# Import necessary libraries"
      ],
      "metadata": {
        "id": "xUVrduZk4e7x"
      },
      "id": "xUVrduZk4e7x"
    },
    {
      "cell_type": "code",
      "source": [
        "import pandas as pd\n",
        "import numpy as np\n",
        "import matplotlib.pyplot as plt"
      ],
      "metadata": {
        "id": "flXUuL6B4blm"
      },
      "id": "flXUuL6B4blm",
      "execution_count": null,
      "outputs": []
    },
    {
      "cell_type": "markdown",
      "source": [
        "# Import the dataset from the local drive"
      ],
      "metadata": {
        "id": "ioZAYSjH4paW"
      },
      "id": "ioZAYSjH4paW"
    },
    {
      "cell_type": "code",
      "source": [
        "from google.colab import files\n",
        "\n",
        "uploaded = files.upload()"
      ],
      "metadata": {
        "colab": {
          "resources": {
            "http://localhost:8080/nbextensions/google.colab/files.js": {
              "data": "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",
              "ok": true,
              "headers": [
                [
                  "content-type",
                  "application/javascript"
                ]
              ],
              "status": 200,
              "status_text": ""
            }
          },
          "base_uri": "https://localhost:8080/",
          "height": 73
        },
        "id": "DNhYMC5g-ow3",
        "outputId": "36d25607-fccd-44fa-8df9-fd5cb1d80bc4"
      },
      "id": "DNhYMC5g-ow3",
      "execution_count": null,
      "outputs": [
        {
          "output_type": "display_data",
          "data": {
            "text/html": [
              "\n",
              "     <input type=\"file\" id=\"files-4df342a3-5286-4569-a9d2-3db4bb8f53ea\" name=\"files[]\" multiple disabled\n",
              "        style=\"border:none\" />\n",
              "     <output id=\"result-4df342a3-5286-4569-a9d2-3db4bb8f53ea\">\n",
              "      Upload widget is only available when the cell has been executed in the\n",
              "      current browser session. Please rerun this cell to enable.\n",
              "      </output>\n",
              "      <script src=\"/nbextensions/google.colab/files.js\"></script> "
            ],
            "text/plain": [
              "<IPython.core.display.HTML object>"
            ]
          },
          "metadata": {}
        },
        {
          "output_type": "stream",
          "name": "stdout",
          "text": [
            "Saving Phytoplankton_results.csv to Phytoplankton_results (12).csv\n"
          ]
        }
      ]
    },
    {
      "cell_type": "markdown",
      "source": [
        "# Read the datset in csv format with pandas"
      ],
      "metadata": {
        "id": "wnQG_hgi41L2"
      },
      "id": "wnQG_hgi41L2"
    },
    {
      "cell_type": "code",
      "execution_count": null,
      "id": "12a7c376",
      "metadata": {
        "scrolled": true,
        "colab": {
          "base_uri": "https://localhost:8080/"
        },
        "id": "12a7c376",
        "outputId": "41722005-0a4c-40c8-e111-9eed0ea6d86d"
      },
      "outputs": [
        {
          "output_type": "execute_result",
          "data": {
            "text/plain": [
              "(882, 16)"
            ]
          },
          "metadata": {},
          "execution_count": 3
        }
      ],
      "source": [
        "phyto = pd.read_csv('Phytoplankton_results.csv')\n",
        "phyto.shape"
      ]
    },
    {
      "cell_type": "markdown",
      "source": [
        "# Create a new header for the dataset by specify the column to use as header"
      ],
      "metadata": {
        "id": "JJPW6qPO5UWp"
      },
      "id": "JJPW6qPO5UWp"
    },
    {
      "cell_type": "code",
      "execution_count": null,
      "id": "36ee37ac",
      "metadata": {
        "id": "36ee37ac"
      },
      "outputs": [],
      "source": [
        "new_header = phyto.iloc[0] #grab the first row for the header\n",
        "phyto = phyto[1:] #take the data less the header row\n",
        "phyto.columns = new_header #set the header row as the df header\n",
        "phyto = phyto[:828]"
      ]
    },
    {
      "cell_type": "markdown",
      "source": [
        "# Data cleaning\n",
        "\n",
        "### Four independent features are selected for cleaning. Missing and not detected values were replaced, and the errors were cast"
      ],
      "metadata": {
        "id": "aWO8Dt8W5dg7"
      },
      "id": "aWO8Dt8W5dg7"
    },
    {
      "cell_type": "code",
      "execution_count": null,
      "id": "611cf1c6",
      "metadata": {
        "scrolled": true,
        "colab": {
          "base_uri": "https://localhost:8080/",
          "height": 721
        },
        "id": "611cf1c6",
        "outputId": "517840ad-29d8-4e3e-bb54-38aeafb36204"
      },
      "outputs": [
        {
          "output_type": "execute_result",
          "data": {
            "text/html": [
              "<div>\n",
              "<style scoped>\n",
              "    .dataframe tbody tr th:only-of-type {\n",
              "        vertical-align: middle;\n",
              "    }\n",
              "\n",
              "    .dataframe tbody tr th {\n",
              "        vertical-align: top;\n",
              "    }\n",
              "\n",
              "    .dataframe thead th {\n",
              "        text-align: right;\n",
              "    }\n",
              "</style>\n",
              "<table border=\"1\" class=\"dataframe\">\n",
              "  <thead>\n",
              "    <tr style=\"text-align: right;\">\n",
              "      <th></th>\n",
              "      <th>Sample number</th>\n",
              "      <th>Production area</th>\n",
              "      <th>Bed ID</th>\n",
              "      <th>Local authority</th>\n",
              "      <th>Grid reference\\n\\nNote 1</th>\n",
              "      <th>Sampling point</th>\n",
              "      <th>Date sample collected</th>\n",
              "      <th>Alexandrium spp. \\ncells L-1\\n(PSP)</th>\n",
              "      <th>Dinophysiaceae \\ncells L-1\\n(DSP)</th>\n",
              "      <th>Prorocentrum lima \\ncells L-1\\n(DSP)</th>\n",
              "      <th>Pseudo-nitzschia spp. \\ncells L-1\\n(ASP)</th>\n",
              "      <th>Ligulodinium polyedrum \\ncells L-1\\n(Yessotoxin)</th>\n",
              "      <th>Protoceratium reticulatum \\ncells L-1\\n(Yessotoxin)</th>\n",
              "      <th>Prorocentrum cordatum \\ncells L-1\\n(Venerupin)</th>\n",
              "      <th>NaN</th>\n",
              "      <th>NaN</th>\n",
              "    </tr>\n",
              "  </thead>\n",
              "  <tbody>\n",
              "    <tr>\n",
              "      <th>1</th>\n",
              "      <td>1/21</td>\n",
              "      <td>Solent</td>\n",
              "      <td>B24BK</td>\n",
              "      <td>Southampton PHA</td>\n",
              "      <td>SZ57479794</td>\n",
              "      <td>Browndown</td>\n",
              "      <td>44200.4583333333</td>\n",
              "      <td>0.0</td>\n",
              "      <td>0.0</td>\n",
              "      <td>0.0</td>\n",
              "      <td>0.0</td>\n",
              "      <td>ND</td>\n",
              "      <td>ND</td>\n",
              "      <td>ND</td>\n",
              "      <td>NaN</td>\n",
              "      <td>NaN</td>\n",
              "    </tr>\n",
              "    <tr>\n",
              "      <th>2</th>\n",
              "      <td>2/21</td>\n",
              "      <td>Southampton Water</td>\n",
              "      <td>B21AT</td>\n",
              "      <td>Southampton PHA</td>\n",
              "      <td>SU48760530</td>\n",
              "      <td>Hamble Estuary</td>\n",
              "      <td>44200.3541666667</td>\n",
              "      <td>0.0</td>\n",
              "      <td>0.0</td>\n",
              "      <td>0.0</td>\n",
              "      <td>0.0</td>\n",
              "      <td>ND</td>\n",
              "      <td>ND</td>\n",
              "      <td>ND</td>\n",
              "      <td>NaN</td>\n",
              "      <td>NaN</td>\n",
              "    </tr>\n",
              "    <tr>\n",
              "      <th>3</th>\n",
              "      <td>3/21</td>\n",
              "      <td>Brancaster</td>\n",
              "      <td>B05AS</td>\n",
              "      <td>Kings Lynn &amp; W Norfolk BC</td>\n",
              "      <td>TF79884539</td>\n",
              "      <td>Norton Creek Mussels</td>\n",
              "      <td>44201.4375</td>\n",
              "      <td>0.0</td>\n",
              "      <td>0.0</td>\n",
              "      <td>0.0</td>\n",
              "      <td>400.0</td>\n",
              "      <td>ND</td>\n",
              "      <td>ND</td>\n",
              "      <td>ND</td>\n",
              "      <td>NaN</td>\n",
              "      <td>NaN</td>\n",
              "    </tr>\n",
              "    <tr>\n",
              "      <th>4</th>\n",
              "      <td>4/21</td>\n",
              "      <td>Porlock</td>\n",
              "      <td>B094D</td>\n",
              "      <td>Somerset West and Taunton Council</td>\n",
              "      <td>SS87114787</td>\n",
              "      <td>Porlock East</td>\n",
              "      <td>44201.4583333333</td>\n",
              "      <td>0.0</td>\n",
              "      <td>0.0</td>\n",
              "      <td>0.0</td>\n",
              "      <td>0.0</td>\n",
              "      <td>ND</td>\n",
              "      <td>ND</td>\n",
              "      <td>ND</td>\n",
              "      <td>NaN</td>\n",
              "      <td>NaN</td>\n",
              "    </tr>\n",
              "    <tr>\n",
              "      <th>5</th>\n",
              "      <td>5/21</td>\n",
              "      <td>Blackwater</td>\n",
              "      <td>B14AD</td>\n",
              "      <td>Maldon DC</td>\n",
              "      <td>TM04060768</td>\n",
              "      <td>St Peters Flats</td>\n",
              "      <td>44202.4375</td>\n",
              "      <td>0.0</td>\n",
              "      <td>0.0</td>\n",
              "      <td>0.0</td>\n",
              "      <td>0.0</td>\n",
              "      <td>ND</td>\n",
              "      <td>ND</td>\n",
              "      <td>ND</td>\n",
              "      <td>NaN</td>\n",
              "      <td>NaN</td>\n",
              "    </tr>\n",
              "    <tr>\n",
              "      <th>...</th>\n",
              "      <td>...</td>\n",
              "      <td>...</td>\n",
              "      <td>...</td>\n",
              "      <td>...</td>\n",
              "      <td>...</td>\n",
              "      <td>...</td>\n",
              "      <td>...</td>\n",
              "      <td>...</td>\n",
              "      <td>...</td>\n",
              "      <td>...</td>\n",
              "      <td>...</td>\n",
              "      <td>...</td>\n",
              "      <td>...</td>\n",
              "      <td>...</td>\n",
              "      <td>...</td>\n",
              "      <td>...</td>\n",
              "    </tr>\n",
              "    <tr>\n",
              "      <th>824</th>\n",
              "      <td>853/21</td>\n",
              "      <td>St Austell Bay</td>\n",
              "      <td>B70AE</td>\n",
              "      <td>Cornwall PHA</td>\n",
              "      <td>SX05744972</td>\n",
              "      <td>Ropehaven Outer</td>\n",
              "      <td>44494.3472222222</td>\n",
              "      <td>0.0</td>\n",
              "      <td>40.0</td>\n",
              "      <td>0.0</td>\n",
              "      <td>7080.0</td>\n",
              "      <td>ND</td>\n",
              "      <td>ND</td>\n",
              "      <td>ND</td>\n",
              "      <td>NaN</td>\n",
              "      <td>NaN</td>\n",
              "    </tr>\n",
              "    <tr>\n",
              "      <th>825</th>\n",
              "      <td>854/21</td>\n",
              "      <td>Crouch</td>\n",
              "      <td>B015Y</td>\n",
              "      <td>Maldon DC</td>\n",
              "      <td>TQ90429738</td>\n",
              "      <td>Althorne</td>\n",
              "      <td>44495.4895833333</td>\n",
              "      <td>0.0</td>\n",
              "      <td>0.0</td>\n",
              "      <td>0.0</td>\n",
              "      <td>0.0</td>\n",
              "      <td>ND</td>\n",
              "      <td>ND</td>\n",
              "      <td>ND</td>\n",
              "      <td>NaN</td>\n",
              "      <td>NaN</td>\n",
              "    </tr>\n",
              "    <tr>\n",
              "      <th>826</th>\n",
              "      <td>855/21</td>\n",
              "      <td>Lyme Bay</td>\n",
              "      <td>B090M</td>\n",
              "      <td>Torbay BC</td>\n",
              "      <td>UNVERIFIED</td>\n",
              "      <td>Site 1</td>\n",
              "      <td>44494.6736111111</td>\n",
              "      <td>0.0</td>\n",
              "      <td>40.0</td>\n",
              "      <td>0.0</td>\n",
              "      <td>0.0</td>\n",
              "      <td>ND</td>\n",
              "      <td>ND</td>\n",
              "      <td>ND</td>\n",
              "      <td>NaN</td>\n",
              "      <td>NaN</td>\n",
              "    </tr>\n",
              "    <tr>\n",
              "      <th>827</th>\n",
              "      <td>856/21</td>\n",
              "      <td>Burry Inlet</td>\n",
              "      <td>B038I</td>\n",
              "      <td>City and Council of Swansea</td>\n",
              "      <td>SS50509590</td>\n",
              "      <td>South East 4</td>\n",
              "      <td>44496.625</td>\n",
              "      <td>0.0</td>\n",
              "      <td>0.0</td>\n",
              "      <td>0.0</td>\n",
              "      <td>0.0</td>\n",
              "      <td>ND</td>\n",
              "      <td>ND</td>\n",
              "      <td>ND</td>\n",
              "      <td>NaN</td>\n",
              "      <td>NaN</td>\n",
              "    </tr>\n",
              "    <tr>\n",
              "      <th>828</th>\n",
              "      <td>857/21</td>\n",
              "      <td>Dee</td>\n",
              "      <td>B45AB</td>\n",
              "      <td>Flintshire CC</td>\n",
              "      <td>SJ17568056</td>\n",
              "      <td>Salisbury</td>\n",
              "      <td>44495.5625</td>\n",
              "      <td>0.0</td>\n",
              "      <td>0.0</td>\n",
              "      <td>0.0</td>\n",
              "      <td>0.0</td>\n",
              "      <td>ND</td>\n",
              "      <td>ND</td>\n",
              "      <td>ND</td>\n",
              "      <td>NaN</td>\n",
              "      <td>NaN</td>\n",
              "    </tr>\n",
              "  </tbody>\n",
              "</table>\n",
              "<p>828 rows × 16 columns</p>\n",
              "</div>"
            ],
            "text/plain": [
              "0   Sample number    Production area  ... NaN NaN\n",
              "1            1/21             Solent  ... NaN NaN\n",
              "2            2/21  Southampton Water  ... NaN NaN\n",
              "3            3/21         Brancaster  ... NaN NaN\n",
              "4            4/21            Porlock  ... NaN NaN\n",
              "5            5/21         Blackwater  ... NaN NaN\n",
              "..            ...                ...  ...  ..  ..\n",
              "824        853/21     St Austell Bay  ... NaN NaN\n",
              "825        854/21             Crouch  ... NaN NaN\n",
              "826        855/21           Lyme Bay  ... NaN NaN\n",
              "827        856/21        Burry Inlet  ... NaN NaN\n",
              "828        857/21                Dee  ... NaN NaN\n",
              "\n",
              "[828 rows x 16 columns]"
            ]
          },
          "metadata": {},
          "execution_count": 5
        }
      ],
      "source": [
        "def clean_data(phyto):\n",
        " phyto[\"Alexandrium spp. \\ncells L-1\\n(PSP)\"] = phyto[\"Alexandrium spp. \\ncells L-1\\n(PSP)\"].replace(\"ND\", 0)\n",
        " phyto[\"Pseudo-nitzschia spp. \\ncells L-1\\n(ASP) \"] = phyto[\"Pseudo-nitzschia spp. \\ncells L-1\\n(ASP) \"].replace(\"ND\", 0)\n",
        " phyto[\"Dinophysiaceae \\ncells L-1\\n(DSP)\"] = phyto[\"Dinophysiaceae \\ncells L-1\\n(DSP)\"].replace(\"ND\", 0)\n",
        " phyto[\"Prorocentrum lima \\ncells L-1\\n(DSP)\"] = phyto[\"Prorocentrum lima \\ncells L-1\\n(DSP)\"].replace(\"ND\", 0)\n",
        "\n",
        " phyto[\"Alexandrium spp. \\ncells L-1\\n(PSP)\"] = pd.to_numeric(phyto[\"Alexandrium spp. \\ncells L-1\\n(PSP)\"], errors='coerce')\n",
        " phyto[\"Pseudo-nitzschia spp. \\ncells L-1\\n(ASP) \"] = pd.to_numeric(phyto[\"Pseudo-nitzschia spp. \\ncells L-1\\n(ASP) \"], errors='coerce')\n",
        " phyto[\"Dinophysiaceae \\ncells L-1\\n(DSP)\"] = pd.to_numeric(phyto[\"Dinophysiaceae \\ncells L-1\\n(DSP)\"], errors='coerce')\n",
        " phyto[\"Prorocentrum lima \\ncells L-1\\n(DSP)\"] = pd.to_numeric(phyto[\"Prorocentrum lima \\ncells L-1\\n(DSP)\"], errors='coerce')\n",
        "    \n",
        " phyto[\"Alexandrium spp. \\ncells L-1\\n(PSP)\"] = phyto[\"Alexandrium spp. \\ncells L-1\\n(PSP)\"].fillna(-1)\n",
        " phyto[\"Pseudo-nitzschia spp. \\ncells L-1\\n(ASP) \"] = phyto[\"Pseudo-nitzschia spp. \\ncells L-1\\n(ASP) \"].fillna(-1)\n",
        " phyto[\"Dinophysiaceae \\ncells L-1\\n(DSP)\"] = phyto[\"Dinophysiaceae \\ncells L-1\\n(DSP)\"].fillna(-1)\n",
        " phyto[\"Prorocentrum lima \\ncells L-1\\n(DSP)\"] = phyto[\"Prorocentrum lima \\ncells L-1\\n(DSP)\"].fillna(-1)\n",
        "    \n",
        "\n",
        "clean_data(phyto)\n",
        "phyto\n"
      ]
    },
    {
      "cell_type": "markdown",
      "id": "2f05c970",
      "metadata": {
        "id": "2f05c970"
      },
      "source": [
        "# Data labelling\n",
        "\n",
        "### A dictionary was created to map the each column to a threshold. A thresold reach is created for each of the feature and add to the dataframe as the target feature"
      ]
    },
    {
      "cell_type": "code",
      "execution_count": null,
      "id": "e8b72234",
      "metadata": {
        "id": "e8b72234"
      },
      "outputs": [],
      "source": [
        "thresholds = {\"Alexandrium spp. \\ncells L-1\\n(PSP)\" : 40, \"Dinophysiaceae \\ncells L-1\\n(DSP)\" : 100,\n",
        "              \"Prorocentrum lima \\ncells L-1\\n(DSP)\" : 100, \"Pseudo-nitzschia spp. \\ncells L-1\\n(ASP) \" : 150000}"
      ]
    },
    {
      "cell_type": "code",
      "execution_count": null,
      "id": "8d71eb91",
      "metadata": {
        "id": "8d71eb91"
      },
      "outputs": [],
      "source": [
        "def check_thresholds(phyto):\n",
        "    t = []\n",
        "    for i,j in enumerate(phyto[\"Sample number\"]):\n",
        "        alexandrium = phyto.iloc[i][\"Alexandrium spp. \\ncells L-1\\n(PSP)\"]\n",
        "        pseudo_nitzschia = phyto.iloc[i][\"Pseudo-nitzschia spp. \\ncells L-1\\n(ASP) \"]\n",
        "        dinophysiaceae = phyto.iloc[i][\"Dinophysiaceae \\ncells L-1\\n(DSP)\"]\n",
        "        prorocentrum = phyto.iloc[i][\"Prorocentrum lima \\ncells L-1\\n(DSP)\"]\n",
        "\n",
        "        threshold_reached = 0\n",
        "        if pseudo_nitzschia >= thresholds[\"Pseudo-nitzschia spp. \\ncells L-1\\n(ASP) \"]:\n",
        "             threshold_reached = 1\n",
        "        elif dinophysiaceae >= thresholds[\"Dinophysiaceae \\ncells L-1\\n(DSP)\"]:\n",
        "            threshold_reached = 1\n",
        "        elif prorocentrum >= thresholds[\"Prorocentrum lima \\ncells L-1\\n(DSP)\"]:\n",
        "            threshold_reached = 1\n",
        "        elif alexandrium >= thresholds[\"Alexandrium spp. \\ncells L-1\\n(PSP)\"]:\n",
        "            threshold_reached = 1\n",
        "\n",
        "        t.append(threshold_reached)\n",
        "\n",
        "    return t\n",
        "\n",
        "\n",
        "\n",
        "thresholds_reached = check_thresholds(phyto)\n",
        "phyto['thresholds_reached'] = thresholds_reached\n",
        "pd.DataFrame.to_csv(phyto, 'thresholds_cleaned.csv', sep=',', index=False)"
      ]
    },
    {
      "cell_type": "markdown",
      "source": [
        "## The dataset is divided into dependent (y) and independent (x) variables"
      ],
      "metadata": {
        "id": "e14rad0D-tPD"
      },
      "id": "e14rad0D-tPD"
    },
    {
      "cell_type": "code",
      "execution_count": null,
      "id": "fb486328",
      "metadata": {
        "id": "fb486328"
      },
      "outputs": [],
      "source": [
        "x = pd.read_csv('thresholds_cleaned.csv', usecols=[\"Pseudo-nitzschia spp. \\ncells L-1\\n(ASP) \",\n",
        "                                                   \"Dinophysiaceae \\ncells L-1\\n(DSP)\", \n",
        "                                                   \"Prorocentrum lima \\ncells L-1\\n(DSP)\", \n",
        "                                                   \"Alexandrium spp. \\ncells L-1\\n(PSP)\"], \n",
        "                na_values = ['no info', '.'])\n",
        "\n",
        "y = pd.read_csv('thresholds_cleaned.csv', usecols=[\"thresholds_reached\"])"
      ]
    },
    {
      "cell_type": "markdown",
      "source": [
        "## The independent (x) and dependent (y) variables are split into training and test data\n",
        "\n",
        "## Feature scaling was done to standardized the data"
      ],
      "metadata": {
        "id": "EDHkSjAK-_Yy"
      },
      "id": "EDHkSjAK-_Yy"
    },
    {
      "cell_type": "code",
      "source": [
        "## Splitting the dataset into the Training and Test test\n",
        "from sklearn.model_selection import train_test_split\n",
        "x_train, x_test, y_train, y_test = train_test_split(x, y, test_size = 0.20, random_state = 42)\n",
        "\n",
        "## Feature scaling\n",
        "from sklearn.preprocessing import StandardScaler\n",
        "sc = StandardScaler()\n",
        "x_train = sc.fit_transform(x_train)\n",
        "x_test = sc.transform(x_test)"
      ],
      "metadata": {
        "id": "jzAJzrYQCSo1"
      },
      "id": "jzAJzrYQCSo1",
      "execution_count": null,
      "outputs": []
    },
    {
      "cell_type": "markdown",
      "id": "9d2bef24",
      "metadata": {
        "id": "9d2bef24"
      },
      "source": [
        "## Modelling\n",
        "\n",
        "### import necessay library\n",
        "### Define the model"
      ]
    },
    {
      "cell_type": "code",
      "execution_count": null,
      "id": "17730030",
      "metadata": {
        "id": "17730030"
      },
      "outputs": [],
      "source": [
        "import keras\n",
        "from keras.models import Sequential\n",
        "from keras.layers import Dense, Dropout\n",
        "from keras.optimizers import *\n",
        "from keras.utils import np_utils"
      ]
    },
    {
      "cell_type": "code",
      "execution_count": null,
      "id": "76076bf1",
      "metadata": {
        "colab": {
          "base_uri": "https://localhost:8080/"
        },
        "id": "76076bf1",
        "outputId": "9580f9b0-1a53-4cc3-a7a2-f945569e711d"
      },
      "outputs": [
        {
          "output_type": "stream",
          "name": "stdout",
          "text": [
            "Model: \"sequential\"\n",
            "_________________________________________________________________\n",
            " Layer (type)                Output Shape              Param #   \n",
            "=================================================================\n",
            " dense (Dense)               (None, 500)               2500      \n",
            "                                                                 \n",
            " dropout (Dropout)           (None, 500)               0         \n",
            "                                                                 \n",
            " dense_1 (Dense)             (None, 50)                25050     \n",
            "                                                                 \n",
            " dropout_1 (Dropout)         (None, 50)                0         \n",
            "                                                                 \n",
            " dense_2 (Dense)             (None, 1)                 51        \n",
            "                                                                 \n",
            "=================================================================\n",
            "Total params: 27,601\n",
            "Trainable params: 27,601\n",
            "Non-trainable params: 0\n",
            "_________________________________________________________________\n"
          ]
        }
      ],
      "source": [
        "# Modelling\n",
        "model = Sequential()\n",
        "model.add(Dense(units = 500, activation = 'relu', input_shape = (4,)))\n",
        "model.add(Dropout(0.4))\n",
        "model.add(Dense(units = 50, activation = 'relu'))\n",
        "model.add(Dropout(0.2))\n",
        "model.add(Dense(1, activation = 'relu'))\n",
        "\n",
        "model.compile(loss = 'binary_crossentropy', optimizer = 'adam', metrics = ['accuracy'])\n",
        "\n",
        "model.summary()"
      ]
    },
    {
      "cell_type": "code",
      "execution_count": null,
      "id": "4b92e9d3",
      "metadata": {
        "colab": {
          "base_uri": "https://localhost:8080/"
        },
        "id": "4b92e9d3",
        "outputId": "a9569cfa-deb3-46ec-abc2-b9c0902f2a51"
      },
      "outputs": [
        {
          "output_type": "stream",
          "name": "stdout",
          "text": [
            "Epoch 1/20\n",
            "21/21 [==============================] - 1s 16ms/step - loss: 0.2344 - accuracy: 0.9622 - val_loss: 0.1432 - val_accuracy: 0.9699\n",
            "Epoch 2/20\n",
            "21/21 [==============================] - 0s 5ms/step - loss: 0.1446 - accuracy: 0.9789 - val_loss: 0.1231 - val_accuracy: 0.9940\n",
            "Epoch 3/20\n",
            "21/21 [==============================] - 0s 4ms/step - loss: 0.1347 - accuracy: 0.9879 - val_loss: 0.1131 - val_accuracy: 0.9940\n",
            "Epoch 4/20\n",
            "21/21 [==============================] - 0s 5ms/step - loss: 0.1297 - accuracy: 0.9879 - val_loss: 0.1097 - val_accuracy: 0.9940\n",
            "Epoch 5/20\n",
            "21/21 [==============================] - 0s 5ms/step - loss: 0.1303 - accuracy: 0.9879 - val_loss: 0.1058 - val_accuracy: 0.9940\n",
            "Epoch 6/20\n",
            "21/21 [==============================] - 0s 5ms/step - loss: 0.1278 - accuracy: 0.9894 - val_loss: 0.0938 - val_accuracy: 0.9940\n",
            "Epoch 7/20\n",
            "21/21 [==============================] - 0s 4ms/step - loss: 0.1289 - accuracy: 0.9864 - val_loss: 0.1071 - val_accuracy: 0.9880\n",
            "Epoch 8/20\n",
            "21/21 [==============================] - 0s 5ms/step - loss: 0.1227 - accuracy: 0.9909 - val_loss: 0.0937 - val_accuracy: 0.9940\n",
            "Epoch 9/20\n",
            "21/21 [==============================] - 0s 5ms/step - loss: 0.1224 - accuracy: 0.9879 - val_loss: 0.0931 - val_accuracy: 0.9940\n",
            "Epoch 10/20\n",
            "21/21 [==============================] - 0s 5ms/step - loss: 0.1236 - accuracy: 0.9864 - val_loss: 0.0990 - val_accuracy: 0.9940\n",
            "Epoch 11/20\n",
            "21/21 [==============================] - 0s 4ms/step - loss: 0.1243 - accuracy: 0.9909 - val_loss: 0.0959 - val_accuracy: 0.9940\n",
            "Epoch 12/20\n",
            "21/21 [==============================] - 0s 5ms/step - loss: 0.1271 - accuracy: 0.9879 - val_loss: 0.0949 - val_accuracy: 0.9940\n",
            "Epoch 13/20\n",
            "21/21 [==============================] - 0s 4ms/step - loss: 0.1455 - accuracy: 0.9879 - val_loss: 0.0930 - val_accuracy: 0.9940\n",
            "Epoch 14/20\n",
            "21/21 [==============================] - 0s 6ms/step - loss: 0.1283 - accuracy: 0.9879 - val_loss: 0.1025 - val_accuracy: 0.9880\n",
            "Epoch 15/20\n",
            "21/21 [==============================] - 0s 4ms/step - loss: 0.1223 - accuracy: 0.9909 - val_loss: 0.0935 - val_accuracy: 0.9940\n",
            "Epoch 16/20\n",
            "21/21 [==============================] - 0s 6ms/step - loss: 0.1213 - accuracy: 0.9909 - val_loss: 0.0941 - val_accuracy: 0.9940\n",
            "Epoch 17/20\n",
            "21/21 [==============================] - 0s 4ms/step - loss: 0.1202 - accuracy: 0.9894 - val_loss: 0.0965 - val_accuracy: 0.9940\n",
            "Epoch 18/20\n",
            "21/21 [==============================] - 0s 6ms/step - loss: 0.1205 - accuracy: 0.9894 - val_loss: 0.0974 - val_accuracy: 0.9940\n",
            "Epoch 19/20\n",
            "21/21 [==============================] - 0s 4ms/step - loss: 0.1199 - accuracy: 0.9924 - val_loss: 0.0941 - val_accuracy: 0.9940\n",
            "Epoch 20/20\n",
            "21/21 [==============================] - 0s 5ms/step - loss: 0.1214 - accuracy: 0.9909 - val_loss: 0.0954 - val_accuracy: 0.9940\n",
            "Test loss: 0.09536083042621613\n",
            "Test accuracy: 0.9939758777618408\n"
          ]
        }
      ],
      "source": [
        "history = model.fit(x_train, y_train, batch_size = 32, epochs = 20, verbose = 1, validation_data = (x_test, y_test))\n",
        "\n",
        "score = model.evaluate(x_test, y_test, verbose=0)\n",
        "\n",
        "print('Test loss:', score[0])\n",
        "print('Test accuracy:', score[1])"
      ]
    },
    {
      "cell_type": "code",
      "execution_count": null,
      "id": "f78fa9e5",
      "metadata": {
        "id": "f78fa9e5"
      },
      "outputs": [],
      "source": [
        "acc = history.history['accuracy']\n",
        "val_acc = history.history['val_accuracy']\n",
        "\n",
        "loss = history.history['loss']\n",
        "val_loss = history.history['val_loss']\n",
        "\n",
        "epochs_range = range(20)"
      ]
    },
    {
      "cell_type": "code",
      "execution_count": null,
      "id": "003781c7",
      "metadata": {
        "colab": {
          "base_uri": "https://localhost:8080/",
          "height": 499
        },
        "id": "003781c7",
        "outputId": "6263cea9-c544-40ef-eea6-61778ab16f79"
      },
      "outputs": [
        {
          "output_type": "display_data",
          "data": {
            "image/png": "[encoded data removed]",
            "text/plain": [
              "<Figure size 576x576 with 1 Axes>"
            ]
          },
          "metadata": {
            "needs_background": "light"
          }
        }
      ],
      "source": [
        "plt.figure(figsize=(8, 8))\n",
        "plt.plot(epochs_range, acc, label='Training Accuracy')\n",
        "plt.plot(epochs_range, val_acc, label='Validation Accuracy')\n",
        "plt.legend(loc='lower right')\n",
        "plt.title('Training and Validation Accuracy')\n",
        "plt.plot(epochs_range, loss, label='Training Loss')\n",
        "plt.plot(epochs_range, val_loss, label='Validation Loss')\n",
        "plt.legend(loc='upper right')\n",
        "plt.title('Training and Validation Loss')\n",
        "plt.savefig(\"water_quality_nn.pdf\", dpi=100)\n",
        "plt.show()\n"
      ]
    },
    {
      "cell_type": "markdown",
      "id": "ad13aaf0",
      "metadata": {
        "id": "ad13aaf0"
      },
      "source": [
        "### Augmentation of Data size"
      ]
    },
    {
      "cell_type": "code",
      "execution_count": null,
      "id": "911556eb",
      "metadata": {
        "colab": {
          "base_uri": "https://localhost:8080/"
        },
        "id": "911556eb",
        "outputId": "304118f1-b0e9-4c31-aa55-88f0b506b596"
      },
      "outputs": [
        {
          "output_type": "execute_result",
          "data": {
            "text/plain": [
              "array([[ 0.        ],\n",
              "       [ 0.        ],\n",
              "       [ 0.        ],\n",
              "       [ 0.        ],\n",
              "       [ 0.        ],\n",
              "       [ 0.        ],\n",
              "       [ 0.        ],\n",
              "       [ 0.        ],\n",
              "       [ 0.        ],\n",
              "       [ 0.        ],\n",
              "       [ 0.        ],\n",
              "       [ 0.        ],\n",
              "       [ 0.        ],\n",
              "       [ 0.        ],\n",
              "       [ 0.        ],\n",
              "       [ 0.        ],\n",
              "       [ 0.        ],\n",
              "       [ 0.        ],\n",
              "       [ 0.        ],\n",
              "       [ 0.        ],\n",
              "       [ 0.        ],\n",
              "       [ 0.        ],\n",
              "       [ 0.        ],\n",
              "       [ 0.        ],\n",
              "       [ 0.        ],\n",
              "       [23.042093  ],\n",
              "       [ 0.        ],\n",
              "       [ 2.683865  ],\n",
              "       [ 0.        ],\n",
              "       [ 0.        ],\n",
              "       [ 0.        ],\n",
              "       [ 1.287735  ],\n",
              "       [ 0.        ],\n",
              "       [ 0.        ],\n",
              "       [ 0.        ],\n",
              "       [ 0.        ],\n",
              "       [ 0.        ],\n",
              "       [ 0.        ],\n",
              "       [ 0.        ],\n",
              "       [ 0.        ],\n",
              "       [ 0.        ],\n",
              "       [ 0.        ],\n",
              "       [ 0.        ],\n",
              "       [ 0.        ],\n",
              "       [ 0.        ],\n",
              "       [ 0.        ],\n",
              "       [ 0.        ],\n",
              "       [ 4.069499  ],\n",
              "       [ 0.        ],\n",
              "       [ 0.        ],\n",
              "       [ 0.        ],\n",
              "       [ 0.        ],\n",
              "       [ 0.        ],\n",
              "       [ 0.        ],\n",
              "       [ 0.        ],\n",
              "       [ 0.        ],\n",
              "       [ 0.        ],\n",
              "       [ 0.        ],\n",
              "       [ 0.        ],\n",
              "       [ 0.        ],\n",
              "       [ 0.        ],\n",
              "       [ 0.        ],\n",
              "       [ 0.        ],\n",
              "       [ 0.        ],\n",
              "       [23.225595  ],\n",
              "       [ 0.        ],\n",
              "       [ 0.        ],\n",
              "       [ 0.        ],\n",
              "       [ 0.        ],\n",
              "       [ 0.        ],\n",
              "       [ 0.        ],\n",
              "       [ 0.        ],\n",
              "       [ 0.        ],\n",
              "       [ 0.        ],\n",
              "       [ 0.        ],\n",
              "       [ 0.        ],\n",
              "       [ 0.        ],\n",
              "       [ 0.        ],\n",
              "       [ 0.        ],\n",
              "       [ 0.        ],\n",
              "       [ 0.        ],\n",
              "       [ 0.        ],\n",
              "       [ 0.        ],\n",
              "       [ 0.        ],\n",
              "       [ 0.        ],\n",
              "       [ 1.3907092 ],\n",
              "       [ 0.        ],\n",
              "       [ 0.        ],\n",
              "       [ 0.        ],\n",
              "       [ 0.        ],\n",
              "       [ 0.        ],\n",
              "       [ 1.3726171 ],\n",
              "       [ 1.3770689 ],\n",
              "       [ 0.        ],\n",
              "       [ 0.        ],\n",
              "       [ 0.        ],\n",
              "       [ 0.        ],\n",
              "       [ 7.4774647 ],\n",
              "       [ 0.        ],\n",
              "       [ 0.        ],\n",
              "       [ 0.        ],\n",
              "       [ 0.        ],\n",
              "       [ 0.        ],\n",
              "       [ 0.        ],\n",
              "       [ 0.        ],\n",
              "       [ 0.        ],\n",
              "       [ 0.        ],\n",
              "       [ 0.        ],\n",
              "       [ 0.        ],\n",
              "       [ 0.        ],\n",
              "       [ 0.        ],\n",
              "       [ 0.        ],\n",
              "       [ 0.        ],\n",
              "       [ 0.        ],\n",
              "       [ 0.        ],\n",
              "       [ 0.        ],\n",
              "       [ 0.        ],\n",
              "       [ 0.        ],\n",
              "       [ 0.        ],\n",
              "       [ 0.        ],\n",
              "       [ 0.        ],\n",
              "       [ 0.        ],\n",
              "       [ 0.        ],\n",
              "       [ 0.        ],\n",
              "       [ 0.        ],\n",
              "       [ 0.        ],\n",
              "       [ 0.66701055],\n",
              "       [ 0.        ],\n",
              "       [ 0.        ],\n",
              "       [ 0.        ],\n",
              "       [ 0.        ],\n",
              "       [ 0.        ],\n",
              "       [ 0.        ],\n",
              "       [ 0.        ],\n",
              "       [ 2.683865  ],\n",
              "       [ 0.        ],\n",
              "       [ 0.        ],\n",
              "       [ 0.        ],\n",
              "       [ 0.        ],\n",
              "       [ 0.        ],\n",
              "       [19.044945  ],\n",
              "       [ 0.        ],\n",
              "       [ 0.        ],\n",
              "       [ 0.        ],\n",
              "       [31.436745  ],\n",
              "       [ 0.        ],\n",
              "       [ 0.        ],\n",
              "       [ 0.        ],\n",
              "       [ 0.        ],\n",
              "       [49.911774  ],\n",
              "       [ 0.        ],\n",
              "       [ 0.        ],\n",
              "       [ 0.        ],\n",
              "       [ 0.        ],\n",
              "       [ 4.0653553 ],\n",
              "       [ 5.380674  ],\n",
              "       [ 0.        ],\n",
              "       [ 0.        ],\n",
              "       [ 0.        ],\n",
              "       [ 0.        ],\n",
              "       [ 0.        ],\n",
              "       [ 0.        ],\n",
              "       [ 0.        ],\n",
              "       [13.618974  ],\n",
              "       [ 0.        ],\n",
              "       [ 0.        ]], dtype=float32)"
            ]
          },
          "metadata": {},
          "execution_count": 15
        }
      ],
      "source": [
        "model_pred = model.predict(x_test, batch_size=None, verbose=0, steps=None, max_queue_size=10,workers=1,use_multiprocessing=False)\n",
        "model_pred"
      ]
    },
    {
      "cell_type": "code",
      "execution_count": null,
      "id": "3fada663",
      "metadata": {
        "colab": {
          "base_uri": "https://localhost:8080/"
        },
        "id": "3fada663",
        "outputId": "45a20883-0f76-4734-8c41-8eef49302f90"
      },
      "outputs": [
        {
          "output_type": "execute_result",
          "data": {
            "text/plain": [
              "array([0., 0., 0., 0., 0., 0., 0., 0., 0., 0., 0., 0., 0., 0., 0., 0., 0.,\n",
              "       0., 0., 0., 0., 0., 0., 0., 0., 0., 0., 0., 0., 0., 0., 0., 0., 0.,\n",
              "       0., 0., 0., 0., 0., 0., 0., 0., 0., 0., 0., 0., 0., 0., 0., 0., 0.,\n",
              "       0., 0., 0., 0., 0., 0., 0., 0., 0., 0., 0., 0., 0., 0., 0., 0., 0.,\n",
              "       0., 0., 0., 0., 0., 0., 0., 0., 0., 0., 0., 0., 0., 0., 0., 0., 0.,\n",
              "       0., 0., 0., 0., 0., 0., 0., 0., 0., 0., 0., 0., 0., 0., 0., 0., 0.,\n",
              "       0., 0., 0., 0., 0., 0., 0., 0., 0., 0., 0., 0., 0., 0., 0., 0., 0.,\n",
              "       0., 0., 0., 0., 0., 0., 0., 0., 0., 0., 0., 0., 0., 0., 0., 0., 0.,\n",
              "       0., 0., 0., 0., 0., 0., 0., 0., 0., 0., 0., 0., 0., 0., 0., 0., 0.,\n",
              "       0., 0., 0., 0., 0., 0., 0., 0., 0., 0., 0., 0., 0.])"
            ]
          },
          "metadata": {},
          "execution_count": 16
        }
      ],
      "source": [
        "predictions = np.zeros(len(x_test))     # Assuming no threshold reached\n",
        "predictions"
      ]
    },
    {
      "cell_type": "code",
      "execution_count": null,
      "id": "d45b7a2a",
      "metadata": {
        "scrolled": true,
        "colab": {
          "base_uri": "https://localhost:8080/"
        },
        "id": "d45b7a2a",
        "outputId": "74ee949b-2801-489d-8ec1-effb8e8fe200"
      },
      "outputs": [
        {
          "output_type": "stream",
          "name": "stdout",
          "text": [
            "Before OverSampling, counts of label '1': 95\n",
            "Before OverSampling, counts of label '0': 733 \n",
            "\n"
          ]
        }
      ],
      "source": [
        "print(\"Before OverSampling, counts of label '1': {}\".format(sum(y[\"thresholds_reached\"] == 1)))\n",
        "print(\"Before OverSampling, counts of label '0': {} \\n\".format(sum(y[\"thresholds_reached\"] == 0)))"
      ]
    },
    {
      "cell_type": "code",
      "execution_count": null,
      "id": "dc1bcb19",
      "metadata": {
        "id": "dc1bcb19"
      },
      "outputs": [],
      "source": [
        "from collections import Counter\n",
        "from sklearn.svm import LinearSVC\n",
        "from imblearn.pipeline import make_pipeline\n",
        "from imblearn.base import BaseSampler\n",
        "from imblearn.over_sampling import (SMOTE, RandomOverSampler)\n",
        "import imblearn\n",
        "from imblearn.over_sampling import SMOTE"
      ]
    },
    {
      "cell_type": "code",
      "execution_count": null,
      "id": "832c96f6",
      "metadata": {
        "id": "832c96f6"
      },
      "outputs": [],
      "source": [
        "sm = SMOTE(random_state = 2)\n",
        "x_train_res, y_train_res = sm.fit_resample(x, y[\"thresholds_reached\"].ravel())\n"
      ]
    },
    {
      "cell_type": "code",
      "execution_count": null,
      "id": "40da43f5",
      "metadata": {
        "scrolled": true,
        "colab": {
          "base_uri": "https://localhost:8080/"
        },
        "id": "40da43f5",
        "outputId": "4b5082c7-7b1e-4638-a804-5777920f6a30"
      },
      "outputs": [
        {
          "output_type": "stream",
          "name": "stdout",
          "text": [
            "After OverSampling, the shape of train_X: (1466, 4)\n",
            "After OverSampling, the shape of train_y: (1466,) \n",
            "\n",
            "After OverSampling, the shape of train_X: (1466, 4)\n",
            "After OverSampling, the shape of train_y: (1466,) \n",
            "\n"
          ]
        }
      ],
      "source": [
        "print('After OverSampling, the shape of train_X: {}'.format(x_train_res.shape))\n",
        "print('After OverSampling, the shape of train_y: {} \\n'.format(y_train_res.shape))\n",
        "print('After OverSampling, the shape of train_X: {}'.format(x_train_res.shape))\n",
        "print('After OverSampling, the shape of train_y: {} \\n'.format(y_train_res.shape))\n"
      ]
    },
    {
      "cell_type": "code",
      "source": [
        "history = model.fit(x_train_res, y_train_res, batch_size = 32, epochs = 20, verbose = 1, validation_data = (x_test, y_test))\n",
        "\n",
        "score_res = model.evaluate(x_test, y_test, verbose=0)\n",
        "\n",
        "print('Test loss:', score_res[0])\n",
        "print('Test accuracy:', score_res[1])"
      ],
      "metadata": {
        "colab": {
          "base_uri": "https://localhost:8080/"
        },
        "id": "Cy_vvH4_UeMf",
        "outputId": "7b6a964c-0144-4870-9074-f8c7ea998146"
      },
      "id": "Cy_vvH4_UeMf",
      "execution_count": null,
      "outputs": [
        {
          "output_type": "stream",
          "name": "stdout",
          "text": [
            "Epoch 1/20\n",
            "46/46 [==============================] - 1s 5ms/step - loss: 3.9423 - accuracy: 0.7415 - val_loss: 0.0965 - val_accuracy: 0.9940\n",
            "Epoch 2/20\n",
            "46/46 [==============================] - 0s 4ms/step - loss: 3.9423 - accuracy: 0.7415 - val_loss: 0.0965 - val_accuracy: 0.9940\n",
            "Epoch 3/20\n",
            "46/46 [==============================] - 0s 4ms/step - loss: 3.9423 - accuracy: 0.7415 - val_loss: 0.0965 - val_accuracy: 0.9940\n",
            "Epoch 4/20\n",
            "46/46 [==============================] - 0s 4ms/step - loss: 3.9423 - accuracy: 0.7415 - val_loss: 0.0965 - val_accuracy: 0.9940\n",
            "Epoch 5/20\n",
            "46/46 [==============================] - 0s 5ms/step - loss: 3.9423 - accuracy: 0.7415 - val_loss: 0.0965 - val_accuracy: 0.9940\n",
            "Epoch 6/20\n",
            "46/46 [==============================] - 0s 4ms/step - loss: 3.9423 - accuracy: 0.7415 - val_loss: 0.0965 - val_accuracy: 0.9940\n",
            "Epoch 7/20\n",
            "46/46 [==============================] - 0s 4ms/step - loss: 3.9423 - accuracy: 0.7415 - val_loss: 0.0965 - val_accuracy: 0.9940\n",
            "Epoch 8/20\n",
            "46/46 [==============================] - 0s 4ms/step - loss: 3.9423 - accuracy: 0.7415 - val_loss: 0.0965 - val_accuracy: 0.9940\n",
            "Epoch 9/20\n",
            "46/46 [==============================] - 0s 4ms/step - loss: 3.9423 - accuracy: 0.7415 - val_loss: 0.0965 - val_accuracy: 0.9940\n",
            "Epoch 10/20\n",
            "46/46 [==============================] - 0s 4ms/step - loss: 3.9423 - accuracy: 0.7415 - val_loss: 0.0965 - val_accuracy: 0.9940\n",
            "Epoch 11/20\n",
            "46/46 [==============================] - 0s 4ms/step - loss: 3.9423 - accuracy: 0.7415 - val_loss: 0.0965 - val_accuracy: 0.9940\n",
            "Epoch 12/20\n",
            "46/46 [==============================] - 0s 4ms/step - loss: 3.9423 - accuracy: 0.7415 - val_loss: 0.0965 - val_accuracy: 0.9940\n",
            "Epoch 13/20\n",
            "46/46 [==============================] - 0s 4ms/step - loss: 3.9423 - accuracy: 0.7415 - val_loss: 0.0965 - val_accuracy: 0.9940\n",
            "Epoch 14/20\n",
            "46/46 [==============================] - 0s 4ms/step - loss: 3.9423 - accuracy: 0.7415 - val_loss: 0.0965 - val_accuracy: 0.9940\n",
            "Epoch 15/20\n",
            "46/46 [==============================] - 0s 4ms/step - loss: 3.9423 - accuracy: 0.7415 - val_loss: 0.0965 - val_accuracy: 0.9940\n",
            "Epoch 16/20\n",
            "46/46 [==============================] - 0s 4ms/step - loss: 3.9423 - accuracy: 0.7415 - val_loss: 0.0965 - val_accuracy: 0.9940\n",
            "Epoch 17/20\n",
            "46/46 [==============================] - 0s 4ms/step - loss: 3.9423 - accuracy: 0.7415 - val_loss: 0.0965 - val_accuracy: 0.9940\n",
            "Epoch 18/20\n",
            "46/46 [==============================] - 0s 4ms/step - loss: 3.9423 - accuracy: 0.7415 - val_loss: 0.0965 - val_accuracy: 0.9940\n",
            "Epoch 19/20\n",
            "46/46 [==============================] - 0s 5ms/step - loss: 3.9423 - accuracy: 0.7415 - val_loss: 0.0965 - val_accuracy: 0.9940\n",
            "Epoch 20/20\n",
            "46/46 [==============================] - 0s 5ms/step - loss: 3.9423 - accuracy: 0.7415 - val_loss: 0.0965 - val_accuracy: 0.9940\n",
            "Test loss: 0.09649200737476349\n",
            "Test accuracy: 0.9939758777618408\n"
          ]
        }
      ]
    },
    {
      "cell_type": "code",
      "source": [
        "acc_res = history.history['accuracy']\n",
        "val_acc_res = history.history['val_accuracy']\n",
        "\n",
        "loss_res = history.history['loss']\n",
        "val_loss_res = history.history['val_loss']\n",
        "\n",
        "epochs_range = range(20)"
      ],
      "metadata": {
        "id": "0fNDObpBf9N2"
      },
      "id": "0fNDObpBf9N2",
      "execution_count": null,
      "outputs": []
    },
    {
      "cell_type": "code",
      "source": [
        "plt.figure(figsize=(8, 8))\n",
        "plt.plot(epochs_range, acc_res, label='Training Accuracy')\n",
        "plt.plot(epochs_range, val_acc_res, label='Validation Accuracy')\n",
        "plt.legend(loc='lower right')\n",
        "plt.title('Training and Validation Accuracy')\n",
        "plt.plot(epochs_range, loss_res, label='Training Loss')\n",
        "plt.plot(epochs_range, val_loss_res, label='Validation Loss')\n",
        "plt.legend(loc='upper right')\n",
        "plt.title('Training and Validation Loss')\n",
        "plt.savefig(\"water_quality_nn.pdf\", dpi=100)\n",
        "plt.show()"
      ],
      "metadata": {
        "colab": {
          "base_uri": "https://localhost:8080/",
          "height": 499
        },
        "id": "roPJ6NcCgSbQ",
        "outputId": "f5dcd867-2120-4dd7-8723-1909928186aa"
      },
      "id": "roPJ6NcCgSbQ",
      "execution_count": null,
      "outputs": [
        {
          "output_type": "display_data",
          "data": {
            "image/png": "[encoded data removed]",
            "text/plain": [
              "<Figure size 576x576 with 1 Axes>"
            ]
          },
          "metadata": {
            "needs_background": "light"
          }
        }
      ]
    },
    {
      "cell_type": "markdown",
      "id": "853b612f",
      "metadata": {
        "id": "853b612f"
      },
      "source": [
        "# Data Visualisation"
      ]
    },
    {
      "cell_type": "code",
      "execution_count": null,
      "id": "6990499a",
      "metadata": {
        "colab": {
          "base_uri": "https://localhost:8080/",
          "height": 593
        },
        "id": "6990499a",
        "outputId": "e981f11a-6ab1-4daf-d642-2f1cc8f61d67"
      },
      "outputs": [
        {
          "output_type": "stream",
          "name": "stdout",
          "text": [
            "0                                          Alexandrium spp. \\ncells L-1\\n(PSP)  ...  thresholds_reached\n",
            "0                                                                               ...                    \n",
            "Alexandrium spp. \\ncells L-1\\n(PSP)                                   1.000000  ...            0.455902\n",
            "Dinophysiaceae \\ncells L-1\\n(DSP)                                     0.055174  ...            0.461656\n",
            "Prorocentrum lima \\ncells L-1\\n(DSP)                                 -0.008287  ...            0.140486\n",
            "Pseudo-nitzschia spp. \\ncells L-1\\n(ASP)                              0.019008  ...            0.258077\n",
            "NaN                                                                        NaN  ...                 NaN\n",
            "NaN                                                                        NaN  ...                 NaN\n",
            "thresholds_reached                                                    0.455902  ...            1.000000\n",
            "\n",
            "[7 rows x 7 columns]\n"
          ]
        },
        {
          "output_type": "display_data",
          "data": {
            "image/png": "[encoded data removed]",
            "text/plain": [
              "<Figure size 432x288 with 2 Axes>"
            ]
          },
          "metadata": {}
        }
      ],
      "source": [
        "import numpy as np; np.random.seed(0)\n",
        "import seaborn as sns; sns.set_theme()\n",
        "corrMatrix = phyto.corr()\n",
        "print (corrMatrix)\n",
        "ax = sns.heatmap(corrMatrix)"
      ]
    }
  ],
  "metadata": {
    "kernelspec": {
      "display_name": "Python 3",
      "language": "python",
      "name": "python3"
    },
    "language_info": {
      "codemirror_mode": {
        "name": "ipython",
        "version": 3
      },
      "file_extension": ".py",
      "mimetype": "text/x-python",
      "name": "python",
      "nbconvert_exporter": "python",
      "pygments_lexer": "ipython3",
      "version": "3.8.8"
    },
    "colab": {
      "name": "Water_quality_analysis.ipynb",
      "provenance": [],
      "include_colab_link": true
    }
  },
  "nbformat": 4,
  "nbformat_minor": 5
}