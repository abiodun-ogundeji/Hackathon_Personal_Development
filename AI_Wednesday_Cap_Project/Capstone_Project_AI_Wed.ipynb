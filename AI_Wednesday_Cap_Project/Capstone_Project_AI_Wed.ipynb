{
 "cells": [
  {
   "cell_type": "code",
   "execution_count": 59,
   "metadata": {},
   "outputs": [],
   "source": [
    "##Import libraries\n",
    "import numpy as np\n",
    "import pandas as pd\n",
    "import matplotlib.pyplot as plt\n",
    "import seaborn as sns\n",
    "%matplotlib inline"
   ]
  },
  {
   "cell_type": "code",
   "execution_count": 60,
   "metadata": {},
   "outputs": [
    {
     "data": {
      "text/html": [
       "<div>\n",
       "<style scoped>\n",
       "    .dataframe tbody tr th:only-of-type {\n",
       "        vertical-align: middle;\n",
       "    }\n",
       "\n",
       "    .dataframe tbody tr th {\n",
       "        vertical-align: top;\n",
       "    }\n",
       "\n",
       "    .dataframe thead th {\n",
       "        text-align: right;\n",
       "    }\n",
       "</style>\n",
       "<table border=\"1\" class=\"dataframe\">\n",
       "  <thead>\n",
       "    <tr style=\"text-align: right;\">\n",
       "      <th></th>\n",
       "      <th>Customer_ID</th>\n",
       "      <th>months_as_customer</th>\n",
       "      <th>age</th>\n",
       "      <th>insured_sex</th>\n",
       "      <th>insured_education_level</th>\n",
       "      <th>insured_occupation</th>\n",
       "      <th>insured_hobbies</th>\n",
       "      <th>insured_relationship</th>\n",
       "      <th>capital-gains</th>\n",
       "      <th>capital-loss</th>\n",
       "      <th>...</th>\n",
       "      <th>authorities_contacted</th>\n",
       "      <th>incident_state</th>\n",
       "      <th>incident_city</th>\n",
       "      <th>witnesses</th>\n",
       "      <th>police_report_available</th>\n",
       "      <th>auto_make</th>\n",
       "      <th>auto_model</th>\n",
       "      <th>auto_year</th>\n",
       "      <th>_c39</th>\n",
       "      <th>total_claim_amount</th>\n",
       "    </tr>\n",
       "  </thead>\n",
       "  <tbody>\n",
       "    <tr>\n",
       "      <th>0</th>\n",
       "      <td>Customer_541</td>\n",
       "      <td>239</td>\n",
       "      <td>41</td>\n",
       "      <td>FEMALE</td>\n",
       "      <td>JD</td>\n",
       "      <td>farming-fishing</td>\n",
       "      <td>paintball</td>\n",
       "      <td>other-relative</td>\n",
       "      <td>51400</td>\n",
       "      <td>-6300</td>\n",
       "      <td>...</td>\n",
       "      <td>Police</td>\n",
       "      <td>NC</td>\n",
       "      <td>Arlington</td>\n",
       "      <td>2</td>\n",
       "      <td>YES</td>\n",
       "      <td>Mercedes</td>\n",
       "      <td>E400</td>\n",
       "      <td>2013</td>\n",
       "      <td>NaN</td>\n",
       "      <td>14386.67</td>\n",
       "    </tr>\n",
       "    <tr>\n",
       "      <th>1</th>\n",
       "      <td>Customer_440</td>\n",
       "      <td>108</td>\n",
       "      <td>31</td>\n",
       "      <td>MALE</td>\n",
       "      <td>Masters</td>\n",
       "      <td>protective-serv</td>\n",
       "      <td>yachting</td>\n",
       "      <td>not-in-family</td>\n",
       "      <td>0</td>\n",
       "      <td>0</td>\n",
       "      <td>...</td>\n",
       "      <td>Fire</td>\n",
       "      <td>NY</td>\n",
       "      <td>Columbus</td>\n",
       "      <td>2</td>\n",
       "      <td>NO</td>\n",
       "      <td>Dodge</td>\n",
       "      <td>Neon</td>\n",
       "      <td>2006</td>\n",
       "      <td>NaN</td>\n",
       "      <td>76440.00</td>\n",
       "    </tr>\n",
       "    <tr>\n",
       "      <th>2</th>\n",
       "      <td>Customer_482</td>\n",
       "      <td>116</td>\n",
       "      <td>30</td>\n",
       "      <td>MALE</td>\n",
       "      <td>JD</td>\n",
       "      <td>handlers-cleaners</td>\n",
       "      <td>golf</td>\n",
       "      <td>not-in-family</td>\n",
       "      <td>0</td>\n",
       "      <td>-35500</td>\n",
       "      <td>...</td>\n",
       "      <td>Other</td>\n",
       "      <td>WV</td>\n",
       "      <td>Riverwood</td>\n",
       "      <td>3</td>\n",
       "      <td>?</td>\n",
       "      <td>Volkswagen</td>\n",
       "      <td>Passat</td>\n",
       "      <td>2004</td>\n",
       "      <td>NaN</td>\n",
       "      <td>79560.00</td>\n",
       "    </tr>\n",
       "    <tr>\n",
       "      <th>3</th>\n",
       "      <td>Customer_422</td>\n",
       "      <td>8</td>\n",
       "      <td>21</td>\n",
       "      <td>MALE</td>\n",
       "      <td>High School</td>\n",
       "      <td>handlers-cleaners</td>\n",
       "      <td>hiking</td>\n",
       "      <td>husband</td>\n",
       "      <td>0</td>\n",
       "      <td>0</td>\n",
       "      <td>...</td>\n",
       "      <td>Other</td>\n",
       "      <td>WV</td>\n",
       "      <td>Columbus</td>\n",
       "      <td>0</td>\n",
       "      <td>?</td>\n",
       "      <td>Toyota</td>\n",
       "      <td>Corolla</td>\n",
       "      <td>2012</td>\n",
       "      <td>NaN</td>\n",
       "      <td>121680.00</td>\n",
       "    </tr>\n",
       "    <tr>\n",
       "      <th>4</th>\n",
       "      <td>Customer_778</td>\n",
       "      <td>161</td>\n",
       "      <td>38</td>\n",
       "      <td>MALE</td>\n",
       "      <td>PhD</td>\n",
       "      <td>priv-house-serv</td>\n",
       "      <td>exercise</td>\n",
       "      <td>not-in-family</td>\n",
       "      <td>60200</td>\n",
       "      <td>0</td>\n",
       "      <td>...</td>\n",
       "      <td>Police</td>\n",
       "      <td>WV</td>\n",
       "      <td>Springfield</td>\n",
       "      <td>2</td>\n",
       "      <td>YES</td>\n",
       "      <td>Volkswagen</td>\n",
       "      <td>Jetta</td>\n",
       "      <td>2003</td>\n",
       "      <td>NaN</td>\n",
       "      <td>80640.00</td>\n",
       "    </tr>\n",
       "  </tbody>\n",
       "</table>\n",
       "<p>5 rows × 37 columns</p>\n",
       "</div>"
      ],
      "text/plain": [
       "    Customer_ID  months_as_customer  age insured_sex insured_education_level  \\\n",
       "0  Customer_541                 239   41      FEMALE                      JD   \n",
       "1  Customer_440                 108   31        MALE                 Masters   \n",
       "2  Customer_482                 116   30        MALE                      JD   \n",
       "3  Customer_422                   8   21        MALE             High School   \n",
       "4  Customer_778                 161   38        MALE                     PhD   \n",
       "\n",
       "  insured_occupation insured_hobbies insured_relationship  capital-gains  \\\n",
       "0    farming-fishing       paintball       other-relative          51400   \n",
       "1    protective-serv        yachting        not-in-family              0   \n",
       "2  handlers-cleaners            golf        not-in-family              0   \n",
       "3  handlers-cleaners          hiking              husband              0   \n",
       "4    priv-house-serv        exercise        not-in-family          60200   \n",
       "\n",
       "   capital-loss  ...  authorities_contacted incident_state incident_city  \\\n",
       "0         -6300  ...                 Police             NC     Arlington   \n",
       "1             0  ...                   Fire             NY      Columbus   \n",
       "2        -35500  ...                  Other             WV     Riverwood   \n",
       "3             0  ...                  Other             WV      Columbus   \n",
       "4             0  ...                 Police             WV   Springfield   \n",
       "\n",
       "  witnesses  police_report_available   auto_make  auto_model  auto_year _c39  \\\n",
       "0         2                      YES    Mercedes        E400       2013  NaN   \n",
       "1         2                       NO       Dodge        Neon       2006  NaN   \n",
       "2         3                        ?  Volkswagen      Passat       2004  NaN   \n",
       "3         0                        ?      Toyota     Corolla       2012  NaN   \n",
       "4         2                      YES  Volkswagen       Jetta       2003  NaN   \n",
       "\n",
       "   total_claim_amount  \n",
       "0            14386.67  \n",
       "1            76440.00  \n",
       "2            79560.00  \n",
       "3           121680.00  \n",
       "4            80640.00  \n",
       "\n",
       "[5 rows x 37 columns]"
      ]
     },
     "execution_count": 60,
     "metadata": {},
     "output_type": "execute_result"
    }
   ],
   "source": [
    "# Loading the train data and drop 'Customer_ID' becos it won't be useful\n",
    "train_dataset = pd.read_csv('train.csv')\n",
    "#train_dataset.drop(['Customer_ID'], axis ='columns', inplace= True)\n",
    "train_dataset.head()"
   ]
  },
  {
   "cell_type": "code",
   "execution_count": 61,
   "metadata": {},
   "outputs": [
    {
     "data": {
      "text/plain": [
       "(700, 37)"
      ]
     },
     "execution_count": 61,
     "metadata": {},
     "output_type": "execute_result"
    }
   ],
   "source": [
    "train_dataset.shape"
   ]
  },
  {
   "cell_type": "code",
   "execution_count": 62,
   "metadata": {},
   "outputs": [
    {
     "data": {
      "text/html": [
       "<div>\n",
       "<style scoped>\n",
       "    .dataframe tbody tr th:only-of-type {\n",
       "        vertical-align: middle;\n",
       "    }\n",
       "\n",
       "    .dataframe tbody tr th {\n",
       "        vertical-align: top;\n",
       "    }\n",
       "\n",
       "    .dataframe thead th {\n",
       "        text-align: right;\n",
       "    }\n",
       "</style>\n",
       "<table border=\"1\" class=\"dataframe\">\n",
       "  <thead>\n",
       "    <tr style=\"text-align: right;\">\n",
       "      <th></th>\n",
       "      <th>Customer_ID</th>\n",
       "      <th>months_as_customer</th>\n",
       "      <th>age</th>\n",
       "      <th>insured_sex</th>\n",
       "      <th>insured_education_level</th>\n",
       "      <th>insured_occupation</th>\n",
       "      <th>insured_hobbies</th>\n",
       "      <th>insured_relationship</th>\n",
       "      <th>capital-gains</th>\n",
       "      <th>capital-loss</th>\n",
       "      <th>...</th>\n",
       "      <th>incident_severity</th>\n",
       "      <th>authorities_contacted</th>\n",
       "      <th>incident_state</th>\n",
       "      <th>incident_city</th>\n",
       "      <th>witnesses</th>\n",
       "      <th>police_report_available</th>\n",
       "      <th>auto_make</th>\n",
       "      <th>auto_model</th>\n",
       "      <th>auto_year</th>\n",
       "      <th>_c39</th>\n",
       "    </tr>\n",
       "  </thead>\n",
       "  <tbody>\n",
       "    <tr>\n",
       "      <th>0</th>\n",
       "      <td>Customer_521</td>\n",
       "      <td>5</td>\n",
       "      <td>26</td>\n",
       "      <td>FEMALE</td>\n",
       "      <td>PhD</td>\n",
       "      <td>farming-fishing</td>\n",
       "      <td>skydiving</td>\n",
       "      <td>not-in-family</td>\n",
       "      <td>31500</td>\n",
       "      <td>0</td>\n",
       "      <td>...</td>\n",
       "      <td>Total Loss</td>\n",
       "      <td>Ambulance</td>\n",
       "      <td>WV</td>\n",
       "      <td>Springfield</td>\n",
       "      <td>3</td>\n",
       "      <td>?</td>\n",
       "      <td>Audi</td>\n",
       "      <td>A5</td>\n",
       "      <td>2003</td>\n",
       "      <td>NaN</td>\n",
       "    </tr>\n",
       "    <tr>\n",
       "      <th>1</th>\n",
       "      <td>Customer_737</td>\n",
       "      <td>160</td>\n",
       "      <td>33</td>\n",
       "      <td>FEMALE</td>\n",
       "      <td>High School</td>\n",
       "      <td>exec-managerial</td>\n",
       "      <td>exercise</td>\n",
       "      <td>husband</td>\n",
       "      <td>61600</td>\n",
       "      <td>0</td>\n",
       "      <td>...</td>\n",
       "      <td>Total Loss</td>\n",
       "      <td>Ambulance</td>\n",
       "      <td>NC</td>\n",
       "      <td>Riverwood</td>\n",
       "      <td>3</td>\n",
       "      <td>YES</td>\n",
       "      <td>Nissan</td>\n",
       "      <td>Pathfinder</td>\n",
       "      <td>2006</td>\n",
       "      <td>NaN</td>\n",
       "    </tr>\n",
       "    <tr>\n",
       "      <th>2</th>\n",
       "      <td>Customer_740</td>\n",
       "      <td>385</td>\n",
       "      <td>51</td>\n",
       "      <td>FEMALE</td>\n",
       "      <td>MD</td>\n",
       "      <td>craft-repair</td>\n",
       "      <td>reading</td>\n",
       "      <td>husband</td>\n",
       "      <td>0</td>\n",
       "      <td>-61000</td>\n",
       "      <td>...</td>\n",
       "      <td>Minor Damage</td>\n",
       "      <td>Other</td>\n",
       "      <td>WV</td>\n",
       "      <td>Riverwood</td>\n",
       "      <td>3</td>\n",
       "      <td>?</td>\n",
       "      <td>Suburu</td>\n",
       "      <td>Legacy</td>\n",
       "      <td>2007</td>\n",
       "      <td>NaN</td>\n",
       "    </tr>\n",
       "    <tr>\n",
       "      <th>3</th>\n",
       "      <td>Customer_660</td>\n",
       "      <td>446</td>\n",
       "      <td>57</td>\n",
       "      <td>MALE</td>\n",
       "      <td>College</td>\n",
       "      <td>adm-clerical</td>\n",
       "      <td>sleeping</td>\n",
       "      <td>unmarried</td>\n",
       "      <td>42700</td>\n",
       "      <td>-64900</td>\n",
       "      <td>...</td>\n",
       "      <td>Total Loss</td>\n",
       "      <td>Police</td>\n",
       "      <td>SC</td>\n",
       "      <td>Northbrook</td>\n",
       "      <td>0</td>\n",
       "      <td>NO</td>\n",
       "      <td>Jeep</td>\n",
       "      <td>Wrangler</td>\n",
       "      <td>2012</td>\n",
       "      <td>NaN</td>\n",
       "    </tr>\n",
       "    <tr>\n",
       "      <th>4</th>\n",
       "      <td>Customer_411</td>\n",
       "      <td>84</td>\n",
       "      <td>29</td>\n",
       "      <td>FEMALE</td>\n",
       "      <td>High School</td>\n",
       "      <td>machine-op-inspct</td>\n",
       "      <td>video-games</td>\n",
       "      <td>not-in-family</td>\n",
       "      <td>0</td>\n",
       "      <td>-29900</td>\n",
       "      <td>...</td>\n",
       "      <td>Trivial Damage</td>\n",
       "      <td>Police</td>\n",
       "      <td>SC</td>\n",
       "      <td>Arlington</td>\n",
       "      <td>0</td>\n",
       "      <td>YES</td>\n",
       "      <td>BMW</td>\n",
       "      <td>3 Series</td>\n",
       "      <td>2005</td>\n",
       "      <td>NaN</td>\n",
       "    </tr>\n",
       "  </tbody>\n",
       "</table>\n",
       "<p>5 rows × 36 columns</p>\n",
       "</div>"
      ],
      "text/plain": [
       "    Customer_ID  months_as_customer  age insured_sex insured_education_level  \\\n",
       "0  Customer_521                   5   26      FEMALE                     PhD   \n",
       "1  Customer_737                 160   33      FEMALE             High School   \n",
       "2  Customer_740                 385   51      FEMALE                      MD   \n",
       "3  Customer_660                 446   57        MALE                 College   \n",
       "4  Customer_411                  84   29      FEMALE             High School   \n",
       "\n",
       "  insured_occupation insured_hobbies insured_relationship  capital-gains  \\\n",
       "0    farming-fishing       skydiving        not-in-family          31500   \n",
       "1    exec-managerial        exercise              husband          61600   \n",
       "2       craft-repair         reading              husband              0   \n",
       "3       adm-clerical        sleeping            unmarried          42700   \n",
       "4  machine-op-inspct     video-games        not-in-family              0   \n",
       "\n",
       "   capital-loss  ...  incident_severity authorities_contacted incident_state  \\\n",
       "0             0  ...         Total Loss             Ambulance             WV   \n",
       "1             0  ...         Total Loss             Ambulance             NC   \n",
       "2        -61000  ...       Minor Damage                 Other             WV   \n",
       "3        -64900  ...         Total Loss                Police             SC   \n",
       "4        -29900  ...     Trivial Damage                Police             SC   \n",
       "\n",
       "  incident_city  witnesses police_report_available  auto_make  auto_model  \\\n",
       "0   Springfield          3                       ?       Audi          A5   \n",
       "1     Riverwood          3                     YES     Nissan  Pathfinder   \n",
       "2     Riverwood          3                       ?     Suburu      Legacy   \n",
       "3    Northbrook          0                      NO       Jeep    Wrangler   \n",
       "4     Arlington          0                     YES        BMW    3 Series   \n",
       "\n",
       "  auto_year  _c39  \n",
       "0      2003   NaN  \n",
       "1      2006   NaN  \n",
       "2      2007   NaN  \n",
       "3      2012   NaN  \n",
       "4      2005   NaN  \n",
       "\n",
       "[5 rows x 36 columns]"
      ]
     },
     "execution_count": 62,
     "metadata": {},
     "output_type": "execute_result"
    }
   ],
   "source": [
    "# Loading the test data and drop 'Customer_ID' becos it won't be useful\n",
    "test_dataset = pd.read_csv('test.csv')\n",
    "#index_col = test_dataset['Customer_ID']\n",
    "#data.drop(['Customer_ID'], axis ='columns', inplace= True)\n",
    "#test_dataset.drop(['Customer_ID'], axis ='columns', inplace= True)\n",
    "test_dataset.head()"
   ]
  },
  {
   "cell_type": "code",
   "execution_count": 63,
   "metadata": {},
   "outputs": [
    {
     "data": {
      "text/plain": [
       "(300, 36)"
      ]
     },
     "execution_count": 63,
     "metadata": {},
     "output_type": "execute_result"
    }
   ],
   "source": [
    "test_dataset.shape"
   ]
  },
  {
   "cell_type": "code",
   "execution_count": 64,
   "metadata": {},
   "outputs": [
    {
     "data": {
      "text/html": [
       "<div>\n",
       "<style scoped>\n",
       "    .dataframe tbody tr th:only-of-type {\n",
       "        vertical-align: middle;\n",
       "    }\n",
       "\n",
       "    .dataframe tbody tr th {\n",
       "        vertical-align: top;\n",
       "    }\n",
       "\n",
       "    .dataframe thead th {\n",
       "        text-align: right;\n",
       "    }\n",
       "</style>\n",
       "<table border=\"1\" class=\"dataframe\">\n",
       "  <thead>\n",
       "    <tr style=\"text-align: right;\">\n",
       "      <th></th>\n",
       "      <th>Customer_ID</th>\n",
       "      <th>months_as_customer</th>\n",
       "      <th>age</th>\n",
       "      <th>insured_sex</th>\n",
       "      <th>insured_education_level</th>\n",
       "      <th>insured_occupation</th>\n",
       "      <th>insured_hobbies</th>\n",
       "      <th>insured_relationship</th>\n",
       "      <th>capital-gains</th>\n",
       "      <th>capital-loss</th>\n",
       "      <th>...</th>\n",
       "      <th>authorities_contacted</th>\n",
       "      <th>incident_state</th>\n",
       "      <th>incident_city</th>\n",
       "      <th>witnesses</th>\n",
       "      <th>police_report_available</th>\n",
       "      <th>auto_make</th>\n",
       "      <th>auto_model</th>\n",
       "      <th>auto_year</th>\n",
       "      <th>_c39</th>\n",
       "      <th>total_claim_amount</th>\n",
       "    </tr>\n",
       "  </thead>\n",
       "  <tbody>\n",
       "    <tr>\n",
       "      <th>0</th>\n",
       "      <td>Customer_541</td>\n",
       "      <td>239</td>\n",
       "      <td>41</td>\n",
       "      <td>FEMALE</td>\n",
       "      <td>JD</td>\n",
       "      <td>farming-fishing</td>\n",
       "      <td>paintball</td>\n",
       "      <td>other-relative</td>\n",
       "      <td>51400</td>\n",
       "      <td>-6300</td>\n",
       "      <td>...</td>\n",
       "      <td>Police</td>\n",
       "      <td>NC</td>\n",
       "      <td>Arlington</td>\n",
       "      <td>2</td>\n",
       "      <td>YES</td>\n",
       "      <td>Mercedes</td>\n",
       "      <td>E400</td>\n",
       "      <td>2013</td>\n",
       "      <td>NaN</td>\n",
       "      <td>14386.67</td>\n",
       "    </tr>\n",
       "    <tr>\n",
       "      <th>1</th>\n",
       "      <td>Customer_440</td>\n",
       "      <td>108</td>\n",
       "      <td>31</td>\n",
       "      <td>MALE</td>\n",
       "      <td>Masters</td>\n",
       "      <td>protective-serv</td>\n",
       "      <td>yachting</td>\n",
       "      <td>not-in-family</td>\n",
       "      <td>0</td>\n",
       "      <td>0</td>\n",
       "      <td>...</td>\n",
       "      <td>Fire</td>\n",
       "      <td>NY</td>\n",
       "      <td>Columbus</td>\n",
       "      <td>2</td>\n",
       "      <td>NO</td>\n",
       "      <td>Dodge</td>\n",
       "      <td>Neon</td>\n",
       "      <td>2006</td>\n",
       "      <td>NaN</td>\n",
       "      <td>76440.00</td>\n",
       "    </tr>\n",
       "    <tr>\n",
       "      <th>2</th>\n",
       "      <td>Customer_482</td>\n",
       "      <td>116</td>\n",
       "      <td>30</td>\n",
       "      <td>MALE</td>\n",
       "      <td>JD</td>\n",
       "      <td>handlers-cleaners</td>\n",
       "      <td>golf</td>\n",
       "      <td>not-in-family</td>\n",
       "      <td>0</td>\n",
       "      <td>-35500</td>\n",
       "      <td>...</td>\n",
       "      <td>Other</td>\n",
       "      <td>WV</td>\n",
       "      <td>Riverwood</td>\n",
       "      <td>3</td>\n",
       "      <td>?</td>\n",
       "      <td>Volkswagen</td>\n",
       "      <td>Passat</td>\n",
       "      <td>2004</td>\n",
       "      <td>NaN</td>\n",
       "      <td>79560.00</td>\n",
       "    </tr>\n",
       "    <tr>\n",
       "      <th>3</th>\n",
       "      <td>Customer_422</td>\n",
       "      <td>8</td>\n",
       "      <td>21</td>\n",
       "      <td>MALE</td>\n",
       "      <td>High School</td>\n",
       "      <td>handlers-cleaners</td>\n",
       "      <td>hiking</td>\n",
       "      <td>husband</td>\n",
       "      <td>0</td>\n",
       "      <td>0</td>\n",
       "      <td>...</td>\n",
       "      <td>Other</td>\n",
       "      <td>WV</td>\n",
       "      <td>Columbus</td>\n",
       "      <td>0</td>\n",
       "      <td>?</td>\n",
       "      <td>Toyota</td>\n",
       "      <td>Corolla</td>\n",
       "      <td>2012</td>\n",
       "      <td>NaN</td>\n",
       "      <td>121680.00</td>\n",
       "    </tr>\n",
       "    <tr>\n",
       "      <th>4</th>\n",
       "      <td>Customer_778</td>\n",
       "      <td>161</td>\n",
       "      <td>38</td>\n",
       "      <td>MALE</td>\n",
       "      <td>PhD</td>\n",
       "      <td>priv-house-serv</td>\n",
       "      <td>exercise</td>\n",
       "      <td>not-in-family</td>\n",
       "      <td>60200</td>\n",
       "      <td>0</td>\n",
       "      <td>...</td>\n",
       "      <td>Police</td>\n",
       "      <td>WV</td>\n",
       "      <td>Springfield</td>\n",
       "      <td>2</td>\n",
       "      <td>YES</td>\n",
       "      <td>Volkswagen</td>\n",
       "      <td>Jetta</td>\n",
       "      <td>2003</td>\n",
       "      <td>NaN</td>\n",
       "      <td>80640.00</td>\n",
       "    </tr>\n",
       "  </tbody>\n",
       "</table>\n",
       "<p>5 rows × 37 columns</p>\n",
       "</div>"
      ],
      "text/plain": [
       "    Customer_ID  months_as_customer  age insured_sex insured_education_level  \\\n",
       "0  Customer_541                 239   41      FEMALE                      JD   \n",
       "1  Customer_440                 108   31        MALE                 Masters   \n",
       "2  Customer_482                 116   30        MALE                      JD   \n",
       "3  Customer_422                   8   21        MALE             High School   \n",
       "4  Customer_778                 161   38        MALE                     PhD   \n",
       "\n",
       "  insured_occupation insured_hobbies insured_relationship  capital-gains  \\\n",
       "0    farming-fishing       paintball       other-relative          51400   \n",
       "1    protective-serv        yachting        not-in-family              0   \n",
       "2  handlers-cleaners            golf        not-in-family              0   \n",
       "3  handlers-cleaners          hiking              husband              0   \n",
       "4    priv-house-serv        exercise        not-in-family          60200   \n",
       "\n",
       "   capital-loss  ...  authorities_contacted incident_state incident_city  \\\n",
       "0         -6300  ...                 Police             NC     Arlington   \n",
       "1             0  ...                   Fire             NY      Columbus   \n",
       "2        -35500  ...                  Other             WV     Riverwood   \n",
       "3             0  ...                  Other             WV      Columbus   \n",
       "4             0  ...                 Police             WV   Springfield   \n",
       "\n",
       "  witnesses  police_report_available   auto_make  auto_model  auto_year _c39  \\\n",
       "0         2                      YES    Mercedes        E400       2013  NaN   \n",
       "1         2                       NO       Dodge        Neon       2006  NaN   \n",
       "2         3                        ?  Volkswagen      Passat       2004  NaN   \n",
       "3         0                        ?      Toyota     Corolla       2012  NaN   \n",
       "4         2                      YES  Volkswagen       Jetta       2003  NaN   \n",
       "\n",
       "   total_claim_amount  \n",
       "0            14386.67  \n",
       "1            76440.00  \n",
       "2            79560.00  \n",
       "3           121680.00  \n",
       "4            80640.00  \n",
       "\n",
       "[5 rows x 37 columns]"
      ]
     },
     "execution_count": 64,
     "metadata": {},
     "output_type": "execute_result"
    }
   ],
   "source": [
    "## Concatenate train_test and test_data to data\n",
    "data = pd.concat((train_dataset, test_dataset)).reset_index(drop=True)\n",
    "data.head()"
   ]
  },
  {
   "cell_type": "code",
   "execution_count": 65,
   "metadata": {},
   "outputs": [
    {
     "data": {
      "text/plain": [
       "(1000, 37)"
      ]
     },
     "execution_count": 65,
     "metadata": {},
     "output_type": "execute_result"
    }
   ],
   "source": [
    "data.shape"
   ]
  },
  {
   "cell_type": "code",
   "execution_count": 66,
   "metadata": {},
   "outputs": [
    {
     "data": {
      "text/plain": [
       "Customer_ID                       0\n",
       "months_as_customer                0\n",
       "age                               0\n",
       "insured_sex                       0\n",
       "insured_education_level           0\n",
       "insured_occupation                0\n",
       "insured_hobbies                   0\n",
       "insured_relationship              0\n",
       "capital-gains                     0\n",
       "capital-loss                      0\n",
       "policy_number                     0\n",
       "policy_bind_date                  0\n",
       "policy_state                      0\n",
       "policy_csl                        0\n",
       "policy_deductable                 0\n",
       "incident_location                 0\n",
       "incident_hour_of_the_day          0\n",
       "number_of_vehicles_involved       0\n",
       "property_damage                   0\n",
       "bodily_injuries                   0\n",
       "policy_annual_premium             0\n",
       "umbrella_limit                    0\n",
       "insured_zip                       0\n",
       "incident_date                     0\n",
       "incident_type                     0\n",
       "collision_type                    0\n",
       "incident_severity                 0\n",
       "authorities_contacted             0\n",
       "incident_state                    0\n",
       "incident_city                     0\n",
       "witnesses                         0\n",
       "police_report_available           0\n",
       "auto_make                         0\n",
       "auto_model                        0\n",
       "auto_year                         0\n",
       "_c39                           1000\n",
       "total_claim_amount              300\n",
       "dtype: int64"
      ]
     },
     "execution_count": 66,
     "metadata": {},
     "output_type": "execute_result"
    }
   ],
   "source": [
    "## Deal with null values\n",
    "#data.isnull().sum().sort_values(ascending=False)\n",
    "data.isnull().sum()"
   ]
  },
  {
   "cell_type": "code",
   "execution_count": 67,
   "metadata": {},
   "outputs": [
    {
     "name": "stdout",
     "output_type": "stream",
     "text": [
      "_c39                  1000\n",
      "total_claim_amount     300\n",
      "dtype: int64\n"
     ]
    }
   ],
   "source": [
    "missing_val_count_by_column = (data.isnull().sum())\n",
    "print(missing_val_count_by_column[missing_val_count_by_column > 0])"
   ]
  },
  {
   "cell_type": "code",
   "execution_count": 68,
   "metadata": {},
   "outputs": [],
   "source": [
    "## Drop _c39 coulmn, the column has no values at all\n",
    "data = data.drop('_c39', axis = 1)\n",
    "##Use the mean() method on all the null values\n",
    "#missing_col = ['total_claim_amount']\n",
    "#Technique 1: Using mean to impute the missing values\n",
    "#for i in missing_col:\n",
    "#    data.loc[data.loc[:,i].isnull(),i]=data.loc[:,i].mean()"
   ]
  },
  {
   "cell_type": "code",
   "execution_count": 69,
   "metadata": {},
   "outputs": [
    {
     "data": {
      "text/plain": [
       "total_claim_amount             300\n",
       "auto_year                        0\n",
       "incident_location                0\n",
       "policy_deductable                0\n",
       "policy_csl                       0\n",
       "policy_state                     0\n",
       "policy_bind_date                 0\n",
       "policy_number                    0\n",
       "capital-loss                     0\n",
       "capital-gains                    0\n",
       "insured_relationship             0\n",
       "insured_hobbies                  0\n",
       "insured_occupation               0\n",
       "insured_education_level          0\n",
       "insured_sex                      0\n",
       "age                              0\n",
       "months_as_customer               0\n",
       "incident_hour_of_the_day         0\n",
       "number_of_vehicles_involved      0\n",
       "property_damage                  0\n",
       "authorities_contacted            0\n",
       "auto_model                       0\n",
       "auto_make                        0\n",
       "police_report_available          0\n",
       "witnesses                        0\n",
       "incident_city                    0\n",
       "incident_state                   0\n",
       "incident_severity                0\n",
       "bodily_injuries                  0\n",
       "collision_type                   0\n",
       "incident_type                    0\n",
       "incident_date                    0\n",
       "insured_zip                      0\n",
       "umbrella_limit                   0\n",
       "policy_annual_premium            0\n",
       "Customer_ID                      0\n",
       "dtype: int64"
      ]
     },
     "execution_count": 69,
     "metadata": {},
     "output_type": "execute_result"
    }
   ],
   "source": [
    "##All the missing values is replaced\n",
    "data.isnull().sum().sort_values(ascending=False)"
   ]
  },
  {
   "cell_type": "code",
   "execution_count": 70,
   "metadata": {},
   "outputs": [
    {
     "data": {
      "text/plain": [
       "(1000, 36)"
      ]
     },
     "execution_count": 70,
     "metadata": {},
     "output_type": "execute_result"
    }
   ],
   "source": [
    "data.shape"
   ]
  },
  {
   "cell_type": "code",
   "execution_count": 71,
   "metadata": {},
   "outputs": [
    {
     "name": "stdout",
     "output_type": "stream",
     "text": [
      "<class 'pandas.core.frame.DataFrame'>\n",
      "RangeIndex: 1000 entries, 0 to 999\n",
      "Data columns (total 36 columns):\n",
      " #   Column                       Non-Null Count  Dtype  \n",
      "---  ------                       --------------  -----  \n",
      " 0   Customer_ID                  1000 non-null   object \n",
      " 1   months_as_customer           1000 non-null   int64  \n",
      " 2   age                          1000 non-null   int64  \n",
      " 3   insured_sex                  1000 non-null   object \n",
      " 4   insured_education_level      1000 non-null   object \n",
      " 5   insured_occupation           1000 non-null   object \n",
      " 6   insured_hobbies              1000 non-null   object \n",
      " 7   insured_relationship         1000 non-null   object \n",
      " 8   capital-gains                1000 non-null   int64  \n",
      " 9   capital-loss                 1000 non-null   int64  \n",
      " 10  policy_number                1000 non-null   int64  \n",
      " 11  policy_bind_date             1000 non-null   object \n",
      " 12  policy_state                 1000 non-null   object \n",
      " 13  policy_csl                   1000 non-null   object \n",
      " 14  policy_deductable            1000 non-null   int64  \n",
      " 15  incident_location            1000 non-null   object \n",
      " 16  incident_hour_of_the_day     1000 non-null   int64  \n",
      " 17  number_of_vehicles_involved  1000 non-null   int64  \n",
      " 18  property_damage              1000 non-null   object \n",
      " 19  bodily_injuries              1000 non-null   int64  \n",
      " 20  policy_annual_premium        1000 non-null   float64\n",
      " 21  umbrella_limit               1000 non-null   int64  \n",
      " 22  insured_zip                  1000 non-null   int64  \n",
      " 23  incident_date                1000 non-null   object \n",
      " 24  incident_type                1000 non-null   object \n",
      " 25  collision_type               1000 non-null   object \n",
      " 26  incident_severity            1000 non-null   object \n",
      " 27  authorities_contacted        1000 non-null   object \n",
      " 28  incident_state               1000 non-null   object \n",
      " 29  incident_city                1000 non-null   object \n",
      " 30  witnesses                    1000 non-null   int64  \n",
      " 31  police_report_available      1000 non-null   object \n",
      " 32  auto_make                    1000 non-null   object \n",
      " 33  auto_model                   1000 non-null   object \n",
      " 34  auto_year                    1000 non-null   int64  \n",
      " 35  total_claim_amount           700 non-null    float64\n",
      "dtypes: float64(2), int64(13), object(21)\n",
      "memory usage: 281.4+ KB\n"
     ]
    }
   ],
   "source": [
    "data.info()"
   ]
  },
  {
   "cell_type": "code",
   "execution_count": 72,
   "metadata": {},
   "outputs": [
    {
     "name": "stdout",
     "output_type": "stream",
     "text": [
      "['Customer_ID', 'insured_sex', 'insured_education_level', 'insured_occupation', 'insured_hobbies', 'insured_relationship', 'policy_bind_date', 'policy_state', 'policy_csl', 'incident_location', 'property_damage', 'incident_date', 'incident_type', 'collision_type', 'incident_severity', 'authorities_contacted', 'incident_state', 'incident_city', 'police_report_available', 'auto_make', 'auto_model']\n"
     ]
    }
   ],
   "source": [
    "## Categorical data\n",
    "categorical = (data.dtypes == \"object\")\n",
    "categorical_list = list(categorical[categorical].index)\n",
    "print(categorical_list)"
   ]
  },
  {
   "cell_type": "code",
   "execution_count": 73,
   "metadata": {},
   "outputs": [],
   "source": [
    "##Here I feel we can drop some features ie. “region” because they are not much important for prediction.\n",
    "#Dropping least important features of the dataset\n",
    "#data = data.drop(['insured_education_level', 'insured_occupation', 'insured_hobbies'], axis=1)"
   ]
  },
  {
   "cell_type": "code",
   "execution_count": 74,
   "metadata": {},
   "outputs": [],
   "source": [
    "## Categorical data\n",
    "#categorical = (data.dtypes == \"object\")\n",
    "#categorical_list = list(categorical[categorical].index)\n",
    "#print(categorical_list)"
   ]
  },
  {
   "cell_type": "code",
   "execution_count": 75,
   "metadata": {},
   "outputs": [],
   "source": [
    "from sklearn.preprocessing import LabelEncoder\n",
    "le = LabelEncoder()\n",
    "data['insured_sex'] = le.fit_transform(data['insured_sex'])\n",
    "data['insured_education_level'] = le.fit_transform(data['insured_education_level'])\n",
    "data['insured_occupation'] = le.fit_transform(data['insured_occupation'])\n",
    "data['insured_hobbies'] = le.fit_transform(data['insured_hobbies'])\n",
    "data['insured_relationship'] = le.fit_transform(data['insured_relationship'])\n",
    "data['policy_bind_date'] = le.fit_transform(data['policy_bind_date'])\n",
    "data['policy_state'] = le.fit_transform(data['policy_state'])\n",
    "data['policy_csl'] = le.fit_transform(data['policy_csl'])\n",
    "data['incident_location'] = le.fit_transform(data['incident_location'])\n",
    "data['property_damage'] = le.fit_transform(data['property_damage'])\n",
    "data['incident_date'] = le.fit_transform(data['incident_date'])\n",
    "data['incident_type'] = le.fit_transform(data['incident_type'])\n",
    "data['collision_type'] = le.fit_transform(data['collision_type'])\n",
    "data['incident_severity'] = le.fit_transform(data['incident_severity'])\n",
    "data['authorities_contacted'] = le.fit_transform(data['authorities_contacted'])\n",
    "data['incident_state'] = le.fit_transform(data['incident_state'])\n",
    "data['incident_city'] = le.fit_transform(data['incident_city'])\n",
    "data['police_report_available'] = le.fit_transform(data['police_report_available'])\n",
    "data['auto_make'] = le.fit_transform(data['auto_make'])\n",
    "data['auto_model'] = le.fit_transform(data['auto_model'])"
   ]
  },
  {
   "cell_type": "code",
   "execution_count": 76,
   "metadata": {},
   "outputs": [
    {
     "name": "stdout",
     "output_type": "stream",
     "text": [
      "<class 'pandas.core.frame.DataFrame'>\n",
      "RangeIndex: 1000 entries, 0 to 999\n",
      "Data columns (total 36 columns):\n",
      " #   Column                       Non-Null Count  Dtype  \n",
      "---  ------                       --------------  -----  \n",
      " 0   Customer_ID                  1000 non-null   object \n",
      " 1   months_as_customer           1000 non-null   int64  \n",
      " 2   age                          1000 non-null   int64  \n",
      " 3   insured_sex                  1000 non-null   int64  \n",
      " 4   insured_education_level      1000 non-null   int64  \n",
      " 5   insured_occupation           1000 non-null   int64  \n",
      " 6   insured_hobbies              1000 non-null   int64  \n",
      " 7   insured_relationship         1000 non-null   int64  \n",
      " 8   capital-gains                1000 non-null   int64  \n",
      " 9   capital-loss                 1000 non-null   int64  \n",
      " 10  policy_number                1000 non-null   int64  \n",
      " 11  policy_bind_date             1000 non-null   int64  \n",
      " 12  policy_state                 1000 non-null   int64  \n",
      " 13  policy_csl                   1000 non-null   int64  \n",
      " 14  policy_deductable            1000 non-null   int64  \n",
      " 15  incident_location            1000 non-null   int64  \n",
      " 16  incident_hour_of_the_day     1000 non-null   int64  \n",
      " 17  number_of_vehicles_involved  1000 non-null   int64  \n",
      " 18  property_damage              1000 non-null   int64  \n",
      " 19  bodily_injuries              1000 non-null   int64  \n",
      " 20  policy_annual_premium        1000 non-null   float64\n",
      " 21  umbrella_limit               1000 non-null   int64  \n",
      " 22  insured_zip                  1000 non-null   int64  \n",
      " 23  incident_date                1000 non-null   int64  \n",
      " 24  incident_type                1000 non-null   int64  \n",
      " 25  collision_type               1000 non-null   int64  \n",
      " 26  incident_severity            1000 non-null   int64  \n",
      " 27  authorities_contacted        1000 non-null   int64  \n",
      " 28  incident_state               1000 non-null   int64  \n",
      " 29  incident_city                1000 non-null   int64  \n",
      " 30  witnesses                    1000 non-null   int64  \n",
      " 31  police_report_available      1000 non-null   int64  \n",
      " 32  auto_make                    1000 non-null   int64  \n",
      " 33  auto_model                   1000 non-null   int64  \n",
      " 34  auto_year                    1000 non-null   int64  \n",
      " 35  total_claim_amount           700 non-null    float64\n",
      "dtypes: float64(2), int64(33), object(1)\n",
      "memory usage: 281.4+ KB\n"
     ]
    }
   ],
   "source": [
    "data.info(20)"
   ]
  },
  {
   "cell_type": "code",
   "execution_count": 77,
   "metadata": {},
   "outputs": [
    {
     "name": "stdout",
     "output_type": "stream",
     "text": [
      "(700, 36)\n",
      "(300, 36)\n"
     ]
    }
   ],
   "source": [
    "## Split the data into train and test data\n",
    "train_data=data[:700]\n",
    "test_data=data[700:]\n",
    "\n",
    "print(train_data.shape)\n",
    "print(test_data.shape)"
   ]
  },
  {
   "cell_type": "code",
   "execution_count": 78,
   "metadata": {},
   "outputs": [
    {
     "name": "stdout",
     "output_type": "stream",
     "text": [
      "<class 'pandas.core.frame.DataFrame'>\n",
      "RangeIndex: 700 entries, 0 to 699\n",
      "Data columns (total 35 columns):\n",
      " #   Column                       Non-Null Count  Dtype  \n",
      "---  ------                       --------------  -----  \n",
      " 0   months_as_customer           700 non-null    int64  \n",
      " 1   age                          700 non-null    int64  \n",
      " 2   insured_sex                  700 non-null    int64  \n",
      " 3   insured_education_level      700 non-null    int64  \n",
      " 4   insured_occupation           700 non-null    int64  \n",
      " 5   insured_hobbies              700 non-null    int64  \n",
      " 6   insured_relationship         700 non-null    int64  \n",
      " 7   capital-gains                700 non-null    int64  \n",
      " 8   capital-loss                 700 non-null    int64  \n",
      " 9   policy_number                700 non-null    int64  \n",
      " 10  policy_bind_date             700 non-null    int64  \n",
      " 11  policy_state                 700 non-null    int64  \n",
      " 12  policy_csl                   700 non-null    int64  \n",
      " 13  policy_deductable            700 non-null    int64  \n",
      " 14  incident_location            700 non-null    int64  \n",
      " 15  incident_hour_of_the_day     700 non-null    int64  \n",
      " 16  number_of_vehicles_involved  700 non-null    int64  \n",
      " 17  property_damage              700 non-null    int64  \n",
      " 18  bodily_injuries              700 non-null    int64  \n",
      " 19  policy_annual_premium        700 non-null    float64\n",
      " 20  umbrella_limit               700 non-null    int64  \n",
      " 21  insured_zip                  700 non-null    int64  \n",
      " 22  incident_date                700 non-null    int64  \n",
      " 23  incident_type                700 non-null    int64  \n",
      " 24  collision_type               700 non-null    int64  \n",
      " 25  incident_severity            700 non-null    int64  \n",
      " 26  authorities_contacted        700 non-null    int64  \n",
      " 27  incident_state               700 non-null    int64  \n",
      " 28  incident_city                700 non-null    int64  \n",
      " 29  witnesses                    700 non-null    int64  \n",
      " 30  police_report_available      700 non-null    int64  \n",
      " 31  auto_make                    700 non-null    int64  \n",
      " 32  auto_model                   700 non-null    int64  \n",
      " 33  auto_year                    700 non-null    int64  \n",
      " 34  total_claim_amount           700 non-null    float64\n",
      "dtypes: float64(2), int64(33)\n",
      "memory usage: 191.5 KB\n"
     ]
    },
    {
     "name": "stderr",
     "output_type": "stream",
     "text": [
      "/Applications/anaconda3/lib/python3.8/site-packages/pandas/core/frame.py:4163: SettingWithCopyWarning: \n",
      "A value is trying to be set on a copy of a slice from a DataFrame\n",
      "\n",
      "See the caveats in the documentation: https://pandas.pydata.org/pandas-docs/stable/user_guide/indexing.html#returning-a-view-versus-a-copy\n",
      "  return super().drop(\n"
     ]
    }
   ],
   "source": [
    "train_data.drop(['Customer_ID'], axis ='columns', inplace= True)\n",
    "train_data.info()"
   ]
  },
  {
   "cell_type": "code",
   "execution_count": 79,
   "metadata": {},
   "outputs": [
    {
     "name": "stdout",
     "output_type": "stream",
     "text": [
      "<class 'pandas.core.frame.DataFrame'>\n",
      "RangeIndex: 300 entries, 700 to 999\n",
      "Data columns (total 35 columns):\n",
      " #   Column                       Non-Null Count  Dtype  \n",
      "---  ------                       --------------  -----  \n",
      " 0   months_as_customer           300 non-null    int64  \n",
      " 1   age                          300 non-null    int64  \n",
      " 2   insured_sex                  300 non-null    int64  \n",
      " 3   insured_education_level      300 non-null    int64  \n",
      " 4   insured_occupation           300 non-null    int64  \n",
      " 5   insured_hobbies              300 non-null    int64  \n",
      " 6   insured_relationship         300 non-null    int64  \n",
      " 7   capital-gains                300 non-null    int64  \n",
      " 8   capital-loss                 300 non-null    int64  \n",
      " 9   policy_number                300 non-null    int64  \n",
      " 10  policy_bind_date             300 non-null    int64  \n",
      " 11  policy_state                 300 non-null    int64  \n",
      " 12  policy_csl                   300 non-null    int64  \n",
      " 13  policy_deductable            300 non-null    int64  \n",
      " 14  incident_location            300 non-null    int64  \n",
      " 15  incident_hour_of_the_day     300 non-null    int64  \n",
      " 16  number_of_vehicles_involved  300 non-null    int64  \n",
      " 17  property_damage              300 non-null    int64  \n",
      " 18  bodily_injuries              300 non-null    int64  \n",
      " 19  policy_annual_premium        300 non-null    float64\n",
      " 20  umbrella_limit               300 non-null    int64  \n",
      " 21  insured_zip                  300 non-null    int64  \n",
      " 22  incident_date                300 non-null    int64  \n",
      " 23  incident_type                300 non-null    int64  \n",
      " 24  collision_type               300 non-null    int64  \n",
      " 25  incident_severity            300 non-null    int64  \n",
      " 26  authorities_contacted        300 non-null    int64  \n",
      " 27  incident_state               300 non-null    int64  \n",
      " 28  incident_city                300 non-null    int64  \n",
      " 29  witnesses                    300 non-null    int64  \n",
      " 30  police_report_available      300 non-null    int64  \n",
      " 31  auto_make                    300 non-null    int64  \n",
      " 32  auto_model                   300 non-null    int64  \n",
      " 33  auto_year                    300 non-null    int64  \n",
      " 34  total_claim_amount           0 non-null      float64\n",
      "dtypes: float64(2), int64(33)\n",
      "memory usage: 82.2 KB\n"
     ]
    }
   ],
   "source": [
    "index_col = test_data['Customer_ID']\n",
    "test_data.drop(['Customer_ID'], axis ='columns', inplace= True)\n",
    "test_data.info()"
   ]
  },
  {
   "cell_type": "code",
   "execution_count": 80,
   "metadata": {},
   "outputs": [],
   "source": [
    "#test_data.drop(['Customer_ID'], axis ='columns', inplace= True)\n",
    "#test_data=test_data.drop(['total_claim_amount'], axis = 1).iloc[:-1].values\n",
    "#test_data=test_data.drop(['total_claim_amount'], axis = 1)\n",
    "#index_col = test_data['Customer_ID']\n",
    "#test_data.drop(['Customer_ID'], axis =1, inplace= True)"
   ]
  },
  {
   "cell_type": "code",
   "execution_count": 81,
   "metadata": {},
   "outputs": [],
   "source": [
    "#train_data.drop(['Customer_ID'], axis ='columns', inplace= True)\n",
    "#train_data.info()"
   ]
  },
  {
   "cell_type": "code",
   "execution_count": 82,
   "metadata": {},
   "outputs": [],
   "source": [
    "y = train_data['total_claim_amount']\n",
    "X = train_data.drop(['total_claim_amount'], axis = 1)\n",
    "#index_col = 'Customer_ID'\n",
    "test_data = test_data.drop(['total_claim_amount'], axis = 1)\n",
    "#test_data.info()"
   ]
  },
  {
   "cell_type": "code",
   "execution_count": 83,
   "metadata": {},
   "outputs": [
    {
     "name": "stdout",
     "output_type": "stream",
     "text": [
      "(700,) (700, 34) (300, 34)\n"
     ]
    }
   ],
   "source": [
    "print(y.shape, X.shape, test_data.shape)"
   ]
  },
  {
   "cell_type": "code",
   "execution_count": 84,
   "metadata": {},
   "outputs": [],
   "source": [
    "from sklearn.model_selection import train_test_split\n",
    "X_train, X_test, y_train, y_test = train_test_split(X, y, test_size = 0.2, random_state = 0)"
   ]
  },
  {
   "cell_type": "code",
   "execution_count": 85,
   "metadata": {},
   "outputs": [],
   "source": [
    "## Scale the data\n",
    "from sklearn.preprocessing import StandardScaler\n",
    "# creating a standard scaler\n",
    "sc = StandardScaler()\n",
    "# feeding independents sets into the standard scaler\n",
    "X_train = sc.fit_transform(X_train)\n",
    "X_test = sc.fit_transform(X_test)"
   ]
  },
  {
   "cell_type": "code",
   "execution_count": 86,
   "metadata": {},
   "outputs": [
    {
     "name": "stdout",
     "output_type": "stream",
     "text": [
      "(560, 34) (140, 34) (560,)\n"
     ]
    }
   ],
   "source": [
    "print(X_train.shape, X_test.shape, y_train.shape)"
   ]
  },
  {
   "cell_type": "code",
   "execution_count": 88,
   "metadata": {},
   "outputs": [
    {
     "name": "stdout",
     "output_type": "stream",
     "text": [
      "XGBRegressor(base_score=None, booster='gbtree', colsample_bylevel=None,\n",
      "             colsample_bynode=None, colsample_bytree=None, gamma=1, gpu_id=None,\n",
      "             importance_type='gain', interaction_constraints=None,\n",
      "             learning_rate=0.1, max_delta_step=None, max_depth=6,\n",
      "             min_child_weight=None, missing=nan, monotone_constraints=None,\n",
      "             n_estimators=100, n_jobs=-1, num_parallel_tree=None,\n",
      "             random_state=None, reg_alpha=None, reg_lambda=None,\n",
      "             scale_pos_weight=None, seed=123, subsample=0.5, tree_method=None,\n",
      "             validate_parameters=None, verbosity=0)\n"
     ]
    }
   ],
   "source": [
    "import xgboost as xgb\n",
    "from xgboost import XGBRegressor\n",
    "\n",
    "#xgbr = xgb.XGBRegressor(verbosity=0) \n",
    "\n",
    "xgbr = xgb.XGBRegressor(booster= 'gbtree', learning_rate=0.1, n_estimators=100, max_depth=6, objective ='reg:squarederror', \n",
    "                        seed = 123, gamma=1, subsample=0.5, verbosity=0, n_jobs=-1)\n",
    "print(xgbr)"
   ]
  },
  {
   "cell_type": "code",
   "execution_count": 89,
   "metadata": {},
   "outputs": [
    {
     "data": {
      "text/plain": [
       "XGBRegressor(base_score=0.5, booster='gbtree', colsample_bylevel=1,\n",
       "             colsample_bynode=1, colsample_bytree=1, gamma=1, gpu_id=-1,\n",
       "             importance_type='gain', interaction_constraints='',\n",
       "             learning_rate=0.1, max_delta_step=0, max_depth=6,\n",
       "             min_child_weight=1, missing=nan, monotone_constraints='()',\n",
       "             n_estimators=100, n_jobs=-1, num_parallel_tree=1, random_state=123,\n",
       "             reg_alpha=0, reg_lambda=1, scale_pos_weight=1, seed=123,\n",
       "             subsample=0.5, tree_method='exact', validate_parameters=1,\n",
       "             verbosity=0)"
      ]
     },
     "execution_count": 89,
     "metadata": {},
     "output_type": "execute_result"
    }
   ],
   "source": [
    "xgbr.fit(X_train,y_train)"
   ]
  },
  {
   "cell_type": "code",
   "execution_count": 90,
   "metadata": {},
   "outputs": [
    {
     "name": "stdout",
     "output_type": "stream",
     "text": [
      "[  9318.193   79097.414   93328.99    15159.88    75155.836   99009.21\n",
      "  88838.336   79148.016   82254.07    68628.484   72791.42    80876.62\n",
      "  75938.336   96413.92    90584.81    82525.2     81038.84    84637.74\n",
      "  87456.89    84271.03    71753.02    77030.65    88141.48    80143.55\n",
      "  99241.35    83167.516  100523.59     5579.5024  90100.51    90426.445\n",
      "  77338.09    87163.68    84102.36    75455.336   89819.125   82198.58\n",
      "  95605.8     15232.183   94292.4     88141.02    71519.08    84524.32\n",
      "  80885.59    93503.8     86118.516   94412.23    72411.59    81947.56\n",
      "  78898.48    68930.82    84501.734   78364.12    83128.414   87772.69\n",
      "  96971.36    72808.6     76498.04    99499.56    69196.73    13249.532\n",
      "  82021.54    85842.53    87959.57    20326.73   108420.63    74836.234\n",
      "  75794.27    92627.53    95948.82    93204.24    76619.94   100500.9\n",
      "  86752.19    81257.97   103771.1     79168.28     8549.538   92591.375\n",
      "  76344.62    76631.805   89350.47    72652.79    78665.38    87604.26\n",
      "  79471.55    75244.15   100581.76    97682.305    9191.558   16521.008\n",
      "  70970.586   91138.94     8419.761   87603.47    79167.82    73948.01\n",
      "  92248.805   79703.695   76152.67    86827.62    72525.56    10128.989\n",
      "  20032.352   80942.64    84767.336   94291.875   92816.35    92596.42\n",
      "  93696.42     1490.261   12816.6455  87896.2     79815.9     77923.52\n",
      "  76671.15     7891.074   79252.914    9362.73    69920.25    85264.83\n",
      "  86816.805   76129.445   92849.22    86524.6      9691.372   12030.662\n",
      "  91832.02    76718.59    90226.9     12008.693   14957.217   87204.04\n",
      "  95648.87    13700.366   85369.05    94647.93     7939.3384  88378.66\n",
      "  90281.99    97210.43  ]\n"
     ]
    }
   ],
   "source": [
    "y_pred_xgbr = xgbr.predict(X_test)\n",
    "print(y_pred_xgbr)"
   ]
  },
  {
   "cell_type": "code",
   "execution_count": 91,
   "metadata": {},
   "outputs": [
    {
     "data": {
      "text/plain": [
       "381144868.5876568"
      ]
     },
     "execution_count": 91,
     "metadata": {},
     "output_type": "execute_result"
    }
   ],
   "source": [
    "#from sklearn.metrics import mean_squared_error\n",
    "from sklearn import metrics #import accuracy_score,mean_squared_error, r2_score\n",
    "from math import sqrt\n",
    "\n",
    "MSE = metrics.mean_squared_error(y_test, y_pred_xgbr)\n",
    "MSE "
   ]
  },
  {
   "cell_type": "code",
   "execution_count": 92,
   "metadata": {},
   "outputs": [
    {
     "data": {
      "text/plain": [
       "19522.931864544753"
      ]
     },
     "execution_count": 92,
     "metadata": {},
     "output_type": "execute_result"
    }
   ],
   "source": [
    "RMSE = np.sqrt(MSE)\n",
    "RMSE"
   ]
  },
  {
   "cell_type": "code",
   "execution_count": 93,
   "metadata": {},
   "outputs": [],
   "source": [
    "y_pred_xgbr = xgbr.predict(test_data.values)\n",
    "\n",
    "submission = pd.DataFrame({'Customer_ID':index_col,'total_claim_amount':y_pred_xgbr})\n",
    "\n",
    "# Save results\n",
    "submission.to_csv(\"submission_xgbr_drop.csv\",index=False)"
   ]
  },
  {
   "cell_type": "code",
   "execution_count": 94,
   "metadata": {},
   "outputs": [
    {
     "name": "stdout",
     "output_type": "stream",
     "text": [
      "XGBRegressor(base_score=0.5, booster='gbtree', colsample_bylevel=1,\n",
      "             colsample_bynode=1, colsample_bytree=0.7, gamma=0, gpu_id=None,\n",
      "             importance_type='gain', interaction_constraints=None,\n",
      "             learning_rate=0.1, max_delta_step=0, max_depth=3,\n",
      "             min_child_weight=1, missing=None, monotone_constraints=None,\n",
      "             n_estimators=100, n_jobs=-1, nthread=None, num_parallel_tree=None,\n",
      "             random_state=0, reg_alpha=0, reg_lambda=1, scale_pos_weight=1,\n",
      "             seed=123, subsample=1, tree_method=None, validate_parameters=None,\n",
      "             verbosity=0)\n"
     ]
    }
   ],
   "source": [
    "import xgboost as xgb\n",
    "from xgboost import XGBRegressor\n",
    "\n",
    "#xgbr = xgb.XGBRegressor(verbosity=0) \n",
    "\n",
    "xgbr = xgb.XGBRegressor(booster= 'gbtree', nthread=None, learning_rate=0.1, n_estimators=100, max_depth=3, \n",
    "                        objective ='reg:squarederror', seed = 123, gamma=0, subsample=1, min_child_weight=1, \n",
    "                        max_delta_step=0, colsample_bytree=0.7, colsample_bylevel=1, \n",
    "                        colsample_bynode=1, reg_alpha=0, reg_lambda=1, scale_pos_weight=1, base_score=0.5, random_state=0,\n",
    "                        missing=None, importance_type='gain', verbosity=0, n_jobs=-1)\n",
    "print(xgbr)"
   ]
  },
  {
   "cell_type": "code",
   "execution_count": 95,
   "metadata": {},
   "outputs": [
    {
     "data": {
      "text/plain": [
       "XGBRegressor(base_score=0.5, booster='gbtree', colsample_bylevel=1,\n",
       "             colsample_bynode=1, colsample_bytree=0.7, gamma=0, gpu_id=-1,\n",
       "             importance_type='gain', interaction_constraints='',\n",
       "             learning_rate=0.1, max_delta_step=0, max_depth=3,\n",
       "             min_child_weight=1, missing=None, monotone_constraints='()',\n",
       "             n_estimators=100, n_jobs=-1, nthread=4, num_parallel_tree=1,\n",
       "             random_state=0, reg_alpha=0, reg_lambda=1, scale_pos_weight=1,\n",
       "             seed=123, subsample=1, tree_method='exact', validate_parameters=1,\n",
       "             verbosity=0)"
      ]
     },
     "execution_count": 95,
     "metadata": {},
     "output_type": "execute_result"
    }
   ],
   "source": [
    "xgbr.fit(X_train,y_train)"
   ]
  },
  {
   "cell_type": "code",
   "execution_count": 96,
   "metadata": {},
   "outputs": [
    {
     "name": "stdout",
     "output_type": "stream",
     "text": [
      "[ 13783.033   73634.234   91731.805   11767.13    77370.766   82801.5\n",
      "  86875.6     81610.57    83399.45    81243.13    78467.35    85892.54\n",
      "  91084.52   102847.555   87888.85    90349.06    81368.34    84757.695\n",
      "  82515.19    84447.52    73657.09    85962.28    76605.66    79217.7\n",
      "  91197.93    90174.8    101496.09    10617.978   82470.66    87232.164\n",
      "  79870.97    88964.97    83908.65    82266.84    94800.57    79391.04\n",
      "  82806.29    13468.15   101467.15    88021.73    80736.15    91845.95\n",
      "  82408.56    90579.83    93815.336   83014.055   75613.79    76457.805\n",
      "  83162.35    79703.68    84220.38    76812.65    82209.89    78226.98\n",
      "  85726.56    90329.68    69871.914   87295.69    78503.74    10870.869\n",
      "  80120.79    86265.81    93758.2      8489.422   95927.18    87854.266\n",
      "  81900.76    89924.27    88408.914   87925.164   93159.83    85784.414\n",
      "  82215.445   81658.77    90946.89    81310.5      5845.8306  81889.55\n",
      "  73301.65    90588.83    87569.14    70572.      79424.484   98803.266\n",
      "  79041.44    90865.766   87955.36    92256.445    8736.386   17849.977\n",
      "  78243.766   79736.79     2465.9763  84200.63    76182.25    79691.07\n",
      "  80761.586   84751.13    76499.17    96652.07    85512.82    12413.741\n",
      "  12312.674   78947.984   78938.31    96911.71    79911.74    84902.805\n",
      "  84524.555    6094.7935   2768.557   87275.05    82796.79    80169.\n",
      "  85832.03     5916.3926  82761.42    17365.387   75769.47    80680.94\n",
      "  81883.76    81717.086   90367.12    92949.62     7393.342   10675.621\n",
      "  89196.99    83371.23    83872.65    17746.48    15097.674   86347.02\n",
      "  86018.984   18859.102   80047.94    85642.33    16125.691   76665.39\n",
      "  86442.27    84320.836 ]\n"
     ]
    }
   ],
   "source": [
    "ypred_xgbr = xgbr.predict(X_test)\n",
    "print(ypred_xgbr)"
   ]
  },
  {
   "cell_type": "code",
   "execution_count": 97,
   "metadata": {},
   "outputs": [
    {
     "name": "stdout",
     "output_type": "stream",
     "text": [
      "MSE:  357957836.163894\n",
      "RMSE:  18919.773681624578\n"
     ]
    }
   ],
   "source": [
    "MSE = metrics.mean_squared_error(y_test, ypred_xgbr)\n",
    "\n",
    "RMSE = np.sqrt(MSE)\n",
    "\n",
    "print('MSE: ', MSE)\n",
    "print('RMSE: ', RMSE)"
   ]
  },
  {
   "cell_type": "code",
   "execution_count": 98,
   "metadata": {},
   "outputs": [],
   "source": [
    "ypred_xgb = xgbr.predict(test_data.values)\n",
    "\n",
    "submission = pd.DataFrame({'Customer_ID': index_col, 'total_claim_amount': ypred_xgb}) \n",
    "\n",
    "#output_xgbr.to_csv('submission_output_xgbr.csv', index=False)\n",
    "submission.to_csv('submission_xgb.csv', index=False)"
   ]
  },
  {
   "cell_type": "code",
   "execution_count": 99,
   "metadata": {},
   "outputs": [],
   "source": [
    "from sklearn.model_selection import RandomizedSearchCV\n",
    "from sklearn.preprocessing import StandardScaler\n",
    "from sklearn.pipeline import Pipeline\n",
    "\n",
    "#xgbr = XGBRegressor()"
   ]
  },
  {
   "cell_type": "code",
   "execution_count": 100,
   "metadata": {},
   "outputs": [],
   "source": [
    "steps = [(\"st_scaler\", StandardScaler()), (\"xgbr_model\", xgb.XGBRegressor())]\n",
    "\n",
    "xgbr_pipeline = Pipeline(steps)\n",
    "#st_scaler = StandardScaler()\n",
    "#xgbr_model = xgb.XGBRegressor()\n",
    "#xgbr_pipeline = Pipeline(st_scaler, xgbr_model)"
   ]
  },
  {
   "cell_type": "code",
   "execution_count": 101,
   "metadata": {},
   "outputs": [
    {
     "data": {
      "text/plain": [
       "dict_keys(['memory', 'steps', 'verbose', 'st_scaler', 'xgbr_model', 'st_scaler__copy', 'st_scaler__with_mean', 'st_scaler__with_std', 'xgbr_model__objective', 'xgbr_model__base_score', 'xgbr_model__booster', 'xgbr_model__colsample_bylevel', 'xgbr_model__colsample_bynode', 'xgbr_model__colsample_bytree', 'xgbr_model__gamma', 'xgbr_model__gpu_id', 'xgbr_model__importance_type', 'xgbr_model__interaction_constraints', 'xgbr_model__learning_rate', 'xgbr_model__max_delta_step', 'xgbr_model__max_depth', 'xgbr_model__min_child_weight', 'xgbr_model__missing', 'xgbr_model__monotone_constraints', 'xgbr_model__n_estimators', 'xgbr_model__n_jobs', 'xgbr_model__num_parallel_tree', 'xgbr_model__random_state', 'xgbr_model__reg_alpha', 'xgbr_model__reg_lambda', 'xgbr_model__scale_pos_weight', 'xgbr_model__subsample', 'xgbr_model__tree_method', 'xgbr_model__validate_parameters', 'xgbr_model__verbosity'])"
      ]
     },
     "execution_count": 101,
     "metadata": {},
     "output_type": "execute_result"
    }
   ],
   "source": [
    "xgbr_pipeline.get_params().keys()"
   ]
  },
  {
   "cell_type": "code",
   "execution_count": 102,
   "metadata": {},
   "outputs": [
    {
     "data": {
      "text/plain": [
       "RandomizedSearchCV(cv=4,\n",
       "                   estimator=Pipeline(steps=[('st_scaler', StandardScaler()),\n",
       "                                             ('xgbr_model',\n",
       "                                              XGBRegressor(base_score=None,\n",
       "                                                           booster=None,\n",
       "                                                           colsample_bylevel=None,\n",
       "                                                           colsample_bynode=None,\n",
       "                                                           colsample_bytree=None,\n",
       "                                                           gamma=None,\n",
       "                                                           gpu_id=None,\n",
       "                                                           importance_type='gain',\n",
       "                                                           interaction_constraints=None,\n",
       "                                                           learning_rate=None,\n",
       "                                                           max_delta_step=None,\n",
       "                                                           max_depth=None,\n",
       "                                                           min_child_weight=...\n",
       "                                        'xgbr_model__learning_rate': array([0.05, 0.1 , 0.15, 0.2 , 0.25, 0.3 , 0.35, 0.4 , 0.45, 0.5 , 0.55,\n",
       "       0.6 , 0.65, 0.7 , 0.75, 0.8 , 0.85, 0.9 , 0.95]),\n",
       "                                        'xgbr_model__max_depth': array([3, 4, 5, 6, 7, 8, 9]),\n",
       "                                        'xgbr_model__min_child_weight': array([1, 2, 3, 4]),\n",
       "                                        'xgbr_model__n_estimators': array([100, 200, 300, 400, 500, 600, 700, 800, 900]),\n",
       "                                        'xgbr_model__objective': ['reg:squarederror'],\n",
       "                                        'xgbr_model__subsample': array([0.5, 0.6, 0.7, 0.8, 0.9])},\n",
       "                   scoring='neg_mean_squared_error')"
      ]
     },
     "execution_count": 102,
     "metadata": {},
     "output_type": "execute_result"
    }
   ],
   "source": [
    "xgbrm_param_grid = {'xgbr_model__learning_rate': np.arange(0.05, 1, 0.05),\n",
    "                    'xgbr_model__objective': ['reg:squarederror'],\n",
    "                    'xgbr_model__booster': ['gbtree'],\n",
    "                    'xgbr_model__gamma': np.arange(0.01, 1, 0.01),\n",
    "                    'xgbr_model__max_depth': np.arange(3, 10, 1),\n",
    "                    'xgbr_model__min_child_weight': np.arange(1, 5, 1),\n",
    "                    'xgbr_model__subsample': np.arange(0.5, 1, 0.1),\n",
    "                    'xgbr_model__colsample_bytree': np.arange(0.5, 0.8, 0.1),\n",
    "                    'xgbr_model__n_estimators': np.arange(100, 1000, 100),\n",
    "                   }\n",
    "\n",
    "randomized_neg_mse = RandomizedSearchCV(estimator = xgbr_pipeline,\n",
    "                                       param_distributions = xgbrm_param_grid, n_iter = 10,\n",
    "                                       scoring = 'neg_mean_squared_error', cv = 4, verbose = 0)\n",
    "\n",
    "randomized_neg_mse.fit(X_train, y_train)"
   ]
  },
  {
   "cell_type": "code",
   "execution_count": 106,
   "metadata": {},
   "outputs": [
    {
     "name": "stdout",
     "output_type": "stream",
     "text": [
      "Best rmse:  20288.51552024633\n"
     ]
    }
   ],
   "source": [
    "print(\"Best rmse: \", np.sqrt(np.abs(randomized_neg_mse.best_score_)))"
   ]
  },
  {
   "cell_type": "code",
   "execution_count": 107,
   "metadata": {},
   "outputs": [
    {
     "name": "stdout",
     "output_type": "stream",
     "text": [
      "Best model:  Pipeline(steps=[('st_scaler', StandardScaler()),\n",
      "                ('xgbr_model',\n",
      "                 XGBRegressor(base_score=0.5, booster='gbtree',\n",
      "                              colsample_bylevel=1, colsample_bynode=1,\n",
      "                              colsample_bytree=0.7, gamma=0.23, gpu_id=-1,\n",
      "                              importance_type='gain',\n",
      "                              interaction_constraints='', learning_rate=0.1,\n",
      "                              max_delta_step=0, max_depth=7, min_child_weight=1,\n",
      "                              missing=nan, monotone_constraints='()',\n",
      "                              n_estimators=200, n_jobs=4, num_parallel_tree=1,\n",
      "                              random_state=0, reg_alpha=0, reg_lambda=1,\n",
      "                              scale_pos_weight=1, subsample=0.8999999999999999,\n",
      "                              tree_method='exact', validate_parameters=1,\n",
      "                              verbosity=None))])\n"
     ]
    }
   ],
   "source": [
    "print(\"Best model: \", randomized_neg_mse.best_estimator_)"
   ]
  },
  {
   "cell_type": "code",
   "execution_count": 108,
   "metadata": {},
   "outputs": [],
   "source": [
    "y_pred_randomized = randomized_neg_mse.predict(test_data.values)\n",
    "\n",
    "submission_randomized = pd.DataFrame({'Customer_ID': index_col, 'total_claim_amount': y_pred_randomized}) \n",
    "\n",
    "submission_randomized.to_csv('submission_randomized.csv', index=False)"
   ]
  },
  {
   "cell_type": "code",
   "execution_count": 109,
   "metadata": {},
   "outputs": [],
   "source": [
    "xgbr = XGBRegressor(base_score=0.5, booster='gbtree', objective = 'reg:squarederror',\n",
    "                    colsample_bytree=0.8, colsample_bylevel=1, colsample_bynode=1,\n",
    "                    learning_rate=0.1, gamma=0.2, gpu_id=-1,\n",
    "                    importance_type='gain', interaction_constraints='', missing=None,\n",
    "                    max_delta_step=0, max_depth=6, min_child_weight=1, monotone_constraints='()',\n",
    "                    n_estimators=100, n_jobs=-1, num_parallel_tree=1, random_state=0, reg_alpha=0,\n",
    "                    reg_lambda=1, scale_pos_weight=1, subsample=0.6, tree_method='exact', \n",
    "                    validate_parameters=1, verbosity=None)"
   ]
  },
  {
   "cell_type": "code",
   "execution_count": 110,
   "metadata": {},
   "outputs": [
    {
     "name": "stdout",
     "output_type": "stream",
     "text": [
      "CPU times: user 391 ms, sys: 18.8 ms, total: 409 ms\n",
      "Wall time: 235 ms\n"
     ]
    },
    {
     "data": {
      "text/plain": [
       "XGBRegressor(base_score=0.5, booster='gbtree', colsample_bylevel=1,\n",
       "             colsample_bynode=1, colsample_bytree=0.8, gamma=0.2, gpu_id=-1,\n",
       "             importance_type='gain', interaction_constraints='',\n",
       "             learning_rate=0.1, max_delta_step=0, max_depth=6,\n",
       "             min_child_weight=1, missing=None, monotone_constraints='()',\n",
       "             n_estimators=100, n_jobs=-1, num_parallel_tree=1, random_state=0,\n",
       "             reg_alpha=0, reg_lambda=1, scale_pos_weight=1, subsample=0.6,\n",
       "             tree_method='exact', validate_parameters=1, verbosity=None)"
      ]
     },
     "execution_count": 110,
     "metadata": {},
     "output_type": "execute_result"
    }
   ],
   "source": [
    "%time xgbr.fit(X_train, y_train, early_stopping_rounds=5, eval_set=[(X_test, y_test)], verbose=None)"
   ]
  },
  {
   "cell_type": "code",
   "execution_count": 111,
   "metadata": {},
   "outputs": [],
   "source": [
    "y_pred_XGB = xgbr.predict(X_test)"
   ]
  },
  {
   "cell_type": "code",
   "execution_count": 112,
   "metadata": {},
   "outputs": [
    {
     "name": "stdout",
     "output_type": "stream",
     "text": [
      "MSE:  369745857.3240598\n"
     ]
    }
   ],
   "source": [
    "MSE_X = metrics.mean_squared_error(y_test, y_pred_XGB)\n",
    "\n",
    "print(\"MSE: \", MSE_X)"
   ]
  },
  {
   "cell_type": "code",
   "execution_count": 113,
   "metadata": {},
   "outputs": [
    {
     "name": "stdout",
     "output_type": "stream",
     "text": [
      "RMSE:  19228.77680259615\n"
     ]
    }
   ],
   "source": [
    "RMSE = np.sqrt(MSE_X)\n",
    "print('RMSE: ', RMSE)"
   ]
  },
  {
   "cell_type": "code",
   "execution_count": 114,
   "metadata": {},
   "outputs": [],
   "source": [
    "y_pred_XGB = xgbr.predict(test_data.values)\n",
    "\n",
    "subm_XGB = pd.DataFrame({'Customer_ID': index_col, 'total_claim_amount': y_pred_XGB}) \n",
    "\n",
    "subm_XGB.to_csv('subm_XGB.csv', index=False)"
   ]
  },
  {
   "cell_type": "code",
   "execution_count": null,
   "metadata": {},
   "outputs": [],
   "source": []
  }
 ],
 "metadata": {
  "kernelspec": {
   "display_name": "Python 3 (ipykernel)",
   "language": "python",
   "name": "python3"
  },
  "language_info": {
   "codemirror_mode": {
    "name": "ipython",
    "version": 3
   },
   "file_extension": ".py",
   "mimetype": "text/x-python",
   "name": "python",
   "nbconvert_exporter": "python",
   "pygments_lexer": "ipython3",
   "version": "3.9.7"
  }
 },
 "nbformat": 4,
 "nbformat_minor": 4
}
