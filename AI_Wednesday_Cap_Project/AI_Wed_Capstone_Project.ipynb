{
 "cells": [
  {
   "cell_type": "code",
   "execution_count": 2,
   "metadata": {},
   "outputs": [],
   "source": [
    "##Import libraries\n",
    "import numpy as np\n",
    "import pandas as pd\n",
    "import matplotlib.pyplot as plt\n",
    "import seaborn as sns\n",
    "%matplotlib inline"
   ]
  },
  {
   "cell_type": "code",
   "execution_count": 3,
   "metadata": {},
   "outputs": [
    {
     "name": "stdout",
     "output_type": "stream",
     "text": [
      "(700, 37)\n"
     ]
    }
   ],
   "source": [
    "# Loading the train data and drop 'Customer_ID' becos it won't be useful\n",
    "train_dataset = pd.read_csv('train.csv')\n",
    "#train_dataset.drop(['Customer_ID'], axis ='columns', inplace= True)\n",
    "train_dataset.head()\n",
    "print(train_dataset.shape)"
   ]
  },
  {
   "cell_type": "code",
   "execution_count": 4,
   "metadata": {},
   "outputs": [
    {
     "data": {
      "text/plain": [
       "(700, 37)"
      ]
     },
     "execution_count": 4,
     "metadata": {},
     "output_type": "execute_result"
    }
   ],
   "source": [
    "train_dataset.shape"
   ]
  },
  {
   "cell_type": "code",
   "execution_count": 5,
   "metadata": {},
   "outputs": [
    {
     "data": {
      "text/html": [
       "<div>\n",
       "<style scoped>\n",
       "    .dataframe tbody tr th:only-of-type {\n",
       "        vertical-align: middle;\n",
       "    }\n",
       "\n",
       "    .dataframe tbody tr th {\n",
       "        vertical-align: top;\n",
       "    }\n",
       "\n",
       "    .dataframe thead th {\n",
       "        text-align: right;\n",
       "    }\n",
       "</style>\n",
       "<table border=\"1\" class=\"dataframe\">\n",
       "  <thead>\n",
       "    <tr style=\"text-align: right;\">\n",
       "      <th></th>\n",
       "      <th>Customer_ID</th>\n",
       "      <th>months_as_customer</th>\n",
       "      <th>age</th>\n",
       "      <th>insured_sex</th>\n",
       "      <th>insured_education_level</th>\n",
       "      <th>insured_occupation</th>\n",
       "      <th>insured_hobbies</th>\n",
       "      <th>insured_relationship</th>\n",
       "      <th>capital-gains</th>\n",
       "      <th>capital-loss</th>\n",
       "      <th>...</th>\n",
       "      <th>incident_severity</th>\n",
       "      <th>authorities_contacted</th>\n",
       "      <th>incident_state</th>\n",
       "      <th>incident_city</th>\n",
       "      <th>witnesses</th>\n",
       "      <th>police_report_available</th>\n",
       "      <th>auto_make</th>\n",
       "      <th>auto_model</th>\n",
       "      <th>auto_year</th>\n",
       "      <th>_c39</th>\n",
       "    </tr>\n",
       "  </thead>\n",
       "  <tbody>\n",
       "    <tr>\n",
       "      <th>0</th>\n",
       "      <td>Customer_521</td>\n",
       "      <td>5</td>\n",
       "      <td>26</td>\n",
       "      <td>FEMALE</td>\n",
       "      <td>PhD</td>\n",
       "      <td>farming-fishing</td>\n",
       "      <td>skydiving</td>\n",
       "      <td>not-in-family</td>\n",
       "      <td>31500</td>\n",
       "      <td>0</td>\n",
       "      <td>...</td>\n",
       "      <td>Total Loss</td>\n",
       "      <td>Ambulance</td>\n",
       "      <td>WV</td>\n",
       "      <td>Springfield</td>\n",
       "      <td>3</td>\n",
       "      <td>?</td>\n",
       "      <td>Audi</td>\n",
       "      <td>A5</td>\n",
       "      <td>2003</td>\n",
       "      <td>NaN</td>\n",
       "    </tr>\n",
       "    <tr>\n",
       "      <th>1</th>\n",
       "      <td>Customer_737</td>\n",
       "      <td>160</td>\n",
       "      <td>33</td>\n",
       "      <td>FEMALE</td>\n",
       "      <td>High School</td>\n",
       "      <td>exec-managerial</td>\n",
       "      <td>exercise</td>\n",
       "      <td>husband</td>\n",
       "      <td>61600</td>\n",
       "      <td>0</td>\n",
       "      <td>...</td>\n",
       "      <td>Total Loss</td>\n",
       "      <td>Ambulance</td>\n",
       "      <td>NC</td>\n",
       "      <td>Riverwood</td>\n",
       "      <td>3</td>\n",
       "      <td>YES</td>\n",
       "      <td>Nissan</td>\n",
       "      <td>Pathfinder</td>\n",
       "      <td>2006</td>\n",
       "      <td>NaN</td>\n",
       "    </tr>\n",
       "    <tr>\n",
       "      <th>2</th>\n",
       "      <td>Customer_740</td>\n",
       "      <td>385</td>\n",
       "      <td>51</td>\n",
       "      <td>FEMALE</td>\n",
       "      <td>MD</td>\n",
       "      <td>craft-repair</td>\n",
       "      <td>reading</td>\n",
       "      <td>husband</td>\n",
       "      <td>0</td>\n",
       "      <td>-61000</td>\n",
       "      <td>...</td>\n",
       "      <td>Minor Damage</td>\n",
       "      <td>Other</td>\n",
       "      <td>WV</td>\n",
       "      <td>Riverwood</td>\n",
       "      <td>3</td>\n",
       "      <td>?</td>\n",
       "      <td>Suburu</td>\n",
       "      <td>Legacy</td>\n",
       "      <td>2007</td>\n",
       "      <td>NaN</td>\n",
       "    </tr>\n",
       "    <tr>\n",
       "      <th>3</th>\n",
       "      <td>Customer_660</td>\n",
       "      <td>446</td>\n",
       "      <td>57</td>\n",
       "      <td>MALE</td>\n",
       "      <td>College</td>\n",
       "      <td>adm-clerical</td>\n",
       "      <td>sleeping</td>\n",
       "      <td>unmarried</td>\n",
       "      <td>42700</td>\n",
       "      <td>-64900</td>\n",
       "      <td>...</td>\n",
       "      <td>Total Loss</td>\n",
       "      <td>Police</td>\n",
       "      <td>SC</td>\n",
       "      <td>Northbrook</td>\n",
       "      <td>0</td>\n",
       "      <td>NO</td>\n",
       "      <td>Jeep</td>\n",
       "      <td>Wrangler</td>\n",
       "      <td>2012</td>\n",
       "      <td>NaN</td>\n",
       "    </tr>\n",
       "    <tr>\n",
       "      <th>4</th>\n",
       "      <td>Customer_411</td>\n",
       "      <td>84</td>\n",
       "      <td>29</td>\n",
       "      <td>FEMALE</td>\n",
       "      <td>High School</td>\n",
       "      <td>machine-op-inspct</td>\n",
       "      <td>video-games</td>\n",
       "      <td>not-in-family</td>\n",
       "      <td>0</td>\n",
       "      <td>-29900</td>\n",
       "      <td>...</td>\n",
       "      <td>Trivial Damage</td>\n",
       "      <td>Police</td>\n",
       "      <td>SC</td>\n",
       "      <td>Arlington</td>\n",
       "      <td>0</td>\n",
       "      <td>YES</td>\n",
       "      <td>BMW</td>\n",
       "      <td>3 Series</td>\n",
       "      <td>2005</td>\n",
       "      <td>NaN</td>\n",
       "    </tr>\n",
       "  </tbody>\n",
       "</table>\n",
       "<p>5 rows × 36 columns</p>\n",
       "</div>"
      ],
      "text/plain": [
       "    Customer_ID  months_as_customer  age insured_sex insured_education_level  \\\n",
       "0  Customer_521                   5   26      FEMALE                     PhD   \n",
       "1  Customer_737                 160   33      FEMALE             High School   \n",
       "2  Customer_740                 385   51      FEMALE                      MD   \n",
       "3  Customer_660                 446   57        MALE                 College   \n",
       "4  Customer_411                  84   29      FEMALE             High School   \n",
       "\n",
       "  insured_occupation insured_hobbies insured_relationship  capital-gains  \\\n",
       "0    farming-fishing       skydiving        not-in-family          31500   \n",
       "1    exec-managerial        exercise              husband          61600   \n",
       "2       craft-repair         reading              husband              0   \n",
       "3       adm-clerical        sleeping            unmarried          42700   \n",
       "4  machine-op-inspct     video-games        not-in-family              0   \n",
       "\n",
       "   capital-loss  ...  incident_severity authorities_contacted incident_state  \\\n",
       "0             0  ...         Total Loss             Ambulance             WV   \n",
       "1             0  ...         Total Loss             Ambulance             NC   \n",
       "2        -61000  ...       Minor Damage                 Other             WV   \n",
       "3        -64900  ...         Total Loss                Police             SC   \n",
       "4        -29900  ...     Trivial Damage                Police             SC   \n",
       "\n",
       "  incident_city  witnesses police_report_available  auto_make  auto_model  \\\n",
       "0   Springfield          3                       ?       Audi          A5   \n",
       "1     Riverwood          3                     YES     Nissan  Pathfinder   \n",
       "2     Riverwood          3                       ?     Suburu      Legacy   \n",
       "3    Northbrook          0                      NO       Jeep    Wrangler   \n",
       "4     Arlington          0                     YES        BMW    3 Series   \n",
       "\n",
       "  auto_year  _c39  \n",
       "0      2003   NaN  \n",
       "1      2006   NaN  \n",
       "2      2007   NaN  \n",
       "3      2012   NaN  \n",
       "4      2005   NaN  \n",
       "\n",
       "[5 rows x 36 columns]"
      ]
     },
     "execution_count": 5,
     "metadata": {},
     "output_type": "execute_result"
    }
   ],
   "source": [
    "# Loading the test data and drop 'Customer_ID' becos it won't be useful\n",
    "test_dataset = pd.read_csv('test.csv')\n",
    "#index_col = test_dataset['Customer_ID']\n",
    "#data.drop(['Customer_ID'], axis ='columns', inplace= True)\n",
    "#test_dataset.drop(['Customer_ID'], axis ='columns', inplace= True)\n",
    "test_dataset.head()"
   ]
  },
  {
   "cell_type": "code",
   "execution_count": 6,
   "metadata": {},
   "outputs": [
    {
     "data": {
      "text/plain": [
       "(300, 36)"
      ]
     },
     "execution_count": 6,
     "metadata": {},
     "output_type": "execute_result"
    }
   ],
   "source": [
    "test_dataset.shape"
   ]
  },
  {
   "cell_type": "code",
   "execution_count": 7,
   "metadata": {},
   "outputs": [
    {
     "data": {
      "text/html": [
       "<div>\n",
       "<style scoped>\n",
       "    .dataframe tbody tr th:only-of-type {\n",
       "        vertical-align: middle;\n",
       "    }\n",
       "\n",
       "    .dataframe tbody tr th {\n",
       "        vertical-align: top;\n",
       "    }\n",
       "\n",
       "    .dataframe thead th {\n",
       "        text-align: right;\n",
       "    }\n",
       "</style>\n",
       "<table border=\"1\" class=\"dataframe\">\n",
       "  <thead>\n",
       "    <tr style=\"text-align: right;\">\n",
       "      <th></th>\n",
       "      <th>Customer_ID</th>\n",
       "      <th>months_as_customer</th>\n",
       "      <th>age</th>\n",
       "      <th>insured_sex</th>\n",
       "      <th>insured_education_level</th>\n",
       "      <th>insured_occupation</th>\n",
       "      <th>insured_hobbies</th>\n",
       "      <th>insured_relationship</th>\n",
       "      <th>capital-gains</th>\n",
       "      <th>capital-loss</th>\n",
       "      <th>...</th>\n",
       "      <th>authorities_contacted</th>\n",
       "      <th>incident_state</th>\n",
       "      <th>incident_city</th>\n",
       "      <th>witnesses</th>\n",
       "      <th>police_report_available</th>\n",
       "      <th>auto_make</th>\n",
       "      <th>auto_model</th>\n",
       "      <th>auto_year</th>\n",
       "      <th>_c39</th>\n",
       "      <th>total_claim_amount</th>\n",
       "    </tr>\n",
       "  </thead>\n",
       "  <tbody>\n",
       "    <tr>\n",
       "      <th>0</th>\n",
       "      <td>Customer_541</td>\n",
       "      <td>239</td>\n",
       "      <td>41</td>\n",
       "      <td>FEMALE</td>\n",
       "      <td>JD</td>\n",
       "      <td>farming-fishing</td>\n",
       "      <td>paintball</td>\n",
       "      <td>other-relative</td>\n",
       "      <td>51400</td>\n",
       "      <td>-6300</td>\n",
       "      <td>...</td>\n",
       "      <td>Police</td>\n",
       "      <td>NC</td>\n",
       "      <td>Arlington</td>\n",
       "      <td>2</td>\n",
       "      <td>YES</td>\n",
       "      <td>Mercedes</td>\n",
       "      <td>E400</td>\n",
       "      <td>2013</td>\n",
       "      <td>NaN</td>\n",
       "      <td>14386.67</td>\n",
       "    </tr>\n",
       "    <tr>\n",
       "      <th>1</th>\n",
       "      <td>Customer_440</td>\n",
       "      <td>108</td>\n",
       "      <td>31</td>\n",
       "      <td>MALE</td>\n",
       "      <td>Masters</td>\n",
       "      <td>protective-serv</td>\n",
       "      <td>yachting</td>\n",
       "      <td>not-in-family</td>\n",
       "      <td>0</td>\n",
       "      <td>0</td>\n",
       "      <td>...</td>\n",
       "      <td>Fire</td>\n",
       "      <td>NY</td>\n",
       "      <td>Columbus</td>\n",
       "      <td>2</td>\n",
       "      <td>NO</td>\n",
       "      <td>Dodge</td>\n",
       "      <td>Neon</td>\n",
       "      <td>2006</td>\n",
       "      <td>NaN</td>\n",
       "      <td>76440.00</td>\n",
       "    </tr>\n",
       "    <tr>\n",
       "      <th>2</th>\n",
       "      <td>Customer_482</td>\n",
       "      <td>116</td>\n",
       "      <td>30</td>\n",
       "      <td>MALE</td>\n",
       "      <td>JD</td>\n",
       "      <td>handlers-cleaners</td>\n",
       "      <td>golf</td>\n",
       "      <td>not-in-family</td>\n",
       "      <td>0</td>\n",
       "      <td>-35500</td>\n",
       "      <td>...</td>\n",
       "      <td>Other</td>\n",
       "      <td>WV</td>\n",
       "      <td>Riverwood</td>\n",
       "      <td>3</td>\n",
       "      <td>?</td>\n",
       "      <td>Volkswagen</td>\n",
       "      <td>Passat</td>\n",
       "      <td>2004</td>\n",
       "      <td>NaN</td>\n",
       "      <td>79560.00</td>\n",
       "    </tr>\n",
       "    <tr>\n",
       "      <th>3</th>\n",
       "      <td>Customer_422</td>\n",
       "      <td>8</td>\n",
       "      <td>21</td>\n",
       "      <td>MALE</td>\n",
       "      <td>High School</td>\n",
       "      <td>handlers-cleaners</td>\n",
       "      <td>hiking</td>\n",
       "      <td>husband</td>\n",
       "      <td>0</td>\n",
       "      <td>0</td>\n",
       "      <td>...</td>\n",
       "      <td>Other</td>\n",
       "      <td>WV</td>\n",
       "      <td>Columbus</td>\n",
       "      <td>0</td>\n",
       "      <td>?</td>\n",
       "      <td>Toyota</td>\n",
       "      <td>Corolla</td>\n",
       "      <td>2012</td>\n",
       "      <td>NaN</td>\n",
       "      <td>121680.00</td>\n",
       "    </tr>\n",
       "    <tr>\n",
       "      <th>4</th>\n",
       "      <td>Customer_778</td>\n",
       "      <td>161</td>\n",
       "      <td>38</td>\n",
       "      <td>MALE</td>\n",
       "      <td>PhD</td>\n",
       "      <td>priv-house-serv</td>\n",
       "      <td>exercise</td>\n",
       "      <td>not-in-family</td>\n",
       "      <td>60200</td>\n",
       "      <td>0</td>\n",
       "      <td>...</td>\n",
       "      <td>Police</td>\n",
       "      <td>WV</td>\n",
       "      <td>Springfield</td>\n",
       "      <td>2</td>\n",
       "      <td>YES</td>\n",
       "      <td>Volkswagen</td>\n",
       "      <td>Jetta</td>\n",
       "      <td>2003</td>\n",
       "      <td>NaN</td>\n",
       "      <td>80640.00</td>\n",
       "    </tr>\n",
       "  </tbody>\n",
       "</table>\n",
       "<p>5 rows × 37 columns</p>\n",
       "</div>"
      ],
      "text/plain": [
       "    Customer_ID  months_as_customer  age insured_sex insured_education_level  \\\n",
       "0  Customer_541                 239   41      FEMALE                      JD   \n",
       "1  Customer_440                 108   31        MALE                 Masters   \n",
       "2  Customer_482                 116   30        MALE                      JD   \n",
       "3  Customer_422                   8   21        MALE             High School   \n",
       "4  Customer_778                 161   38        MALE                     PhD   \n",
       "\n",
       "  insured_occupation insured_hobbies insured_relationship  capital-gains  \\\n",
       "0    farming-fishing       paintball       other-relative          51400   \n",
       "1    protective-serv        yachting        not-in-family              0   \n",
       "2  handlers-cleaners            golf        not-in-family              0   \n",
       "3  handlers-cleaners          hiking              husband              0   \n",
       "4    priv-house-serv        exercise        not-in-family          60200   \n",
       "\n",
       "   capital-loss  ...  authorities_contacted incident_state incident_city  \\\n",
       "0         -6300  ...                 Police             NC     Arlington   \n",
       "1             0  ...                   Fire             NY      Columbus   \n",
       "2        -35500  ...                  Other             WV     Riverwood   \n",
       "3             0  ...                  Other             WV      Columbus   \n",
       "4             0  ...                 Police             WV   Springfield   \n",
       "\n",
       "  witnesses  police_report_available   auto_make  auto_model  auto_year _c39  \\\n",
       "0         2                      YES    Mercedes        E400       2013  NaN   \n",
       "1         2                       NO       Dodge        Neon       2006  NaN   \n",
       "2         3                        ?  Volkswagen      Passat       2004  NaN   \n",
       "3         0                        ?      Toyota     Corolla       2012  NaN   \n",
       "4         2                      YES  Volkswagen       Jetta       2003  NaN   \n",
       "\n",
       "   total_claim_amount  \n",
       "0            14386.67  \n",
       "1            76440.00  \n",
       "2            79560.00  \n",
       "3           121680.00  \n",
       "4            80640.00  \n",
       "\n",
       "[5 rows x 37 columns]"
      ]
     },
     "execution_count": 7,
     "metadata": {},
     "output_type": "execute_result"
    }
   ],
   "source": [
    "## Concatenate train_test and test_data to data\n",
    "data = pd.concat((train_dataset, test_dataset)).reset_index(drop=True)\n",
    "data.head()"
   ]
  },
  {
   "cell_type": "code",
   "execution_count": 8,
   "metadata": {},
   "outputs": [
    {
     "data": {
      "text/plain": [
       "(1000, 37)"
      ]
     },
     "execution_count": 8,
     "metadata": {},
     "output_type": "execute_result"
    }
   ],
   "source": [
    "data.shape"
   ]
  },
  {
   "cell_type": "code",
   "execution_count": 9,
   "metadata": {},
   "outputs": [
    {
     "data": {
      "text/html": [
       "<div>\n",
       "<style scoped>\n",
       "    .dataframe tbody tr th:only-of-type {\n",
       "        vertical-align: middle;\n",
       "    }\n",
       "\n",
       "    .dataframe tbody tr th {\n",
       "        vertical-align: top;\n",
       "    }\n",
       "\n",
       "    .dataframe thead th {\n",
       "        text-align: right;\n",
       "    }\n",
       "</style>\n",
       "<table border=\"1\" class=\"dataframe\">\n",
       "  <thead>\n",
       "    <tr style=\"text-align: right;\">\n",
       "      <th></th>\n",
       "      <th>months_as_customer</th>\n",
       "      <th>age</th>\n",
       "      <th>capital-gains</th>\n",
       "      <th>capital-loss</th>\n",
       "      <th>policy_number</th>\n",
       "      <th>policy_deductable</th>\n",
       "      <th>incident_hour_of_the_day</th>\n",
       "      <th>number_of_vehicles_involved</th>\n",
       "      <th>bodily_injuries</th>\n",
       "      <th>policy_annual_premium</th>\n",
       "      <th>umbrella_limit</th>\n",
       "      <th>insured_zip</th>\n",
       "      <th>witnesses</th>\n",
       "      <th>auto_year</th>\n",
       "      <th>_c39</th>\n",
       "      <th>total_claim_amount</th>\n",
       "    </tr>\n",
       "  </thead>\n",
       "  <tbody>\n",
       "    <tr>\n",
       "      <th>count</th>\n",
       "      <td>1000.000000</td>\n",
       "      <td>1000.000000</td>\n",
       "      <td>1000.000000</td>\n",
       "      <td>1000.000000</td>\n",
       "      <td>1000.000000</td>\n",
       "      <td>1000.000000</td>\n",
       "      <td>1000.000000</td>\n",
       "      <td>1000.00000</td>\n",
       "      <td>1000.000000</td>\n",
       "      <td>1000.000000</td>\n",
       "      <td>1.000000e+03</td>\n",
       "      <td>1000.000000</td>\n",
       "      <td>1000.000000</td>\n",
       "      <td>1000.000000</td>\n",
       "      <td>0.0</td>\n",
       "      <td>700.000000</td>\n",
       "    </tr>\n",
       "    <tr>\n",
       "      <th>mean</th>\n",
       "      <td>203.954000</td>\n",
       "      <td>38.948000</td>\n",
       "      <td>25126.100000</td>\n",
       "      <td>-26793.700000</td>\n",
       "      <td>546238.648000</td>\n",
       "      <td>1136.000000</td>\n",
       "      <td>11.644000</td>\n",
       "      <td>1.83900</td>\n",
       "      <td>0.992000</td>\n",
       "      <td>1256.406150</td>\n",
       "      <td>1.101000e+06</td>\n",
       "      <td>501214.488000</td>\n",
       "      <td>1.487000</td>\n",
       "      <td>2005.103000</td>\n",
       "      <td>NaN</td>\n",
       "      <td>71900.933214</td>\n",
       "    </tr>\n",
       "    <tr>\n",
       "      <th>std</th>\n",
       "      <td>115.113174</td>\n",
       "      <td>9.140287</td>\n",
       "      <td>27872.187708</td>\n",
       "      <td>28104.096686</td>\n",
       "      <td>257063.005276</td>\n",
       "      <td>611.864673</td>\n",
       "      <td>6.951373</td>\n",
       "      <td>1.01888</td>\n",
       "      <td>0.820127</td>\n",
       "      <td>244.167395</td>\n",
       "      <td>2.297407e+06</td>\n",
       "      <td>71701.610941</td>\n",
       "      <td>1.111335</td>\n",
       "      <td>6.015861</td>\n",
       "      <td>NaN</td>\n",
       "      <td>34915.974923</td>\n",
       "    </tr>\n",
       "    <tr>\n",
       "      <th>min</th>\n",
       "      <td>0.000000</td>\n",
       "      <td>19.000000</td>\n",
       "      <td>0.000000</td>\n",
       "      <td>-111100.000000</td>\n",
       "      <td>100804.000000</td>\n",
       "      <td>500.000000</td>\n",
       "      <td>0.000000</td>\n",
       "      <td>1.00000</td>\n",
       "      <td>0.000000</td>\n",
       "      <td>433.330000</td>\n",
       "      <td>-1.000000e+06</td>\n",
       "      <td>430104.000000</td>\n",
       "      <td>0.000000</td>\n",
       "      <td>1995.000000</td>\n",
       "      <td>NaN</td>\n",
       "      <td>133.330000</td>\n",
       "    </tr>\n",
       "    <tr>\n",
       "      <th>25%</th>\n",
       "      <td>115.750000</td>\n",
       "      <td>32.000000</td>\n",
       "      <td>0.000000</td>\n",
       "      <td>-51500.000000</td>\n",
       "      <td>335980.250000</td>\n",
       "      <td>500.000000</td>\n",
       "      <td>6.000000</td>\n",
       "      <td>1.00000</td>\n",
       "      <td>0.000000</td>\n",
       "      <td>1089.607500</td>\n",
       "      <td>0.000000e+00</td>\n",
       "      <td>448404.500000</td>\n",
       "      <td>1.000000</td>\n",
       "      <td>2000.000000</td>\n",
       "      <td>NaN</td>\n",
       "      <td>58933.330000</td>\n",
       "    </tr>\n",
       "    <tr>\n",
       "      <th>50%</th>\n",
       "      <td>199.500000</td>\n",
       "      <td>38.000000</td>\n",
       "      <td>0.000000</td>\n",
       "      <td>-23250.000000</td>\n",
       "      <td>533135.000000</td>\n",
       "      <td>1000.000000</td>\n",
       "      <td>12.000000</td>\n",
       "      <td>1.00000</td>\n",
       "      <td>1.000000</td>\n",
       "      <td>1257.200000</td>\n",
       "      <td>0.000000e+00</td>\n",
       "      <td>466445.500000</td>\n",
       "      <td>1.000000</td>\n",
       "      <td>2005.000000</td>\n",
       "      <td>NaN</td>\n",
       "      <td>77733.330000</td>\n",
       "    </tr>\n",
       "    <tr>\n",
       "      <th>75%</th>\n",
       "      <td>276.250000</td>\n",
       "      <td>44.000000</td>\n",
       "      <td>51025.000000</td>\n",
       "      <td>0.000000</td>\n",
       "      <td>759099.750000</td>\n",
       "      <td>2000.000000</td>\n",
       "      <td>17.000000</td>\n",
       "      <td>3.00000</td>\n",
       "      <td>2.000000</td>\n",
       "      <td>1415.695000</td>\n",
       "      <td>0.000000e+00</td>\n",
       "      <td>603251.000000</td>\n",
       "      <td>2.000000</td>\n",
       "      <td>2010.000000</td>\n",
       "      <td>NaN</td>\n",
       "      <td>95503.332500</td>\n",
       "    </tr>\n",
       "    <tr>\n",
       "      <th>max</th>\n",
       "      <td>479.000000</td>\n",
       "      <td>64.000000</td>\n",
       "      <td>100500.000000</td>\n",
       "      <td>0.000000</td>\n",
       "      <td>999435.000000</td>\n",
       "      <td>2000.000000</td>\n",
       "      <td>23.000000</td>\n",
       "      <td>4.00000</td>\n",
       "      <td>2.000000</td>\n",
       "      <td>2047.590000</td>\n",
       "      <td>1.000000e+07</td>\n",
       "      <td>620962.000000</td>\n",
       "      <td>3.000000</td>\n",
       "      <td>2015.000000</td>\n",
       "      <td>NaN</td>\n",
       "      <td>153226.670000</td>\n",
       "    </tr>\n",
       "  </tbody>\n",
       "</table>\n",
       "</div>"
      ],
      "text/plain": [
       "       months_as_customer          age  capital-gains   capital-loss  \\\n",
       "count         1000.000000  1000.000000    1000.000000    1000.000000   \n",
       "mean           203.954000    38.948000   25126.100000  -26793.700000   \n",
       "std            115.113174     9.140287   27872.187708   28104.096686   \n",
       "min              0.000000    19.000000       0.000000 -111100.000000   \n",
       "25%            115.750000    32.000000       0.000000  -51500.000000   \n",
       "50%            199.500000    38.000000       0.000000  -23250.000000   \n",
       "75%            276.250000    44.000000   51025.000000       0.000000   \n",
       "max            479.000000    64.000000  100500.000000       0.000000   \n",
       "\n",
       "       policy_number  policy_deductable  incident_hour_of_the_day  \\\n",
       "count    1000.000000        1000.000000               1000.000000   \n",
       "mean   546238.648000        1136.000000                 11.644000   \n",
       "std    257063.005276         611.864673                  6.951373   \n",
       "min    100804.000000         500.000000                  0.000000   \n",
       "25%    335980.250000         500.000000                  6.000000   \n",
       "50%    533135.000000        1000.000000                 12.000000   \n",
       "75%    759099.750000        2000.000000                 17.000000   \n",
       "max    999435.000000        2000.000000                 23.000000   \n",
       "\n",
       "       number_of_vehicles_involved  bodily_injuries  policy_annual_premium  \\\n",
       "count                   1000.00000      1000.000000            1000.000000   \n",
       "mean                       1.83900         0.992000            1256.406150   \n",
       "std                        1.01888         0.820127             244.167395   \n",
       "min                        1.00000         0.000000             433.330000   \n",
       "25%                        1.00000         0.000000            1089.607500   \n",
       "50%                        1.00000         1.000000            1257.200000   \n",
       "75%                        3.00000         2.000000            1415.695000   \n",
       "max                        4.00000         2.000000            2047.590000   \n",
       "\n",
       "       umbrella_limit    insured_zip    witnesses    auto_year  _c39  \\\n",
       "count    1.000000e+03    1000.000000  1000.000000  1000.000000   0.0   \n",
       "mean     1.101000e+06  501214.488000     1.487000  2005.103000   NaN   \n",
       "std      2.297407e+06   71701.610941     1.111335     6.015861   NaN   \n",
       "min     -1.000000e+06  430104.000000     0.000000  1995.000000   NaN   \n",
       "25%      0.000000e+00  448404.500000     1.000000  2000.000000   NaN   \n",
       "50%      0.000000e+00  466445.500000     1.000000  2005.000000   NaN   \n",
       "75%      0.000000e+00  603251.000000     2.000000  2010.000000   NaN   \n",
       "max      1.000000e+07  620962.000000     3.000000  2015.000000   NaN   \n",
       "\n",
       "       total_claim_amount  \n",
       "count          700.000000  \n",
       "mean         71900.933214  \n",
       "std          34915.974923  \n",
       "min            133.330000  \n",
       "25%          58933.330000  \n",
       "50%          77733.330000  \n",
       "75%          95503.332500  \n",
       "max         153226.670000  "
      ]
     },
     "execution_count": 9,
     "metadata": {},
     "output_type": "execute_result"
    }
   ],
   "source": [
    "data.describe()"
   ]
  },
  {
   "cell_type": "code",
   "execution_count": 10,
   "metadata": {},
   "outputs": [
    {
     "data": {
      "text/plain": [
       "Customer_ID                       0\n",
       "months_as_customer                0\n",
       "age                               0\n",
       "insured_sex                       0\n",
       "insured_education_level           0\n",
       "insured_occupation                0\n",
       "insured_hobbies                   0\n",
       "insured_relationship              0\n",
       "capital-gains                     0\n",
       "capital-loss                      0\n",
       "policy_number                     0\n",
       "policy_bind_date                  0\n",
       "policy_state                      0\n",
       "policy_csl                        0\n",
       "policy_deductable                 0\n",
       "incident_location                 0\n",
       "incident_hour_of_the_day          0\n",
       "number_of_vehicles_involved       0\n",
       "property_damage                   0\n",
       "bodily_injuries                   0\n",
       "policy_annual_premium             0\n",
       "umbrella_limit                    0\n",
       "insured_zip                       0\n",
       "incident_date                     0\n",
       "incident_type                     0\n",
       "collision_type                    0\n",
       "incident_severity                 0\n",
       "authorities_contacted             0\n",
       "incident_state                    0\n",
       "incident_city                     0\n",
       "witnesses                         0\n",
       "police_report_available           0\n",
       "auto_make                         0\n",
       "auto_model                        0\n",
       "auto_year                         0\n",
       "_c39                           1000\n",
       "total_claim_amount              300\n",
       "dtype: int64"
      ]
     },
     "execution_count": 10,
     "metadata": {},
     "output_type": "execute_result"
    }
   ],
   "source": [
    "## Deal with null values\n",
    "#data.isnull().sum().sort_values(ascending=False)\n",
    "data.isnull().sum()"
   ]
  },
  {
   "cell_type": "code",
   "execution_count": 11,
   "metadata": {},
   "outputs": [
    {
     "name": "stdout",
     "output_type": "stream",
     "text": [
      "_c39                  1000\n",
      "total_claim_amount     300\n",
      "dtype: int64\n"
     ]
    }
   ],
   "source": [
    "missing_val_count_by_column = (data.isnull().sum())\n",
    "print(missing_val_count_by_column[missing_val_count_by_column > 0])"
   ]
  },
  {
   "cell_type": "code",
   "execution_count": 12,
   "metadata": {},
   "outputs": [],
   "source": [
    "#def full_NaN_by_mean_mod(data):\n",
    "#    NaN_columns=data.columns[data.isnull().any()]\n",
    "#    for i in NaN_columns:\n",
    "#        if(data[i].dtypes==\"object\"):\n",
    "#            data[i]=data[i].fillna(data[i].mode()[0])\n",
    "#        else:\n",
    "#            data[i]=data[i].fillna(data[i].mean())\n",
    "#        return data\n",
    "#full_NaN_by_mean_mod(data)"
   ]
  },
  {
   "cell_type": "code",
   "execution_count": 13,
   "metadata": {},
   "outputs": [],
   "source": [
    "data = data.drop('_c39', axis = 1)\n",
    "#data['_c39'].isnull().sum()"
   ]
  },
  {
   "cell_type": "code",
   "execution_count": 14,
   "metadata": {},
   "outputs": [],
   "source": [
    "##Use the mean() method on all the null values\n",
    "#missing_col = ['total_claim_amount']\n",
    "#Technique 1: Using mean to impute the missing values\n",
    "#for i in missing_col:\n",
    "#    data.loc[data.loc[:,i].isnull(),i]=data.loc[:,i].mean()"
   ]
  },
  {
   "cell_type": "code",
   "execution_count": 15,
   "metadata": {},
   "outputs": [
    {
     "data": {
      "text/plain": [
       "total_claim_amount             300\n",
       "auto_year                        0\n",
       "incident_location                0\n",
       "policy_deductable                0\n",
       "policy_csl                       0\n",
       "policy_state                     0\n",
       "policy_bind_date                 0\n",
       "policy_number                    0\n",
       "capital-loss                     0\n",
       "capital-gains                    0\n",
       "insured_relationship             0\n",
       "insured_hobbies                  0\n",
       "insured_occupation               0\n",
       "insured_education_level          0\n",
       "insured_sex                      0\n",
       "age                              0\n",
       "months_as_customer               0\n",
       "incident_hour_of_the_day         0\n",
       "number_of_vehicles_involved      0\n",
       "property_damage                  0\n",
       "authorities_contacted            0\n",
       "auto_model                       0\n",
       "auto_make                        0\n",
       "police_report_available          0\n",
       "witnesses                        0\n",
       "incident_city                    0\n",
       "incident_state                   0\n",
       "incident_severity                0\n",
       "bodily_injuries                  0\n",
       "collision_type                   0\n",
       "incident_type                    0\n",
       "incident_date                    0\n",
       "insured_zip                      0\n",
       "umbrella_limit                   0\n",
       "policy_annual_premium            0\n",
       "Customer_ID                      0\n",
       "dtype: int64"
      ]
     },
     "execution_count": 15,
     "metadata": {},
     "output_type": "execute_result"
    }
   ],
   "source": [
    "##All the missing values is replaced\n",
    "data.isnull().sum().sort_values(ascending=False)"
   ]
  },
  {
   "cell_type": "code",
   "execution_count": 16,
   "metadata": {},
   "outputs": [
    {
     "name": "stdout",
     "output_type": "stream",
     "text": [
      "<class 'pandas.core.frame.DataFrame'>\n",
      "RangeIndex: 1000 entries, 0 to 999\n",
      "Data columns (total 36 columns):\n",
      " #   Column                       Non-Null Count  Dtype  \n",
      "---  ------                       --------------  -----  \n",
      " 0   Customer_ID                  1000 non-null   object \n",
      " 1   months_as_customer           1000 non-null   int64  \n",
      " 2   age                          1000 non-null   int64  \n",
      " 3   insured_sex                  1000 non-null   object \n",
      " 4   insured_education_level      1000 non-null   object \n",
      " 5   insured_occupation           1000 non-null   object \n",
      " 6   insured_hobbies              1000 non-null   object \n",
      " 7   insured_relationship         1000 non-null   object \n",
      " 8   capital-gains                1000 non-null   int64  \n",
      " 9   capital-loss                 1000 non-null   int64  \n",
      " 10  policy_number                1000 non-null   int64  \n",
      " 11  policy_bind_date             1000 non-null   object \n",
      " 12  policy_state                 1000 non-null   object \n",
      " 13  policy_csl                   1000 non-null   object \n",
      " 14  policy_deductable            1000 non-null   int64  \n",
      " 15  incident_location            1000 non-null   object \n",
      " 16  incident_hour_of_the_day     1000 non-null   int64  \n",
      " 17  number_of_vehicles_involved  1000 non-null   int64  \n",
      " 18  property_damage              1000 non-null   object \n",
      " 19  bodily_injuries              1000 non-null   int64  \n",
      " 20  policy_annual_premium        1000 non-null   float64\n",
      " 21  umbrella_limit               1000 non-null   int64  \n",
      " 22  insured_zip                  1000 non-null   int64  \n",
      " 23  incident_date                1000 non-null   object \n",
      " 24  incident_type                1000 non-null   object \n",
      " 25  collision_type               1000 non-null   object \n",
      " 26  incident_severity            1000 non-null   object \n",
      " 27  authorities_contacted        1000 non-null   object \n",
      " 28  incident_state               1000 non-null   object \n",
      " 29  incident_city                1000 non-null   object \n",
      " 30  witnesses                    1000 non-null   int64  \n",
      " 31  police_report_available      1000 non-null   object \n",
      " 32  auto_make                    1000 non-null   object \n",
      " 33  auto_model                   1000 non-null   object \n",
      " 34  auto_year                    1000 non-null   int64  \n",
      " 35  total_claim_amount           700 non-null    float64\n",
      "dtypes: float64(2), int64(13), object(21)\n",
      "memory usage: 281.4+ KB\n"
     ]
    }
   ],
   "source": [
    "data.info()"
   ]
  },
  {
   "cell_type": "code",
   "execution_count": 17,
   "metadata": {},
   "outputs": [
    {
     "data": {
      "text/plain": [
       "(1000, 36)"
      ]
     },
     "execution_count": 17,
     "metadata": {},
     "output_type": "execute_result"
    }
   ],
   "source": [
    "data.shape"
   ]
  },
  {
   "cell_type": "code",
   "execution_count": 18,
   "metadata": {},
   "outputs": [],
   "source": [
    "#data.apply(lambda col: col.drop_duplicates().reset_index(drop=True))"
   ]
  },
  {
   "cell_type": "code",
   "execution_count": 19,
   "metadata": {},
   "outputs": [
    {
     "name": "stdout",
     "output_type": "stream",
     "text": [
      "['Customer_ID', 'insured_sex', 'insured_education_level', 'insured_occupation', 'insured_hobbies', 'insured_relationship', 'policy_bind_date', 'policy_state', 'policy_csl', 'incident_location', 'property_damage', 'incident_date', 'incident_type', 'collision_type', 'incident_severity', 'authorities_contacted', 'incident_state', 'incident_city', 'police_report_available', 'auto_make', 'auto_model']\n"
     ]
    }
   ],
   "source": [
    "## Categorical data\n",
    "categorical = (data.dtypes == \"object\")\n",
    "categorical_list = list(categorical[categorical].index)\n",
    "print(categorical_list)"
   ]
  },
  {
   "cell_type": "code",
   "execution_count": 20,
   "metadata": {},
   "outputs": [],
   "source": [
    "##Here I feel we can drop some features ie. “region” because they are not much important for prediction.\n",
    "#Dropping least important feature of the dataset\n",
    "#data = data.drop('insured_education_level', 'insured_occupation', 'insured_hobbies', 'insured_relationship', 'incident_location', axis = 1)"
   ]
  },
  {
   "cell_type": "code",
   "execution_count": 21,
   "metadata": {},
   "outputs": [],
   "source": [
    "from sklearn.preprocessing import LabelEncoder\n",
    "le = LabelEncoder()\n",
    "data['insured_sex'] = le.fit_transform(data['insured_sex'])\n",
    "data['insured_education_level'] = le.fit_transform(data['insured_education_level'])\n",
    "data['insured_occupation'] = le.fit_transform(data['insured_occupation'])\n",
    "data['insured_hobbies'] = le.fit_transform(data['insured_hobbies'])\n",
    "data['insured_relationship'] = le.fit_transform(data['insured_relationship'])\n",
    "data['policy_bind_date'] = le.fit_transform(data['policy_bind_date'])\n",
    "data['policy_state'] = le.fit_transform(data['policy_state'])\n",
    "data['policy_csl'] = le.fit_transform(data['policy_csl'])\n",
    "data['incident_location'] = le.fit_transform(data['incident_location'])\n",
    "data['property_damage'] = le.fit_transform(data['property_damage'])\n",
    "data['incident_date'] = le.fit_transform(data['incident_date'])\n",
    "data['incident_type'] = le.fit_transform(data['incident_type'])\n",
    "data['collision_type'] = le.fit_transform(data['collision_type'])\n",
    "data['incident_severity'] = le.fit_transform(data['incident_severity'])\n",
    "data['authorities_contacted'] = le.fit_transform(data['authorities_contacted'])\n",
    "data['incident_state'] = le.fit_transform(data['incident_state'])\n",
    "data['incident_city'] = le.fit_transform(data['incident_city'])\n",
    "data['police_report_available'] = le.fit_transform(data['police_report_available'])\n",
    "data['auto_make'] = le.fit_transform(data['auto_make'])\n",
    "data['auto_model'] = le.fit_transform(data['auto_model'])"
   ]
  },
  {
   "cell_type": "code",
   "execution_count": 22,
   "metadata": {},
   "outputs": [
    {
     "data": {
      "text/html": [
       "<div>\n",
       "<style scoped>\n",
       "    .dataframe tbody tr th:only-of-type {\n",
       "        vertical-align: middle;\n",
       "    }\n",
       "\n",
       "    .dataframe tbody tr th {\n",
       "        vertical-align: top;\n",
       "    }\n",
       "\n",
       "    .dataframe thead th {\n",
       "        text-align: right;\n",
       "    }\n",
       "</style>\n",
       "<table border=\"1\" class=\"dataframe\">\n",
       "  <thead>\n",
       "    <tr style=\"text-align: right;\">\n",
       "      <th></th>\n",
       "      <th>Customer_ID</th>\n",
       "      <th>months_as_customer</th>\n",
       "      <th>age</th>\n",
       "      <th>insured_sex</th>\n",
       "      <th>insured_education_level</th>\n",
       "      <th>insured_occupation</th>\n",
       "      <th>insured_hobbies</th>\n",
       "      <th>insured_relationship</th>\n",
       "      <th>capital-gains</th>\n",
       "      <th>capital-loss</th>\n",
       "      <th>...</th>\n",
       "      <th>incident_severity</th>\n",
       "      <th>authorities_contacted</th>\n",
       "      <th>incident_state</th>\n",
       "      <th>incident_city</th>\n",
       "      <th>witnesses</th>\n",
       "      <th>police_report_available</th>\n",
       "      <th>auto_make</th>\n",
       "      <th>auto_model</th>\n",
       "      <th>auto_year</th>\n",
       "      <th>total_claim_amount</th>\n",
       "    </tr>\n",
       "  </thead>\n",
       "  <tbody>\n",
       "    <tr>\n",
       "      <th>0</th>\n",
       "      <td>Customer_541</td>\n",
       "      <td>239</td>\n",
       "      <td>41</td>\n",
       "      <td>0</td>\n",
       "      <td>3</td>\n",
       "      <td>4</td>\n",
       "      <td>13</td>\n",
       "      <td>2</td>\n",
       "      <td>51400</td>\n",
       "      <td>-6300</td>\n",
       "      <td>...</td>\n",
       "      <td>3</td>\n",
       "      <td>4</td>\n",
       "      <td>0</td>\n",
       "      <td>0</td>\n",
       "      <td>2</td>\n",
       "      <td>2</td>\n",
       "      <td>8</td>\n",
       "      <td>12</td>\n",
       "      <td>2013</td>\n",
       "      <td>14386.67</td>\n",
       "    </tr>\n",
       "    <tr>\n",
       "      <th>1</th>\n",
       "      <td>Customer_440</td>\n",
       "      <td>108</td>\n",
       "      <td>31</td>\n",
       "      <td>1</td>\n",
       "      <td>5</td>\n",
       "      <td>10</td>\n",
       "      <td>19</td>\n",
       "      <td>1</td>\n",
       "      <td>0</td>\n",
       "      <td>0</td>\n",
       "      <td>...</td>\n",
       "      <td>2</td>\n",
       "      <td>1</td>\n",
       "      <td>1</td>\n",
       "      <td>1</td>\n",
       "      <td>2</td>\n",
       "      <td>1</td>\n",
       "      <td>4</td>\n",
       "      <td>27</td>\n",
       "      <td>2006</td>\n",
       "      <td>76440.00</td>\n",
       "    </tr>\n",
       "    <tr>\n",
       "      <th>2</th>\n",
       "      <td>Customer_482</td>\n",
       "      <td>116</td>\n",
       "      <td>30</td>\n",
       "      <td>1</td>\n",
       "      <td>3</td>\n",
       "      <td>5</td>\n",
       "      <td>9</td>\n",
       "      <td>1</td>\n",
       "      <td>0</td>\n",
       "      <td>-35500</td>\n",
       "      <td>...</td>\n",
       "      <td>0</td>\n",
       "      <td>3</td>\n",
       "      <td>6</td>\n",
       "      <td>5</td>\n",
       "      <td>3</td>\n",
       "      <td>0</td>\n",
       "      <td>13</td>\n",
       "      <td>28</td>\n",
       "      <td>2004</td>\n",
       "      <td>79560.00</td>\n",
       "    </tr>\n",
       "    <tr>\n",
       "      <th>3</th>\n",
       "      <td>Customer_422</td>\n",
       "      <td>8</td>\n",
       "      <td>21</td>\n",
       "      <td>1</td>\n",
       "      <td>2</td>\n",
       "      <td>5</td>\n",
       "      <td>10</td>\n",
       "      <td>0</td>\n",
       "      <td>0</td>\n",
       "      <td>0</td>\n",
       "      <td>...</td>\n",
       "      <td>0</td>\n",
       "      <td>3</td>\n",
       "      <td>6</td>\n",
       "      <td>1</td>\n",
       "      <td>0</td>\n",
       "      <td>0</td>\n",
       "      <td>12</td>\n",
       "      <td>11</td>\n",
       "      <td>2012</td>\n",
       "      <td>121680.00</td>\n",
       "    </tr>\n",
       "    <tr>\n",
       "      <th>4</th>\n",
       "      <td>Customer_778</td>\n",
       "      <td>161</td>\n",
       "      <td>38</td>\n",
       "      <td>1</td>\n",
       "      <td>6</td>\n",
       "      <td>8</td>\n",
       "      <td>8</td>\n",
       "      <td>1</td>\n",
       "      <td>60200</td>\n",
       "      <td>0</td>\n",
       "      <td>...</td>\n",
       "      <td>2</td>\n",
       "      <td>4</td>\n",
       "      <td>6</td>\n",
       "      <td>6</td>\n",
       "      <td>2</td>\n",
       "      <td>2</td>\n",
       "      <td>13</td>\n",
       "      <td>20</td>\n",
       "      <td>2003</td>\n",
       "      <td>80640.00</td>\n",
       "    </tr>\n",
       "  </tbody>\n",
       "</table>\n",
       "<p>5 rows × 36 columns</p>\n",
       "</div>"
      ],
      "text/plain": [
       "    Customer_ID  months_as_customer  age  insured_sex  \\\n",
       "0  Customer_541                 239   41            0   \n",
       "1  Customer_440                 108   31            1   \n",
       "2  Customer_482                 116   30            1   \n",
       "3  Customer_422                   8   21            1   \n",
       "4  Customer_778                 161   38            1   \n",
       "\n",
       "   insured_education_level  insured_occupation  insured_hobbies  \\\n",
       "0                        3                   4               13   \n",
       "1                        5                  10               19   \n",
       "2                        3                   5                9   \n",
       "3                        2                   5               10   \n",
       "4                        6                   8                8   \n",
       "\n",
       "   insured_relationship  capital-gains  capital-loss  ...  incident_severity  \\\n",
       "0                     2          51400         -6300  ...                  3   \n",
       "1                     1              0             0  ...                  2   \n",
       "2                     1              0        -35500  ...                  0   \n",
       "3                     0              0             0  ...                  0   \n",
       "4                     1          60200             0  ...                  2   \n",
       "\n",
       "   authorities_contacted  incident_state  incident_city  witnesses  \\\n",
       "0                      4               0              0          2   \n",
       "1                      1               1              1          2   \n",
       "2                      3               6              5          3   \n",
       "3                      3               6              1          0   \n",
       "4                      4               6              6          2   \n",
       "\n",
       "   police_report_available  auto_make  auto_model  auto_year  \\\n",
       "0                        2          8          12       2013   \n",
       "1                        1          4          27       2006   \n",
       "2                        0         13          28       2004   \n",
       "3                        0         12          11       2012   \n",
       "4                        2         13          20       2003   \n",
       "\n",
       "   total_claim_amount  \n",
       "0            14386.67  \n",
       "1            76440.00  \n",
       "2            79560.00  \n",
       "3           121680.00  \n",
       "4            80640.00  \n",
       "\n",
       "[5 rows x 36 columns]"
      ]
     },
     "execution_count": 22,
     "metadata": {},
     "output_type": "execute_result"
    }
   ],
   "source": [
    "data.head()"
   ]
  },
  {
   "cell_type": "code",
   "execution_count": 23,
   "metadata": {},
   "outputs": [
    {
     "name": "stdout",
     "output_type": "stream",
     "text": [
      "(700, 36)\n",
      "(300, 36)\n"
     ]
    }
   ],
   "source": [
    "## Split the data into train and test data\n",
    "train_data=data[:700]\n",
    "test_data=data[700:]\n",
    "\n",
    "print(train_data.shape)\n",
    "print(test_data.shape)"
   ]
  },
  {
   "cell_type": "code",
   "execution_count": 24,
   "metadata": {},
   "outputs": [
    {
     "name": "stderr",
     "output_type": "stream",
     "text": [
      "/Applications/anaconda3/lib/python3.8/site-packages/pandas/core/frame.py:4163: SettingWithCopyWarning: \n",
      "A value is trying to be set on a copy of a slice from a DataFrame\n",
      "\n",
      "See the caveats in the documentation: https://pandas.pydata.org/pandas-docs/stable/user_guide/indexing.html#returning-a-view-versus-a-copy\n",
      "  return super().drop(\n"
     ]
    }
   ],
   "source": [
    "train_data.drop(['Customer_ID'], axis ='columns', inplace= True)\n",
    "\n",
    "test_data.drop(['Customer_ID'], axis ='columns', inplace= True)"
   ]
  },
  {
   "cell_type": "code",
   "execution_count": 25,
   "metadata": {},
   "outputs": [
    {
     "name": "stdout",
     "output_type": "stream",
     "text": [
      "<class 'pandas.core.frame.DataFrame'>\n",
      "RangeIndex: 700 entries, 0 to 699\n",
      "Data columns (total 35 columns):\n",
      " #   Column                       Non-Null Count  Dtype  \n",
      "---  ------                       --------------  -----  \n",
      " 0   months_as_customer           700 non-null    int64  \n",
      " 1   age                          700 non-null    int64  \n",
      " 2   insured_sex                  700 non-null    int64  \n",
      " 3   insured_education_level      700 non-null    int64  \n",
      " 4   insured_occupation           700 non-null    int64  \n",
      " 5   insured_hobbies              700 non-null    int64  \n",
      " 6   insured_relationship         700 non-null    int64  \n",
      " 7   capital-gains                700 non-null    int64  \n",
      " 8   capital-loss                 700 non-null    int64  \n",
      " 9   policy_number                700 non-null    int64  \n",
      " 10  policy_bind_date             700 non-null    int64  \n",
      " 11  policy_state                 700 non-null    int64  \n",
      " 12  policy_csl                   700 non-null    int64  \n",
      " 13  policy_deductable            700 non-null    int64  \n",
      " 14  incident_location            700 non-null    int64  \n",
      " 15  incident_hour_of_the_day     700 non-null    int64  \n",
      " 16  number_of_vehicles_involved  700 non-null    int64  \n",
      " 17  property_damage              700 non-null    int64  \n",
      " 18  bodily_injuries              700 non-null    int64  \n",
      " 19  policy_annual_premium        700 non-null    float64\n",
      " 20  umbrella_limit               700 non-null    int64  \n",
      " 21  insured_zip                  700 non-null    int64  \n",
      " 22  incident_date                700 non-null    int64  \n",
      " 23  incident_type                700 non-null    int64  \n",
      " 24  collision_type               700 non-null    int64  \n",
      " 25  incident_severity            700 non-null    int64  \n",
      " 26  authorities_contacted        700 non-null    int64  \n",
      " 27  incident_state               700 non-null    int64  \n",
      " 28  incident_city                700 non-null    int64  \n",
      " 29  witnesses                    700 non-null    int64  \n",
      " 30  police_report_available      700 non-null    int64  \n",
      " 31  auto_make                    700 non-null    int64  \n",
      " 32  auto_model                   700 non-null    int64  \n",
      " 33  auto_year                    700 non-null    int64  \n",
      " 34  total_claim_amount           700 non-null    float64\n",
      "dtypes: float64(2), int64(33)\n",
      "memory usage: 191.5 KB\n"
     ]
    }
   ],
   "source": [
    "train_data.info()"
   ]
  },
  {
   "cell_type": "code",
   "execution_count": 26,
   "metadata": {},
   "outputs": [
    {
     "name": "stdout",
     "output_type": "stream",
     "text": [
      "<class 'pandas.core.frame.DataFrame'>\n",
      "RangeIndex: 300 entries, 700 to 999\n",
      "Data columns (total 35 columns):\n",
      " #   Column                       Non-Null Count  Dtype  \n",
      "---  ------                       --------------  -----  \n",
      " 0   months_as_customer           300 non-null    int64  \n",
      " 1   age                          300 non-null    int64  \n",
      " 2   insured_sex                  300 non-null    int64  \n",
      " 3   insured_education_level      300 non-null    int64  \n",
      " 4   insured_occupation           300 non-null    int64  \n",
      " 5   insured_hobbies              300 non-null    int64  \n",
      " 6   insured_relationship         300 non-null    int64  \n",
      " 7   capital-gains                300 non-null    int64  \n",
      " 8   capital-loss                 300 non-null    int64  \n",
      " 9   policy_number                300 non-null    int64  \n",
      " 10  policy_bind_date             300 non-null    int64  \n",
      " 11  policy_state                 300 non-null    int64  \n",
      " 12  policy_csl                   300 non-null    int64  \n",
      " 13  policy_deductable            300 non-null    int64  \n",
      " 14  incident_location            300 non-null    int64  \n",
      " 15  incident_hour_of_the_day     300 non-null    int64  \n",
      " 16  number_of_vehicles_involved  300 non-null    int64  \n",
      " 17  property_damage              300 non-null    int64  \n",
      " 18  bodily_injuries              300 non-null    int64  \n",
      " 19  policy_annual_premium        300 non-null    float64\n",
      " 20  umbrella_limit               300 non-null    int64  \n",
      " 21  insured_zip                  300 non-null    int64  \n",
      " 22  incident_date                300 non-null    int64  \n",
      " 23  incident_type                300 non-null    int64  \n",
      " 24  collision_type               300 non-null    int64  \n",
      " 25  incident_severity            300 non-null    int64  \n",
      " 26  authorities_contacted        300 non-null    int64  \n",
      " 27  incident_state               300 non-null    int64  \n",
      " 28  incident_city                300 non-null    int64  \n",
      " 29  witnesses                    300 non-null    int64  \n",
      " 30  police_report_available      300 non-null    int64  \n",
      " 31  auto_make                    300 non-null    int64  \n",
      " 32  auto_model                   300 non-null    int64  \n",
      " 33  auto_year                    300 non-null    int64  \n",
      " 34  total_claim_amount           0 non-null      float64\n",
      "dtypes: float64(2), int64(33)\n",
      "memory usage: 82.2 KB\n"
     ]
    }
   ],
   "source": [
    "index_col = test_dataset['Customer_ID']\n",
    "test_data.drop(['Customer_ID'], axis ='columns', inplace= True)\n",
    "test_data.info()"
   ]
  },
  {
   "cell_type": "code",
   "execution_count": 27,
   "metadata": {},
   "outputs": [],
   "source": [
    "y = train_data['total_claim_amount']\n",
    "X = train_data.drop(['total_claim_amount'], axis = 1)\n",
    "#test_data=test_data.drop(['total_claim_amount'], axis = 1).iloc[:-1].values\n",
    "test_data = test_data.drop(['total_claim_amount'], axis = 1)"
   ]
  },
  {
   "cell_type": "code",
   "execution_count": 28,
   "metadata": {},
   "outputs": [
    {
     "data": {
      "text/plain": [
       "(700,)"
      ]
     },
     "execution_count": 28,
     "metadata": {},
     "output_type": "execute_result"
    }
   ],
   "source": [
    "y.shape"
   ]
  },
  {
   "cell_type": "code",
   "execution_count": 29,
   "metadata": {},
   "outputs": [
    {
     "data": {
      "text/plain": [
       "(700, 34)"
      ]
     },
     "execution_count": 29,
     "metadata": {},
     "output_type": "execute_result"
    }
   ],
   "source": [
    "X.shape"
   ]
  },
  {
   "cell_type": "code",
   "execution_count": 30,
   "metadata": {},
   "outputs": [
    {
     "data": {
      "text/plain": [
       "(300, 34)"
      ]
     },
     "execution_count": 30,
     "metadata": {},
     "output_type": "execute_result"
    }
   ],
   "source": [
    "test_data.shape"
   ]
  },
  {
   "cell_type": "code",
   "execution_count": 31,
   "metadata": {},
   "outputs": [],
   "source": [
    "from sklearn.model_selection import train_test_split\n",
    "X_train, X_test, y_train, y_test = train_test_split(X, y, test_size = 0.2, random_state = 0)"
   ]
  },
  {
   "cell_type": "code",
   "execution_count": 32,
   "metadata": {},
   "outputs": [],
   "source": [
    "## Scale the data\n",
    "from sklearn.preprocessing import StandardScaler\n",
    "# creating a standard scaler\n",
    "sc = StandardScaler()\n",
    "# feeding independents sets into the standard scaler\n",
    "X_train = sc.fit_transform(X_train)\n",
    "X_test = sc.fit_transform(X_test)"
   ]
  },
  {
   "cell_type": "code",
   "execution_count": 33,
   "metadata": {},
   "outputs": [
    {
     "name": "stdout",
     "output_type": "stream",
     "text": [
      "(560, 34)\n",
      "(140, 34)\n",
      "(560,)\n"
     ]
    }
   ],
   "source": [
    "print(X_train.shape)\n",
    "print(X_test.shape)\n",
    "print(y_train.shape)"
   ]
  },
  {
   "cell_type": "code",
   "execution_count": 34,
   "metadata": {},
   "outputs": [],
   "source": [
    "# Linear Regression\n",
    "from sklearn.linear_model import LinearRegression"
   ]
  },
  {
   "cell_type": "code",
   "execution_count": 35,
   "metadata": {},
   "outputs": [],
   "source": [
    "# creating the Linear Regression model\n",
    "lR = LinearRegression()"
   ]
  },
  {
   "cell_type": "code",
   "execution_count": 36,
   "metadata": {},
   "outputs": [
    {
     "data": {
      "text/plain": [
       "LinearRegression()"
      ]
     },
     "execution_count": 36,
     "metadata": {},
     "output_type": "execute_result"
    }
   ],
   "source": [
    "# # feeding the training data to the model\n",
    "lR.fit(X_train, y_train)"
   ]
  },
  {
   "cell_type": "code",
   "execution_count": 37,
   "metadata": {},
   "outputs": [
    {
     "name": "stdout",
     "output_type": "stream",
     "text": [
      "[ 32429.78226075  66457.33581476  85872.05696026  30597.83004553\n",
      "  53034.5564593   96878.54743345  86769.75168441  68211.813305\n",
      " 104426.82156342  67881.42738511  56178.14183856  79340.84784545\n",
      "  82080.10496256 102185.32155523  71467.11074065  54833.61396564\n",
      " 100863.30923995  71031.53404212  69532.76142123  81554.31183989\n",
      "  69674.83128222  87366.14684871  82548.92516244  86626.79267944\n",
      "  71536.47552298  62026.31598367  64945.85364745  33849.7629926\n",
      "  98798.15078523  67325.74359252  85208.95809343  79857.29117419\n",
      "  87728.77795213  88603.33857984 109084.88563381  56793.50522959\n",
      " 111727.10060419  39509.92697511  74221.42758251  70202.7578792\n",
      "  74191.83374801  46671.58111688  94299.29306396 103024.7284577\n",
      "  71502.70015738  58703.26387176  68391.30946378  63242.35631799\n",
      "  89265.62570298  88055.33098781 105000.69799647  89832.26682999\n",
      " 112502.43394912  50217.92391771  53515.99315145  47988.86612644\n",
      "  73751.80513342  92953.32348248  72399.33102069  40745.49077904\n",
      "  80823.42035335  79526.84110321  77145.69732427  20482.0818836\n",
      " 105100.66634183  90549.38447563  84987.50029922  52279.24666002\n",
      "  80076.88871027  81604.76465653  58585.69473699 109690.0053114\n",
      "  86637.90521134  57531.8730277   57829.34229744  81419.83333456\n",
      "  22045.20381267  72225.51630323  92151.73212262  74814.53305417\n",
      "  91710.63267302  94012.42903826  82399.9846346   79770.63499905\n",
      "  78384.97313687  87333.53480113  90035.952661    51094.94332953\n",
      "  30605.19846413  22915.00144098  83850.26235424  64070.06996034\n",
      "  30557.35787732  69254.93538424 111427.35671387  71261.42397216\n",
      "  56544.42844284  69733.43636935  81237.66963184  84332.76709365\n",
      "  77474.80452072  37376.51159176  48489.95979811  80857.29358488\n",
      "  64279.08929503  89438.24650469  58677.87120041  80950.24334292\n",
      "  65318.16635327  10042.16988206  25756.23891636  64952.28301161\n",
      "  87082.59946624  67773.12887855  95468.55866013  29121.80576239\n",
      "  92021.85691187  40693.98434184  81244.18175949  69795.62678976\n",
      "  89803.6581924   89574.54324046  98159.30488998 100375.33440058\n",
      "  27614.10828477  37641.85058126  62105.48559621  86832.24595326\n",
      "  80885.78423818  37696.31549764  42547.62891884  76818.09484016\n",
      "  92604.04022876  50407.0033333   80195.73329446  82031.2597949\n",
      "  15463.62042154  78566.73861879  62867.14354518  64627.57771922]\n"
     ]
    }
   ],
   "source": [
    "ypred_lR = lR.predict(X_test)\n",
    "print(ypred_lR)"
   ]
  },
  {
   "cell_type": "code",
   "execution_count": 38,
   "metadata": {},
   "outputs": [
    {
     "data": {
      "text/plain": [
       "578618331.5655253"
      ]
     },
     "execution_count": 38,
     "metadata": {},
     "output_type": "execute_result"
    }
   ],
   "source": [
    "from sklearn import metrics #import accuracy_score,mean_squared_error, r2_score\n",
    "from math import sqrt\n",
    "MSE = metrics.mean_squared_error(y_test, ypred_lR)\n",
    "MSE"
   ]
  },
  {
   "cell_type": "code",
   "execution_count": 39,
   "metadata": {},
   "outputs": [
    {
     "data": {
      "text/plain": [
       "24054.486724216862"
      ]
     },
     "execution_count": 39,
     "metadata": {},
     "output_type": "execute_result"
    }
   ],
   "source": [
    "np.sqrt(MSE)"
   ]
  },
  {
   "cell_type": "code",
   "execution_count": 40,
   "metadata": {},
   "outputs": [],
   "source": [
    "ypred_lR = lR.predict(test_data)"
   ]
  },
  {
   "cell_type": "code",
   "execution_count": 41,
   "metadata": {},
   "outputs": [],
   "source": [
    "#submission = pd.DataFrame()\n",
    "#submission[\"Customer_ID\"] = testID\n",
    "#submission[\"total_claim_amount \"] = ypred_lR\n",
    "\n",
    "#submission = pd.DataFrame()\n",
    "#submission[\"Applicant_ID\"] = testId\n",
    "#submission[\"default_status\"] = output\n",
    "\n",
    "#submission = pd.DataFrame({'Customer_ID':index_col,'total_claim_amount':ypred_lR})\n",
    "\n",
    "# Save results\n",
    "\n",
    "#submission.to_csv('lR_Insurance_Claim.csv', index=False)\n",
    "\n",
    "\n",
    "outputlR = pd.DataFrame({'Customer_ID': index_col, 'total_claim_amount': ypred_lR}) \n",
    "\n",
    "outputlR.to_csv('submission_outputlR.csv', index=False)"
   ]
  },
  {
   "cell_type": "code",
   "execution_count": 42,
   "metadata": {},
   "outputs": [
    {
     "data": {
      "text/plain": [
       "RandomForestRegressor(max_features=None, max_leaf_nodes=2, max_samples=0.2,\n",
       "                      min_samples_split=1.0, n_estimators=10, n_jobs=1,\n",
       "                      random_state=123)"
      ]
     },
     "execution_count": 42,
     "metadata": {},
     "output_type": "execute_result"
    }
   ],
   "source": [
    "from sklearn.ensemble import RandomForestRegressor\n",
    "RFRegressor = RandomForestRegressor(bootstrap=True, ccp_alpha=0.0, criterion='mse',\n",
    "                      max_depth=None, max_features=None, max_leaf_nodes=2,\n",
    "                      max_samples=0.2, min_impurity_decrease=0.0,\n",
    "                      min_impurity_split=None, min_samples_leaf=1,\n",
    "                      min_samples_split=1.0, min_weight_fraction_leaf=0.0,\n",
    "                      n_estimators=10, n_jobs=1, oob_score=False,\n",
    "                      random_state=123, verbose=0, warm_start=False)\n",
    "\n",
    "RFRegressor.fit(X_train, y_train)\n"
   ]
  },
  {
   "cell_type": "code",
   "execution_count": 43,
   "metadata": {},
   "outputs": [
    {
     "name": "stdout",
     "output_type": "stream",
     "text": [
      "[70045.15457143 70045.15457143 70045.15457143 70045.15457143\n",
      " 70045.15457143 70045.15457143 70045.15457143 70045.15457143\n",
      " 70045.15457143 70045.15457143 70045.15457143 70045.15457143\n",
      " 70045.15457143 70045.15457143 70045.15457143 70045.15457143\n",
      " 70045.15457143 70045.15457143 70045.15457143 70045.15457143\n",
      " 70045.15457143 70045.15457143 70045.15457143 70045.15457143\n",
      " 70045.15457143 70045.15457143 70045.15457143 70045.15457143\n",
      " 70045.15457143 70045.15457143 70045.15457143 70045.15457143\n",
      " 70045.15457143 70045.15457143 70045.15457143 70045.15457143\n",
      " 70045.15457143 70045.15457143 70045.15457143 70045.15457143\n",
      " 70045.15457143 70045.15457143 70045.15457143 70045.15457143\n",
      " 70045.15457143 70045.15457143 70045.15457143 70045.15457143\n",
      " 70045.15457143 70045.15457143 70045.15457143 70045.15457143\n",
      " 70045.15457143 70045.15457143 70045.15457143 70045.15457143\n",
      " 70045.15457143 70045.15457143 70045.15457143 70045.15457143\n",
      " 70045.15457143 70045.15457143 70045.15457143 70045.15457143\n",
      " 70045.15457143 70045.15457143 70045.15457143 70045.15457143\n",
      " 70045.15457143 70045.15457143 70045.15457143 70045.15457143\n",
      " 70045.15457143 70045.15457143 70045.15457143 70045.15457143\n",
      " 70045.15457143 70045.15457143 70045.15457143 70045.15457143\n",
      " 70045.15457143 70045.15457143 70045.15457143 70045.15457143\n",
      " 70045.15457143 70045.15457143 70045.15457143 70045.15457143\n",
      " 70045.15457143 70045.15457143 70045.15457143 70045.15457143\n",
      " 70045.15457143 70045.15457143 70045.15457143 70045.15457143\n",
      " 70045.15457143 70045.15457143 70045.15457143 70045.15457143\n",
      " 70045.15457143 70045.15457143 70045.15457143 70045.15457143\n",
      " 70045.15457143 70045.15457143 70045.15457143 70045.15457143\n",
      " 70045.15457143 70045.15457143 70045.15457143 70045.15457143\n",
      " 70045.15457143 70045.15457143 70045.15457143 70045.15457143\n",
      " 70045.15457143 70045.15457143 70045.15457143 70045.15457143\n",
      " 70045.15457143 70045.15457143 70045.15457143 70045.15457143\n",
      " 70045.15457143 70045.15457143 70045.15457143 70045.15457143\n",
      " 70045.15457143 70045.15457143 70045.15457143 70045.15457143\n",
      " 70045.15457143 70045.15457143 70045.15457143 70045.15457143\n",
      " 70045.15457143 70045.15457143 70045.15457143 70045.15457143]\n"
     ]
    }
   ],
   "source": [
    "ypred_RFRegressor = RFRegressor.predict(X_test)\n",
    "print(ypred_RFRegressor)"
   ]
  },
  {
   "cell_type": "code",
   "execution_count": 44,
   "metadata": {},
   "outputs": [
    {
     "data": {
      "text/plain": [
       "1168200327.4424236"
      ]
     },
     "execution_count": 44,
     "metadata": {},
     "output_type": "execute_result"
    }
   ],
   "source": [
    "#from sklearn.metrics import mean_squared_error\n",
    "from sklearn import metrics #import accuracy_score,mean_squared_error, r2_score\n",
    "from math import sqrt\n",
    "\n",
    "MSE = metrics.mean_squared_error(y_test, ypred_RFRegressor)\n",
    "MSE \n",
    "# sqrt(mean_squared_error(y_test, ypred_RFRegressor))"
   ]
  },
  {
   "cell_type": "code",
   "execution_count": 45,
   "metadata": {},
   "outputs": [
    {
     "data": {
      "text/plain": [
       "34178.94567482186"
      ]
     },
     "execution_count": 45,
     "metadata": {},
     "output_type": "execute_result"
    }
   ],
   "source": [
    "np.sqrt(MSE)"
   ]
  },
  {
   "cell_type": "code",
   "execution_count": 46,
   "metadata": {},
   "outputs": [],
   "source": [
    "ypred_RFRegressor = RFRegressor.predict(test_data.values)"
   ]
  },
  {
   "cell_type": "code",
   "execution_count": 47,
   "metadata": {},
   "outputs": [],
   "source": [
    "#submission = pd.DataFrame()\n",
    "#submission[\"Customer_ID\"] = testID\n",
    "#submission[\"total_claim_amount \"] = ypred_RFRegressor\n",
    "\n",
    "#submission = pd.DataFrame()\n",
    "#submission[\"Applicant_ID\"] = testId\n",
    "#submission[\"default_status\"] = output\n",
    "\n",
    "#submission = pd.DataFrame({'Customer_ID':index_col,'total_claim_amount':ypred_lR})\n",
    "\n",
    "# Save results\n",
    "\n",
    "#submission.to_csv('RFRegressor_Insurance_Claim.csv', index=False)\n",
    "\n",
    "outputRFR = pd.DataFrame({'Customer_ID': index_col, 'total_claim_amount': ypred_RFRegressor}) \n",
    "\n",
    "outputRFR.to_csv('submission_outputRFR_2.csv', index=False)"
   ]
  },
  {
   "cell_type": "code",
   "execution_count": 48,
   "metadata": {},
   "outputs": [],
   "source": [
    "import xgboost as xgb\n",
    "from xgboost import XGBRegressor"
   ]
  },
  {
   "cell_type": "code",
   "execution_count": 49,
   "metadata": {},
   "outputs": [
    {
     "name": "stdout",
     "output_type": "stream",
     "text": [
      "XGBRegressor(base_score=None, booster='gbtree', colsample_bylevel=None,\n",
      "             colsample_bynode=None, colsample_bytree=None, gamma=1, gpu_id=None,\n",
      "             importance_type='gain', interaction_constraints=None,\n",
      "             learning_rate=0.1, max_delta_step=None, max_depth=6,\n",
      "             min_child_weight=None, missing=nan, monotone_constraints=None,\n",
      "             n_estimators=100, n_jobs=-1, num_parallel_tree=None,\n",
      "             random_state=None, reg_alpha=None, reg_lambda=None,\n",
      "             scale_pos_weight=None, seed=123, subsample=0.7, tree_method=None,\n",
      "             validate_parameters=None, verbosity=0)\n"
     ]
    }
   ],
   "source": [
    "#xgbr = xgb.XGBRegressor(verbosity=0) \n",
    "\n",
    "xgbr = xgb.XGBRegressor(booster= 'gbtree', learning_rate=0.1, n_estimators=100, max_depth=6, objective ='reg:squarederror', \n",
    "                        seed = 123, gamma=1, subsample=0.7, verbosity=0, n_jobs=-1)\n",
    "print(xgbr)"
   ]
  },
  {
   "cell_type": "code",
   "execution_count": 50,
   "metadata": {},
   "outputs": [
    {
     "data": {
      "text/plain": [
       "XGBRegressor(base_score=0.5, booster='gbtree', colsample_bylevel=1,\n",
       "             colsample_bynode=1, colsample_bytree=1, gamma=1, gpu_id=-1,\n",
       "             importance_type='gain', interaction_constraints='',\n",
       "             learning_rate=0.1, max_delta_step=0, max_depth=6,\n",
       "             min_child_weight=1, missing=nan, monotone_constraints='()',\n",
       "             n_estimators=100, n_jobs=-1, num_parallel_tree=1, random_state=123,\n",
       "             reg_alpha=0, reg_lambda=1, scale_pos_weight=1, seed=123,\n",
       "             subsample=0.7, tree_method='exact', validate_parameters=1,\n",
       "             verbosity=0)"
      ]
     },
     "execution_count": 50,
     "metadata": {},
     "output_type": "execute_result"
    }
   ],
   "source": [
    "xgbr.fit(X_train,y_train)"
   ]
  },
  {
   "cell_type": "code",
   "execution_count": 51,
   "metadata": {},
   "outputs": [
    {
     "name": "stdout",
     "output_type": "stream",
     "text": [
      "[  6753.534   78714.29    86750.69     8575.857   88696.18    94175.17\n",
      "  99078.375   76761.02    82028.37    75271.48    79439.17    90534.16\n",
      "  82913.06    96934.97    95459.414   79920.01    85500.234   83368.125\n",
      "  72245.56    86424.91    60907.117   79820.48    72185.63    71273.625\n",
      "  91258.89    80402.92    89183.984   14755.907   85424.5     86833.484\n",
      "  82285.12    93336.81    87974.22    75881.4     75072.62    76247.91\n",
      "  89315.22    15389.981  106510.99    89659.09    72230.35    70907.45\n",
      "  97010.07    92104.58    83728.35    91787.94    72108.414   87593.77\n",
      "  75614.37    84001.24    75360.625   79673.77    71892.77    74895.29\n",
      "  92023.1     90198.19    76225.62   101311.72    73727.8      7653.99\n",
      "  84445.39    94672.55    89159.39    10280.273   97282.08    83345.88\n",
      "  78579.04    94715.125   93780.875   97074.32    86369.69    91115.13\n",
      "  73402.766   88148.945  104121.92    93599.1      7219.551   90222.734\n",
      "  62496.082   86820.71    79119.81    79117.61    86131.44   109939.01\n",
      "  78743.08    74155.1     93829.555  102607.43    11889.728   15320.375\n",
      "  85677.35    89671.78     1544.2871  95027.445   83019.03    78462.055\n",
      "  85885.016   90021.516   83457.914   89485.73    88141.62     6857.851\n",
      "  11991.521   73172.1     76481.7     80853.16    81071.47    94207.86\n",
      "  78499.695    7472.4883   7951.107   73001.98    75982.77    69536.14\n",
      "  87491.07     5964.2915  79212.914   14055.45    84968.555   85495.07\n",
      "  77406.54    71128.08    96736.27    83716.44     9135.502   10100.891\n",
      " 104289.055   76383.1     79569.89    10977.849   13074.083   81686.54\n",
      "  88245.6     15237.562   81522.49    86170.39    17009.248   83489.17\n",
      "  94393.89    86183.26  ]\n"
     ]
    }
   ],
   "source": [
    "ypred_xgbr = xgbr.predict(X_test)\n",
    "print(ypred_xgbr)"
   ]
  },
  {
   "cell_type": "code",
   "execution_count": 52,
   "metadata": {},
   "outputs": [
    {
     "data": {
      "text/plain": [
       "384170484.4191814"
      ]
     },
     "execution_count": 52,
     "metadata": {},
     "output_type": "execute_result"
    }
   ],
   "source": [
    "MSE = metrics.mean_squared_error(y_test, ypred_xgbr)\n",
    "MSE"
   ]
  },
  {
   "cell_type": "code",
   "execution_count": 53,
   "metadata": {},
   "outputs": [
    {
     "data": {
      "text/plain": [
       "19600.267457848156"
      ]
     },
     "execution_count": 53,
     "metadata": {},
     "output_type": "execute_result"
    }
   ],
   "source": [
    "np.sqrt(MSE)"
   ]
  },
  {
   "cell_type": "code",
   "execution_count": 54,
   "metadata": {},
   "outputs": [],
   "source": [
    "ypred_xgbr = xgbr.predict(test_data.values)"
   ]
  },
  {
   "cell_type": "code",
   "execution_count": 55,
   "metadata": {},
   "outputs": [],
   "source": [
    "output_xgbr = pd.DataFrame({'Customer_ID': index_col, 'total_claim_amount': ypred_xgbr}) \n",
    "\n",
    "#output_xgbr.to_csv('submission_output_xgbr.csv', index=False)\n",
    "output_xgbr.to_csv('submission_output_xgbr_tuned.csv', index=False)"
   ]
  },
  {
   "cell_type": "code",
   "execution_count": 75,
   "metadata": {},
   "outputs": [
    {
     "name": "stdout",
     "output_type": "stream",
     "text": [
      "CPU times: user 34.1 s, sys: 1.94 s, total: 36 s\n",
      "Wall time: 14.7 s\n"
     ]
    },
    {
     "data": {
      "text/plain": [
       "RandomizedSearchCV(estimator=XGBRegressor(base_score=None, booster=None,\n",
       "                                          colsample_bylevel=None,\n",
       "                                          colsample_bynode=None,\n",
       "                                          colsample_bytree=None, gamma=None,\n",
       "                                          gpu_id=None, importance_type='gain',\n",
       "                                          interaction_constraints=None,\n",
       "                                          learning_rate=None,\n",
       "                                          max_delta_step=None, max_depth=None,\n",
       "                                          min_child_weight=None, missing=nan,\n",
       "                                          monotone_constraints=None,\n",
       "                                          n_estimators=100, n_jobs...\n",
       "                                          reg_lambda=None,\n",
       "                                          scale_pos_weight=None, subsample=None,\n",
       "                                          tree_method=None,\n",
       "                                          validate_parameters=None,\n",
       "                                          verbosity=None),\n",
       "                   param_distributions={'colsample_bytree': [0.5, 0.7],\n",
       "                                        'learning_rate': [0.0001, 0.001, 0.01,\n",
       "                                                          0.1, 0.2, 0.3],\n",
       "                                        'max_depth': [3, 5, 7],\n",
       "                                        'min_child_weight': [1, 3, 5],\n",
       "                                        'n_estimators': [100, 200, 400, 500,\n",
       "                                                         600, 800, 1000],\n",
       "                                        'objective': ['reg:squarederror'],\n",
       "                                        'subsample': [0.5, 0.7]})"
      ]
     },
     "execution_count": 75,
     "metadata": {},
     "output_type": "execute_result"
    }
   ],
   "source": [
    "from sklearn.model_selection import RandomizedSearchCV\n",
    "\n",
    "xgbr = XGBRegressor()\n",
    "\n",
    "parameters = {'objective':['reg:squarederror'],\n",
    "              'learning_rate': [0.0001, 0.001, 0.01, 0.1, 0.2, 0.3], #so called `eta` value\n",
    "              'max_depth': [3, 5, 7,],\n",
    "              'min_child_weight': [1, 3, 5],\n",
    "              'subsample': [0.5, 0.7],\n",
    "              'colsample_bytree': [0.5, 0.7],\n",
    "              'n_estimators': [100, 200, 400, 500, 600, 800, 1000]}\n",
    "\n",
    "random_search = RandomizedSearchCV(xgbr, param_distributions=parameters,\n",
    "                                   n_iter=10)\n",
    "\n",
    "%time random_search.fit(X_train, y_train, early_stopping_rounds=5, eval_set=[(X_test, y_test)], verbose=0)"
   ]
  },
  {
   "cell_type": "code",
   "execution_count": 76,
   "metadata": {},
   "outputs": [
    {
     "name": "stdout",
     "output_type": "stream",
     "text": [
      "MSE:  337719263.84576744\n"
     ]
    }
   ],
   "source": [
    "y_pred_random_search = random_search.predict(X_test)\n",
    "\n",
    "random_search_mse_x = metrics.mean_squared_error(y_test, y_pred_random_search)\n",
    "\n",
    "print(\"MSE: \", random_search_mse_x )"
   ]
  },
  {
   "cell_type": "code",
   "execution_count": 77,
   "metadata": {},
   "outputs": [
    {
     "name": "stdout",
     "output_type": "stream",
     "text": [
      "RMSE:  18377.139707956932\n"
     ]
    }
   ],
   "source": [
    "print(\"RMSE: \", np.sqrt(random_search_mse_x))"
   ]
  },
  {
   "cell_type": "code",
   "execution_count": 78,
   "metadata": {},
   "outputs": [],
   "source": [
    "y_pred_X = random_search.predict(test_data.values)\n",
    "\n",
    "submission = pd.DataFrame({'Customer_ID':index_col,'total_claim_amount':y_pred_X})\n",
    "\n",
    "# Save results\n",
    "submission.to_csv(\"submission_pred_X.csv\",index=False)"
   ]
  },
  {
   "cell_type": "code",
   "execution_count": 63,
   "metadata": {},
   "outputs": [
    {
     "data": {
      "text/plain": [
       "GradientBoostingRegressor(max_depth=None)"
      ]
     },
     "execution_count": 63,
     "metadata": {},
     "output_type": "execute_result"
    }
   ],
   "source": [
    "from sklearn.ensemble import GradientBoostingRegressor\n",
    "\n",
    "regr = GradientBoostingRegressor(n_estimators=100, learning_rate=0.1, max_depth=None)\n",
    "regr.fit(X_train, y_train)"
   ]
  },
  {
   "cell_type": "code",
   "execution_count": 64,
   "metadata": {},
   "outputs": [],
   "source": [
    "y_pred = regr.predict(X_test)"
   ]
  },
  {
   "cell_type": "code",
   "execution_count": 65,
   "metadata": {},
   "outputs": [
    {
     "name": "stdout",
     "output_type": "stream",
     "text": [
      "MSE:  696324164.8838314\n"
     ]
    }
   ],
   "source": [
    "MSE = metrics.mean_squared_error(y_test, y_pred)\n",
    "\n",
    "print(\"MSE: \", MSE)"
   ]
  },
  {
   "cell_type": "code",
   "execution_count": 66,
   "metadata": {},
   "outputs": [
    {
     "data": {
      "text/plain": [
       "26387.954920452463"
      ]
     },
     "execution_count": 66,
     "metadata": {},
     "output_type": "execute_result"
    }
   ],
   "source": [
    "np.sqrt(MSE)"
   ]
  },
  {
   "cell_type": "code",
   "execution_count": 67,
   "metadata": {},
   "outputs": [],
   "source": [
    "y_pred = regr.predict(test_data.values)"
   ]
  },
  {
   "cell_type": "code",
   "execution_count": 68,
   "metadata": {},
   "outputs": [],
   "source": [
    "output_gbr = pd.DataFrame({'Customer_ID': index_col, 'total_claim_amount': y_pred}) \n",
    "\n",
    "output_gbr.to_csv('submission_output_gbr.csv', index=False)"
   ]
  },
  {
   "cell_type": "code",
   "execution_count": 69,
   "metadata": {},
   "outputs": [],
   "source": [
    "def hyperParameterTuning(X_train, y_train):\n",
    "    param_tuning = {\n",
    "        'learning_rate': [0.0001, 0.001, 0.01, 0.1, 0.2, 0.3],\n",
    "        'max_depth': [3, 5, 7, 10],\n",
    "        'min_child_weight': [1, 3, 5],\n",
    "        'subsample': [0.5, 0.7],\n",
    "        'colsample_bytree': [0.5, 0.7],\n",
    "        'n_estimators' : [100, 200, 400, 500, 600, 800, 1000],\n",
    "        'objective': ['reg:squarederror']\n",
    "    }\n",
    "\n",
    "    xgbr_model = XGBRegressor()\n",
    "\n",
    "    gsearch = GridSearchCV(estimator = xgbr_model,\n",
    "                           param_grid = param_tuning,                        \n",
    "                           scoring_MSE = 'neg_mean_squared_error',  #MSE\n",
    "                           cv = 10,\n",
    "                           n_jobs = -1,\n",
    "                           verbose = 1)\n",
    "\n",
    "    gsearch.fit(X_train,y_train)\n",
    "\n",
    "    return gsearch.best_params_"
   ]
  },
  {
   "cell_type": "code",
   "execution_count": 70,
   "metadata": {},
   "outputs": [
    {
     "name": "stdout",
     "output_type": "stream",
     "text": [
      "[0]\tvalidation_0-rmse:73589.25000\n",
      "[1]\tvalidation_0-rmse:66784.12500\n",
      "[2]\tvalidation_0-rmse:61311.77734\n",
      "[3]\tvalidation_0-rmse:55939.49609\n",
      "[4]\tvalidation_0-rmse:51145.27344\n",
      "[5]\tvalidation_0-rmse:47428.36719\n",
      "[6]\tvalidation_0-rmse:43585.26172\n",
      "[7]\tvalidation_0-rmse:40357.02344\n",
      "[8]\tvalidation_0-rmse:37404.02344\n",
      "[9]\tvalidation_0-rmse:34760.76953\n",
      "[10]\tvalidation_0-rmse:32395.87109\n",
      "[11]\tvalidation_0-rmse:30275.49805\n",
      "[12]\tvalidation_0-rmse:28599.85156\n",
      "[13]\tvalidation_0-rmse:26947.27539\n",
      "[14]\tvalidation_0-rmse:25596.97070\n",
      "[15]\tvalidation_0-rmse:24482.33203\n",
      "[16]\tvalidation_0-rmse:23568.50977\n",
      "[17]\tvalidation_0-rmse:22600.84375\n",
      "[18]\tvalidation_0-rmse:21736.11328\n",
      "[19]\tvalidation_0-rmse:21179.22461\n",
      "[20]\tvalidation_0-rmse:20612.40625\n",
      "[21]\tvalidation_0-rmse:20212.49023\n",
      "[22]\tvalidation_0-rmse:19918.50977\n",
      "[23]\tvalidation_0-rmse:19564.86914\n",
      "[24]\tvalidation_0-rmse:19334.48633\n",
      "[25]\tvalidation_0-rmse:19094.00781\n",
      "[26]\tvalidation_0-rmse:18853.18945\n",
      "[27]\tvalidation_0-rmse:18689.23633\n",
      "[28]\tvalidation_0-rmse:18491.00977\n",
      "[29]\tvalidation_0-rmse:18371.91992\n",
      "[30]\tvalidation_0-rmse:18251.45312\n",
      "[31]\tvalidation_0-rmse:18220.23242\n",
      "[32]\tvalidation_0-rmse:18134.18555\n",
      "[33]\tvalidation_0-rmse:18102.77734\n",
      "[34]\tvalidation_0-rmse:18067.69531\n",
      "[35]\tvalidation_0-rmse:18076.91211\n",
      "[36]\tvalidation_0-rmse:18106.90430\n",
      "[37]\tvalidation_0-rmse:18095.68164\n",
      "[38]\tvalidation_0-rmse:18059.61719\n",
      "[39]\tvalidation_0-rmse:18093.41797\n",
      "[40]\tvalidation_0-rmse:17984.74609\n",
      "[41]\tvalidation_0-rmse:17951.03516\n",
      "[42]\tvalidation_0-rmse:17979.17188\n",
      "[43]\tvalidation_0-rmse:18098.84961\n",
      "[44]\tvalidation_0-rmse:18119.35156\n",
      "[45]\tvalidation_0-rmse:18157.27734\n",
      "CPU times: user 471 ms, sys: 74.7 ms, total: 546 ms\n",
      "Wall time: 628 ms\n",
      "MSE:  322239644.7259495\n"
     ]
    }
   ],
   "source": [
    "xgbr_model = XGBRegressor(\n",
    "        objective = 'reg:squarederror',\n",
    "        colsample_bytree = 0.5,\n",
    "        learning_rate = 0.1,\n",
    "        max_depth = None,\n",
    "        min_child_weight = 1,\n",
    "        n_estimators = 100,\n",
    "        subsample = 0.7)\n",
    "\n",
    "%time xgbr_model.fit(X_train, y_train, early_stopping_rounds=5, eval_set=[(X_test, y_test)], verbose=1)\n",
    "\n",
    "y_pred_xgbr = xgbr_model.predict(X_test)\n",
    "\n",
    "mse_xgbr = metrics.mean_squared_error(y_test, y_pred_xgbr)\n",
    "\n",
    "print(\"MSE: \", mse_xgbr)"
   ]
  },
  {
   "cell_type": "code",
   "execution_count": 71,
   "metadata": {},
   "outputs": [
    {
     "data": {
      "text/plain": [
       "17951.03464221351"
      ]
     },
     "execution_count": 71,
     "metadata": {},
     "output_type": "execute_result"
    }
   ],
   "source": [
    "np.sqrt(mse_xgbr)"
   ]
  },
  {
   "cell_type": "code",
   "execution_count": 72,
   "metadata": {},
   "outputs": [],
   "source": [
    "y_pred_xgbr_model = xgbr_model.predict(test_data.values)\n",
    "\n",
    "submission = pd.DataFrame({'Customer_ID':index_col,'total_claim_amount':y_pred_xgbr_model})\n",
    "\n",
    "# Save results\n",
    "submission.to_csv(\"submission_xgbr_model.csv\",index=False)\n",
    "\n",
    "#output_gbr = pd.DataFrame({'Customer_ID': index_col, 'total_claim_amount': y_pred}) \n",
    "\n",
    "#output_gbr.to_csv('submission_output_gbr.csv', index=False)"
   ]
  },
  {
   "cell_type": "code",
   "execution_count": 70,
   "metadata": {},
   "outputs": [
    {
     "name": "stdout",
     "output_type": "stream",
     "text": [
      "0.6618576106985813\n",
      "{'colsample_bytree': 0.7, 'learning_rate': 0.01, 'max_depth': 3, 'min_child_weight': 5, 'n_estimators': 500, 'nthread': 4, 'objective': 'reg:squarederror', 'silent': 1, 'subsample': 0.7}\n"
     ]
    }
   ],
   "source": [
    "from sklearn.model_selection import GridSearchCV\n",
    "xgbr = XGBRegressor()\n",
    "parameters = {'nthread':[None], #when use hyperthread, xgboost may become slower\n",
    "              'objective':['reg:squarederror'],\n",
    "              'learning_rate': [0.0001, 0.001, 0.01, 0.1, 0.2, 0.3], #so called `eta` value\n",
    "              'max_depth': [3, 5, 6, 7, 10],\n",
    "              'min_child_weight': [1, 3, 4, 5],\n",
    "              'silent': [None],\n",
    "              'subsample': [0.7],\n",
    "              'colsample_bytree': [0.5, 0.7],\n",
    "              'n_estimators': [100, 200, 400, 500, 600, 800, 1000]\n",
    "             }\n",
    "\n",
    "xgbr_grid = GridSearchCV(xgbr,\n",
    "                        parameters,\n",
    "                        cv = 2,\n",
    "                        n_jobs = -1,\n",
    "                        verbose=0)\n",
    "\n",
    "xgbr_grid.fit(X_train,\n",
    "         y_train)\n",
    "\n",
    "print(xgbr_grid.best_score_)\n",
    "print(xgbr_grid.best_params_)"
   ]
  },
  {
   "cell_type": "code",
   "execution_count": 71,
   "metadata": {},
   "outputs": [
    {
     "name": "stdout",
     "output_type": "stream",
     "text": [
      "MSE:  339622563.916487\n"
     ]
    }
   ],
   "source": [
    "y_pred_xgbr_grid = xgbr_grid.predict(X_test)\n",
    "\n",
    "mse_xgbr_grid = metrics.mean_squared_error(y_test, y_pred_xgbr_grid)\n",
    "\n",
    "print(\"MSE: \", mse_xgbr_grid)"
   ]
  },
  {
   "cell_type": "code",
   "execution_count": 72,
   "metadata": {},
   "outputs": [
    {
     "data": {
      "text/plain": [
       "18428.85139981564"
      ]
     },
     "execution_count": 72,
     "metadata": {},
     "output_type": "execute_result"
    }
   ],
   "source": [
    "np.sqrt(mse_xgbr_grid)"
   ]
  },
  {
   "cell_type": "code",
   "execution_count": 73,
   "metadata": {},
   "outputs": [],
   "source": [
    "y_pred_xgbr_grid = xgbr_grid.predict(test_data.values)\n",
    "\n",
    "submission = pd.DataFrame({'Customer_ID':index_col,'total_claim_amount':y_pred_xgbr_grid})\n",
    "\n",
    "# Save results\n",
    "submission.to_csv(\"submission_xgbr_grid.csv\",index=False)"
   ]
  },
  {
   "cell_type": "code",
   "execution_count": 76,
   "metadata": {},
   "outputs": [
    {
     "name": "stdout",
     "output_type": "stream",
     "text": [
      "[0]\tvalidation_0-rmse:80353.31250\n",
      "[1]\tvalidation_0-rmse:79594.75000\n",
      "[2]\tvalidation_0-rmse:78861.49219\n",
      "[3]\tvalidation_0-rmse:78132.11719\n",
      "[4]\tvalidation_0-rmse:77404.35156\n",
      "[5]\tvalidation_0-rmse:76731.36719\n",
      "[6]\tvalidation_0-rmse:76024.80469\n",
      "[7]\tvalidation_0-rmse:75382.74219\n",
      "[8]\tvalidation_0-rmse:74683.53906\n",
      "[9]\tvalidation_0-rmse:73995.46094\n",
      "[10]\tvalidation_0-rmse:73319.37500\n",
      "[11]\tvalidation_0-rmse:72645.08594\n",
      "[12]\tvalidation_0-rmse:71984.06250\n",
      "[13]\tvalidation_0-rmse:71330.91406\n",
      "[14]\tvalidation_0-rmse:70680.96094\n",
      "[15]\tvalidation_0-rmse:70035.10938\n",
      "[16]\tvalidation_0-rmse:69433.37500\n",
      "[17]\tvalidation_0-rmse:68805.03906\n",
      "[18]\tvalidation_0-rmse:68189.03125\n",
      "[19]\tvalidation_0-rmse:67566.64844\n",
      "[20]\tvalidation_0-rmse:66959.42969\n",
      "[21]\tvalidation_0-rmse:66351.94531\n",
      "[22]\tvalidation_0-rmse:65752.74219\n",
      "[23]\tvalidation_0-rmse:65192.58203\n",
      "[24]\tvalidation_0-rmse:64608.13281\n",
      "[25]\tvalidation_0-rmse:64031.48828\n",
      "[26]\tvalidation_0-rmse:63482.64453\n",
      "[27]\tvalidation_0-rmse:62940.90625\n",
      "[28]\tvalidation_0-rmse:62362.66016\n",
      "[29]\tvalidation_0-rmse:61827.73438\n",
      "[30]\tvalidation_0-rmse:61302.26172\n",
      "[31]\tvalidation_0-rmse:60763.69531\n",
      "[32]\tvalidation_0-rmse:60222.64453\n",
      "[33]\tvalidation_0-rmse:59690.21484\n",
      "[34]\tvalidation_0-rmse:59160.39062\n",
      "[35]\tvalidation_0-rmse:58630.26953\n",
      "[36]\tvalidation_0-rmse:58147.53516\n",
      "[37]\tvalidation_0-rmse:57646.13672\n",
      "[38]\tvalidation_0-rmse:57144.05078\n",
      "[39]\tvalidation_0-rmse:56669.96484\n",
      "[40]\tvalidation_0-rmse:56183.72266\n",
      "[41]\tvalidation_0-rmse:55731.44922\n",
      "[42]\tvalidation_0-rmse:55308.40625\n",
      "[43]\tvalidation_0-rmse:54876.46094\n",
      "[44]\tvalidation_0-rmse:54395.33984\n",
      "[45]\tvalidation_0-rmse:53918.53125\n",
      "[46]\tvalidation_0-rmse:53454.16406\n",
      "[47]\tvalidation_0-rmse:53007.63672\n",
      "[48]\tvalidation_0-rmse:52554.17578\n",
      "[49]\tvalidation_0-rmse:52109.27734\n",
      "[50]\tvalidation_0-rmse:51672.55078\n",
      "[51]\tvalidation_0-rmse:51254.14453\n",
      "[52]\tvalidation_0-rmse:50806.26562\n",
      "[53]\tvalidation_0-rmse:50366.51953\n",
      "[54]\tvalidation_0-rmse:49946.69141\n",
      "[55]\tvalidation_0-rmse:49553.83594\n",
      "[56]\tvalidation_0-rmse:49138.55078\n",
      "[57]\tvalidation_0-rmse:48733.20312\n",
      "[58]\tvalidation_0-rmse:48342.92969\n",
      "[59]\tvalidation_0-rmse:47956.95312\n",
      "[60]\tvalidation_0-rmse:47556.96484\n",
      "[61]\tvalidation_0-rmse:47166.08984\n",
      "[62]\tvalidation_0-rmse:46770.36719\n",
      "[63]\tvalidation_0-rmse:46397.52734\n",
      "[64]\tvalidation_0-rmse:46011.85547\n",
      "[65]\tvalidation_0-rmse:45644.62891\n",
      "[66]\tvalidation_0-rmse:45293.09766\n",
      "[67]\tvalidation_0-rmse:44948.40234\n",
      "[68]\tvalidation_0-rmse:44589.21094\n",
      "[69]\tvalidation_0-rmse:44219.59766\n",
      "[70]\tvalidation_0-rmse:43865.00000\n",
      "[71]\tvalidation_0-rmse:43506.19141\n",
      "[72]\tvalidation_0-rmse:43162.50391\n",
      "[73]\tvalidation_0-rmse:42816.42188\n",
      "[74]\tvalidation_0-rmse:42476.46094\n",
      "[75]\tvalidation_0-rmse:42164.34766\n",
      "[76]\tvalidation_0-rmse:41854.66406\n",
      "[77]\tvalidation_0-rmse:41522.75000\n",
      "[78]\tvalidation_0-rmse:41232.11719\n",
      "[79]\tvalidation_0-rmse:40905.39844\n",
      "[80]\tvalidation_0-rmse:40580.38281\n",
      "[81]\tvalidation_0-rmse:40274.06250\n",
      "[82]\tvalidation_0-rmse:39952.07812\n",
      "[83]\tvalidation_0-rmse:39652.20312\n",
      "[84]\tvalidation_0-rmse:39336.64844\n",
      "[85]\tvalidation_0-rmse:39061.45312\n",
      "[86]\tvalidation_0-rmse:38769.72656\n",
      "[87]\tvalidation_0-rmse:38509.17969\n",
      "[88]\tvalidation_0-rmse:38227.65625\n",
      "[89]\tvalidation_0-rmse:37932.66406\n",
      "[90]\tvalidation_0-rmse:37651.86719\n",
      "[91]\tvalidation_0-rmse:37380.39453\n",
      "[92]\tvalidation_0-rmse:37106.01172\n",
      "[93]\tvalidation_0-rmse:36841.56641\n",
      "[94]\tvalidation_0-rmse:36578.21484\n",
      "[95]\tvalidation_0-rmse:36305.44141\n",
      "[96]\tvalidation_0-rmse:36071.21094\n",
      "[97]\tvalidation_0-rmse:35820.55078\n",
      "[98]\tvalidation_0-rmse:35572.19531\n",
      "[99]\tvalidation_0-rmse:35314.48828\n",
      "[100]\tvalidation_0-rmse:35067.41016\n",
      "[101]\tvalidation_0-rmse:34816.94922\n",
      "[102]\tvalidation_0-rmse:34582.23438\n",
      "[103]\tvalidation_0-rmse:34338.65234\n",
      "[104]\tvalidation_0-rmse:34120.72266\n",
      "[105]\tvalidation_0-rmse:33904.50391\n",
      "[106]\tvalidation_0-rmse:33673.33594\n",
      "[107]\tvalidation_0-rmse:33441.77734\n",
      "[108]\tvalidation_0-rmse:33212.73047\n",
      "[109]\tvalidation_0-rmse:32987.28906\n",
      "[110]\tvalidation_0-rmse:32780.41406\n",
      "[111]\tvalidation_0-rmse:32589.53516\n",
      "[112]\tvalidation_0-rmse:32373.77734\n",
      "[113]\tvalidation_0-rmse:32160.44141\n",
      "[114]\tvalidation_0-rmse:31977.66992\n",
      "[115]\tvalidation_0-rmse:31777.58008\n",
      "[116]\tvalidation_0-rmse:31587.12500\n",
      "[117]\tvalidation_0-rmse:31403.58203\n",
      "[118]\tvalidation_0-rmse:31206.92969\n",
      "[119]\tvalidation_0-rmse:31018.03711\n",
      "[120]\tvalidation_0-rmse:30820.06250\n",
      "[121]\tvalidation_0-rmse:30625.21484\n",
      "[122]\tvalidation_0-rmse:30437.00977\n",
      "[123]\tvalidation_0-rmse:30256.39062\n",
      "[124]\tvalidation_0-rmse:30084.29492\n",
      "[125]\tvalidation_0-rmse:29898.66992\n",
      "[126]\tvalidation_0-rmse:29740.96094\n",
      "[127]\tvalidation_0-rmse:29569.59766\n",
      "[128]\tvalidation_0-rmse:29404.01367\n",
      "[129]\tvalidation_0-rmse:29228.23242\n",
      "[130]\tvalidation_0-rmse:29064.16211\n",
      "[131]\tvalidation_0-rmse:28905.49414\n",
      "[132]\tvalidation_0-rmse:28739.02930\n",
      "[133]\tvalidation_0-rmse:28586.89453\n",
      "[134]\tvalidation_0-rmse:28434.92969\n",
      "[135]\tvalidation_0-rmse:28274.36133\n",
      "[136]\tvalidation_0-rmse:28121.76367\n",
      "[137]\tvalidation_0-rmse:27986.49805\n",
      "[138]\tvalidation_0-rmse:27841.33008\n",
      "[139]\tvalidation_0-rmse:27688.58789\n",
      "[140]\tvalidation_0-rmse:27541.52930\n",
      "[141]\tvalidation_0-rmse:27401.21875\n",
      "[142]\tvalidation_0-rmse:27253.84180\n",
      "[143]\tvalidation_0-rmse:27104.68359\n",
      "[144]\tvalidation_0-rmse:26963.49219\n",
      "[145]\tvalidation_0-rmse:26819.02734\n",
      "[146]\tvalidation_0-rmse:26682.78125\n",
      "[147]\tvalidation_0-rmse:26542.85547\n",
      "[148]\tvalidation_0-rmse:26410.19727\n",
      "[149]\tvalidation_0-rmse:26274.59961\n",
      "[150]\tvalidation_0-rmse:26152.15625\n",
      "[151]\tvalidation_0-rmse:26036.05078\n",
      "[152]\tvalidation_0-rmse:25915.29102\n",
      "[153]\tvalidation_0-rmse:25787.56445\n",
      "[154]\tvalidation_0-rmse:25659.52539\n",
      "[155]\tvalidation_0-rmse:25540.09961\n",
      "[156]\tvalidation_0-rmse:25423.84961\n",
      "[157]\tvalidation_0-rmse:25306.89258\n",
      "[158]\tvalidation_0-rmse:25187.89844\n",
      "[159]\tvalidation_0-rmse:25081.10156\n",
      "[160]\tvalidation_0-rmse:24986.39258\n",
      "[161]\tvalidation_0-rmse:24872.88086\n",
      "[162]\tvalidation_0-rmse:24774.47656\n",
      "[163]\tvalidation_0-rmse:24666.23047\n",
      "[164]\tvalidation_0-rmse:24558.40039\n",
      "[165]\tvalidation_0-rmse:24460.91602\n",
      "[166]\tvalidation_0-rmse:24358.37695\n",
      "[167]\tvalidation_0-rmse:24253.94531\n",
      "[168]\tvalidation_0-rmse:24155.49023\n",
      "[169]\tvalidation_0-rmse:24050.47070\n",
      "[170]\tvalidation_0-rmse:23957.45703\n",
      "[171]\tvalidation_0-rmse:23859.37695\n",
      "[172]\tvalidation_0-rmse:23756.52539\n",
      "[173]\tvalidation_0-rmse:23669.98828\n",
      "[174]\tvalidation_0-rmse:23577.53711\n",
      "[175]\tvalidation_0-rmse:23487.41992\n",
      "[176]\tvalidation_0-rmse:23386.76758\n",
      "[177]\tvalidation_0-rmse:23311.24023\n",
      "[178]\tvalidation_0-rmse:23223.78320\n",
      "[179]\tvalidation_0-rmse:23150.43555\n",
      "[180]\tvalidation_0-rmse:23066.22656\n",
      "[181]\tvalidation_0-rmse:22996.78711\n",
      "[182]\tvalidation_0-rmse:22919.92773\n",
      "[183]\tvalidation_0-rmse:22832.70312\n",
      "[184]\tvalidation_0-rmse:22755.87695\n",
      "[185]\tvalidation_0-rmse:22683.53320\n",
      "[186]\tvalidation_0-rmse:22607.17188\n",
      "[187]\tvalidation_0-rmse:22536.26758\n",
      "[188]\tvalidation_0-rmse:22465.40234\n",
      "[189]\tvalidation_0-rmse:22393.02148\n",
      "[190]\tvalidation_0-rmse:22325.25195\n",
      "[191]\tvalidation_0-rmse:22256.26562\n",
      "[192]\tvalidation_0-rmse:22187.16406\n",
      "[193]\tvalidation_0-rmse:22128.04102\n",
      "[194]\tvalidation_0-rmse:22060.50977\n",
      "[195]\tvalidation_0-rmse:22000.48633\n",
      "[196]\tvalidation_0-rmse:21942.40820\n",
      "[197]\tvalidation_0-rmse:21880.01367\n",
      "[198]\tvalidation_0-rmse:21823.58008\n",
      "[199]\tvalidation_0-rmse:21759.42578\n",
      "[200]\tvalidation_0-rmse:21692.10938\n",
      "[201]\tvalidation_0-rmse:21629.13672\n",
      "[202]\tvalidation_0-rmse:21584.42578\n",
      "[203]\tvalidation_0-rmse:21522.89648\n",
      "[204]\tvalidation_0-rmse:21465.74414\n",
      "[205]\tvalidation_0-rmse:21416.94727\n",
      "[206]\tvalidation_0-rmse:21360.10938\n",
      "[207]\tvalidation_0-rmse:21302.69922\n",
      "[208]\tvalidation_0-rmse:21247.98438\n",
      "[209]\tvalidation_0-rmse:21200.05664\n",
      "[210]\tvalidation_0-rmse:21144.16797\n",
      "[211]\tvalidation_0-rmse:21101.79297\n",
      "[212]\tvalidation_0-rmse:21058.18750\n",
      "[213]\tvalidation_0-rmse:21004.29688\n",
      "[214]\tvalidation_0-rmse:20952.41602\n",
      "[215]\tvalidation_0-rmse:20905.88281\n",
      "[216]\tvalidation_0-rmse:20863.63281\n",
      "[217]\tvalidation_0-rmse:20816.69141\n",
      "[218]\tvalidation_0-rmse:20761.58594\n",
      "[219]\tvalidation_0-rmse:20724.15430\n",
      "[220]\tvalidation_0-rmse:20689.86719\n",
      "[221]\tvalidation_0-rmse:20639.11719\n",
      "[222]\tvalidation_0-rmse:20594.20898\n",
      "[223]\tvalidation_0-rmse:20549.34180\n",
      "[224]\tvalidation_0-rmse:20516.43945\n",
      "[225]\tvalidation_0-rmse:20465.73633\n",
      "[226]\tvalidation_0-rmse:20435.49023\n",
      "[227]\tvalidation_0-rmse:20410.83008\n",
      "[228]\tvalidation_0-rmse:20375.16992\n",
      "[229]\tvalidation_0-rmse:20331.81250\n",
      "[230]\tvalidation_0-rmse:20294.77539\n",
      "[231]\tvalidation_0-rmse:20256.37695\n",
      "[232]\tvalidation_0-rmse:20228.83789\n",
      "[233]\tvalidation_0-rmse:20197.33984\n",
      "[234]\tvalidation_0-rmse:20170.46094\n",
      "[235]\tvalidation_0-rmse:20130.83984\n",
      "[236]\tvalidation_0-rmse:20086.18555\n",
      "[237]\tvalidation_0-rmse:20050.83984\n",
      "[238]\tvalidation_0-rmse:20011.29883\n",
      "[239]\tvalidation_0-rmse:19977.64062\n",
      "[240]\tvalidation_0-rmse:19955.08398\n",
      "[241]\tvalidation_0-rmse:19927.66602\n",
      "[242]\tvalidation_0-rmse:19906.04102\n",
      "[243]\tvalidation_0-rmse:19874.00781\n",
      "[244]\tvalidation_0-rmse:19862.08984\n",
      "[245]\tvalidation_0-rmse:19838.44727\n",
      "[246]\tvalidation_0-rmse:19813.97656\n",
      "[247]\tvalidation_0-rmse:19788.41016\n",
      "[248]\tvalidation_0-rmse:19752.84180\n",
      "[249]\tvalidation_0-rmse:19722.64258\n",
      "[250]\tvalidation_0-rmse:19692.93555\n",
      "[251]\tvalidation_0-rmse:19670.85742\n",
      "[252]\tvalidation_0-rmse:19653.08008\n",
      "[253]\tvalidation_0-rmse:19628.34961\n",
      "[254]\tvalidation_0-rmse:19608.97461\n",
      "[255]\tvalidation_0-rmse:19582.71094\n",
      "[256]\tvalidation_0-rmse:19553.94336\n",
      "[257]\tvalidation_0-rmse:19535.76562\n",
      "[258]\tvalidation_0-rmse:19527.72266\n",
      "[259]\tvalidation_0-rmse:19498.34180\n",
      "[260]\tvalidation_0-rmse:19478.05078\n",
      "[261]\tvalidation_0-rmse:19460.28711\n",
      "[262]\tvalidation_0-rmse:19431.13281\n",
      "[263]\tvalidation_0-rmse:19407.88086\n",
      "[264]\tvalidation_0-rmse:19394.19141\n",
      "[265]\tvalidation_0-rmse:19380.03516\n",
      "[266]\tvalidation_0-rmse:19357.61523\n",
      "[267]\tvalidation_0-rmse:19333.94531\n",
      "[268]\tvalidation_0-rmse:19315.66406\n",
      "[269]\tvalidation_0-rmse:19304.57031\n",
      "[270]\tvalidation_0-rmse:19290.24219\n",
      "[271]\tvalidation_0-rmse:19272.22852\n",
      "[272]\tvalidation_0-rmse:19247.55469\n",
      "[273]\tvalidation_0-rmse:19235.67188\n",
      "[274]\tvalidation_0-rmse:19220.24805\n",
      "[275]\tvalidation_0-rmse:19207.29102\n",
      "[276]\tvalidation_0-rmse:19189.22656\n",
      "[277]\tvalidation_0-rmse:19166.75586\n",
      "[278]\tvalidation_0-rmse:19146.38672\n",
      "[279]\tvalidation_0-rmse:19129.20312\n",
      "[280]\tvalidation_0-rmse:19115.95312\n",
      "[281]\tvalidation_0-rmse:19097.42578\n",
      "[282]\tvalidation_0-rmse:19089.01953\n",
      "[283]\tvalidation_0-rmse:19072.45703\n",
      "[284]\tvalidation_0-rmse:19055.14844\n",
      "[285]\tvalidation_0-rmse:19043.47266\n",
      "[286]\tvalidation_0-rmse:19030.77930\n",
      "[287]\tvalidation_0-rmse:19013.16797\n",
      "[288]\tvalidation_0-rmse:18997.73242\n",
      "[289]\tvalidation_0-rmse:18987.33984\n",
      "[290]\tvalidation_0-rmse:18980.44531\n",
      "[291]\tvalidation_0-rmse:18965.12109\n",
      "[292]\tvalidation_0-rmse:18959.77344\n",
      "[293]\tvalidation_0-rmse:18951.04297\n",
      "[294]\tvalidation_0-rmse:18942.37695\n",
      "[295]\tvalidation_0-rmse:18937.94336\n",
      "[296]\tvalidation_0-rmse:18913.00000\n",
      "[297]\tvalidation_0-rmse:18902.38477\n",
      "[298]\tvalidation_0-rmse:18887.03125\n",
      "[299]\tvalidation_0-rmse:18869.12891\n",
      "[300]\tvalidation_0-rmse:18862.90234\n",
      "[301]\tvalidation_0-rmse:18848.04688\n",
      "[302]\tvalidation_0-rmse:18833.90820\n",
      "[303]\tvalidation_0-rmse:18825.00195\n",
      "[304]\tvalidation_0-rmse:18812.79688\n",
      "[305]\tvalidation_0-rmse:18809.62305\n",
      "[306]\tvalidation_0-rmse:18803.09961\n",
      "[307]\tvalidation_0-rmse:18787.56836\n",
      "[308]\tvalidation_0-rmse:18781.01758\n",
      "[309]\tvalidation_0-rmse:18761.31250\n",
      "[310]\tvalidation_0-rmse:18754.75781\n",
      "[311]\tvalidation_0-rmse:18742.71875\n",
      "[312]\tvalidation_0-rmse:18734.61719\n",
      "[313]\tvalidation_0-rmse:18728.20508\n",
      "[314]\tvalidation_0-rmse:18721.35352\n",
      "[315]\tvalidation_0-rmse:18718.23828\n",
      "[316]\tvalidation_0-rmse:18712.86328\n",
      "[317]\tvalidation_0-rmse:18704.06836\n",
      "[318]\tvalidation_0-rmse:18703.13086\n",
      "[319]\tvalidation_0-rmse:18695.31836\n",
      "[320]\tvalidation_0-rmse:18687.10742\n",
      "[321]\tvalidation_0-rmse:18681.61719\n",
      "[322]\tvalidation_0-rmse:18672.33789\n",
      "[323]\tvalidation_0-rmse:18665.99609\n",
      "[324]\tvalidation_0-rmse:18662.79102\n",
      "[325]\tvalidation_0-rmse:18666.41797\n",
      "[326]\tvalidation_0-rmse:18664.23828\n",
      "[327]\tvalidation_0-rmse:18656.96484\n",
      "[328]\tvalidation_0-rmse:18644.10156\n",
      "[329]\tvalidation_0-rmse:18634.78711\n",
      "[330]\tvalidation_0-rmse:18633.68750\n",
      "[331]\tvalidation_0-rmse:18628.13281\n",
      "[332]\tvalidation_0-rmse:18622.06836\n",
      "[333]\tvalidation_0-rmse:18616.31445\n",
      "[334]\tvalidation_0-rmse:18613.10156\n",
      "[335]\tvalidation_0-rmse:18620.17578\n",
      "[336]\tvalidation_0-rmse:18610.72070\n",
      "[337]\tvalidation_0-rmse:18609.45312\n",
      "[338]\tvalidation_0-rmse:18597.93164\n",
      "[339]\tvalidation_0-rmse:18592.03711\n",
      "[340]\tvalidation_0-rmse:18589.02148\n",
      "[341]\tvalidation_0-rmse:18586.08789\n",
      "[342]\tvalidation_0-rmse:18575.92773\n",
      "[343]\tvalidation_0-rmse:18572.74219\n",
      "[344]\tvalidation_0-rmse:18565.70703\n",
      "[345]\tvalidation_0-rmse:18558.28516\n",
      "[346]\tvalidation_0-rmse:18557.06445\n",
      "[347]\tvalidation_0-rmse:18546.13672\n",
      "[348]\tvalidation_0-rmse:18535.06055\n",
      "[349]\tvalidation_0-rmse:18532.27930\n",
      "[350]\tvalidation_0-rmse:18529.35547\n",
      "[351]\tvalidation_0-rmse:18527.04688\n",
      "[352]\tvalidation_0-rmse:18525.98633\n",
      "[353]\tvalidation_0-rmse:18513.41992\n",
      "[354]\tvalidation_0-rmse:18512.58008\n",
      "[355]\tvalidation_0-rmse:18497.63477\n",
      "[356]\tvalidation_0-rmse:18502.92383\n",
      "[357]\tvalidation_0-rmse:18508.34961\n",
      "[358]\tvalidation_0-rmse:18499.20117\n",
      "[359]\tvalidation_0-rmse:18499.40820\n",
      "CPU times: user 2.01 s, sys: 368 ms, total: 2.38 s\n",
      "Wall time: 4.42 s\n",
      "MSE:  342162422.66876954\n"
     ]
    }
   ],
   "source": [
    "xgbr_model = XGBRegressor(\n",
    "    objective = 'reg:squarederror',\n",
    "    colsample_bytree = 0.7,\n",
    "    learning_rate = 0.01,\n",
    "    max_depth = 3,\n",
    "    min_child_weight = 5,\n",
    "    silent = 1,\n",
    "    n_estimators = 500,\n",
    "    subsample = 0.7,\n",
    "    nthread = 4)\n",
    "\n",
    "%time xgbr_model.fit(X_train, y_train, early_stopping_rounds=5, eval_set=[(X_test, y_test)], verbose=1)\n",
    "\n",
    "y_pred_xgbr_model = xgbr_model.predict(X_test)\n",
    "\n",
    "mse_xgbr_model = metrics.mean_squared_error(y_test, y_pred_xgbr_model)\n",
    "\n",
    "print(\"MSE: \", mse_xgbr_model)"
   ]
  },
  {
   "cell_type": "code",
   "execution_count": 77,
   "metadata": {},
   "outputs": [
    {
     "name": "stdout",
     "output_type": "stream",
     "text": [
      "RMSE:  18497.632893664246\n"
     ]
    }
   ],
   "source": [
    "RMSE = np.sqrt(mse_xgbr_model)\n",
    "\n",
    "print(\"RMSE: \", RMSE)"
   ]
  },
  {
   "cell_type": "code",
   "execution_count": 79,
   "metadata": {},
   "outputs": [],
   "source": [
    "y_pred_xgbr_model = xgbr_model.predict(test_data.values)\n",
    "\n",
    "submission = pd.DataFrame({'Customer_ID':index_col,'total_claim_amount':y_pred_xgbr_model})\n",
    "\n",
    "# Save results\n",
    "submission.to_csv(\"submission_xgbr_model.csv\",index=False)"
   ]
  },
  {
   "cell_type": "code",
   "execution_count": null,
   "metadata": {},
   "outputs": [],
   "source": []
  }
 ],
 "metadata": {
  "kernelspec": {
   "display_name": "Python 3 (ipykernel)",
   "language": "python",
   "name": "python3"
  },
  "language_info": {
   "codemirror_mode": {
    "name": "ipython",
    "version": 3
   },
   "file_extension": ".py",
   "mimetype": "text/x-python",
   "name": "python",
   "nbconvert_exporter": "python",
   "pygments_lexer": "ipython3",
   "version": "3.9.7"
  }
 },
 "nbformat": 4,
 "nbformat_minor": 4
}
