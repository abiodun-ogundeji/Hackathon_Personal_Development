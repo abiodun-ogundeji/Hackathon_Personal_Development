{
 "cells": [
  {
   "cell_type": "code",
   "execution_count": 1,
   "metadata": {},
   "outputs": [],
   "source": [
    "#Import libraries\n",
    "from catboost import CatBoostClassifier\n",
    "import pandas as pd\n",
    "import numpy as np\n",
    "from numpy import arange\n",
    "from tqdm import tqdm_notebook as tqdm\n",
    "import matplotlib.pyplot as plt\n",
    "plt.style.use('ggplot')\n",
    "import seaborn as sns\n",
    "from sklearn.model_selection import train_test_split\n",
    "from sklearn import metrics, preprocessing"
   ]
  },
  {
   "cell_type": "code",
   "execution_count": 2,
   "metadata": {},
   "outputs": [],
   "source": [
    "dataset_train=pd.read_csv('file:///Users/mac/Downloads/Train.csv')\n",
    "dataset_test=pd.read_csv('file:///Users/mac/Downloads/Test.csv')"
   ]
  },
  {
   "cell_type": "code",
   "execution_count": 3,
   "metadata": {},
   "outputs": [
    {
     "data": {
      "text/plain": [
       "Applicant_ID      0\n",
       "form_field1       0\n",
       "form_field2       0\n",
       "form_field3       0\n",
       "form_field4       0\n",
       "form_field5       0\n",
       "form_field6       0\n",
       "form_field7       0\n",
       "form_field8       0\n",
       "form_field9       0\n",
       "form_field10      0\n",
       "form_field11      0\n",
       "form_field12      0\n",
       "form_field13      0\n",
       "form_field14      0\n",
       "form_field15      0\n",
       "form_field16      0\n",
       "form_field17      0\n",
       "form_field18      0\n",
       "form_field19      0\n",
       "form_field20      0\n",
       "form_field21      0\n",
       "form_field22      0\n",
       "form_field23      0\n",
       "form_field24      0\n",
       "form_field25      0\n",
       "form_field26      0\n",
       "form_field27      0\n",
       "form_field28      0\n",
       "form_field29      0\n",
       "form_field30      0\n",
       "form_field31      0\n",
       "form_field32      0\n",
       "form_field33      0\n",
       "form_field34      0\n",
       "form_field35      0\n",
       "form_field36      0\n",
       "form_field37      0\n",
       "form_field38      0\n",
       "form_field39      0\n",
       "form_field40      0\n",
       "form_field41      0\n",
       "form_field42      0\n",
       "form_field43      0\n",
       "form_field44      0\n",
       "form_field45      0\n",
       "form_field46      0\n",
       "form_field47      0\n",
       "form_field48      0\n",
       "form_field49      0\n",
       "form_field50      0\n",
       "default_status    0\n",
       "dtype: int64"
      ]
     },
     "execution_count": 3,
     "metadata": {},
     "output_type": "execute_result"
    }
   ],
   "source": [
    "## OUT OF THE 2 CATEGORICAL COLUMNS \"NONE\" has missing values\n",
    "## i filled the missing values with a new categorical value \"None\"\n",
    "\n",
    "## ALMOST ALL THE NUMERICAL COLUMNS HAVE MISSING VALUES except form_field14&19\n",
    "## I FILL THE MISSING VALUES WITH A VALUE OF \"0.0\", you can use mean, median, mode values for this also (whichever works best)\n",
    "for i in ['form_field1', 'form_field2', 'form_field3', 'form_field4', 'form_field5', 'form_field6', 'form_field7',\n",
    "       'form_field8', 'form_field9', 'form_field10', 'form_field11', 'form_field12', 'form_field13', 'form_field15',\n",
    "       'form_field16', 'form_field17', 'form_field18', 'form_field19', 'form_field20', 'form_field21', 'form_field22', \n",
    "       'form_field23', 'form_field24', 'form_field25', 'form_field26', 'form_field27', 'form_field28', 'form_field29',\n",
    "       'form_field30', 'form_field31', 'form_field32', 'form_field33', 'form_field34', 'form_field35', 'form_field36',\n",
    "       'form_field37', 'form_field38', 'form_field39', 'form_field40', 'form_field41', 'form_field42', 'form_field43',\n",
    "       'form_field44','form_field45','form_field46','form_field48', 'form_field49', 'form_field50']:\n",
    "    dataset_train[i] = dataset_train[i].fillna(value = 0.0)\n",
    "dataset_train.isnull().sum()"
   ]
  },
  {
   "cell_type": "code",
   "execution_count": 4,
   "metadata": {},
   "outputs": [
    {
     "data": {
      "text/plain": [
       "Applicant_ID    0\n",
       "form_field1     0\n",
       "form_field2     0\n",
       "form_field3     0\n",
       "form_field4     0\n",
       "form_field5     0\n",
       "form_field6     0\n",
       "form_field7     0\n",
       "form_field8     0\n",
       "form_field9     0\n",
       "form_field10    0\n",
       "form_field11    0\n",
       "form_field12    0\n",
       "form_field13    0\n",
       "form_field14    0\n",
       "form_field15    0\n",
       "form_field16    0\n",
       "form_field17    0\n",
       "form_field18    0\n",
       "form_field19    0\n",
       "form_field20    0\n",
       "form_field21    0\n",
       "form_field22    0\n",
       "form_field23    0\n",
       "form_field24    0\n",
       "form_field25    0\n",
       "form_field26    0\n",
       "form_field27    0\n",
       "form_field28    0\n",
       "form_field29    0\n",
       "form_field30    0\n",
       "form_field31    0\n",
       "form_field32    0\n",
       "form_field33    0\n",
       "form_field34    0\n",
       "form_field35    0\n",
       "form_field36    0\n",
       "form_field37    0\n",
       "form_field38    0\n",
       "form_field39    0\n",
       "form_field40    0\n",
       "form_field41    0\n",
       "form_field42    0\n",
       "form_field43    0\n",
       "form_field44    0\n",
       "form_field45    0\n",
       "form_field46    0\n",
       "form_field47    0\n",
       "form_field48    0\n",
       "form_field49    0\n",
       "form_field50    0\n",
       "dtype: int64"
      ]
     },
     "execution_count": 4,
     "metadata": {},
     "output_type": "execute_result"
    }
   ],
   "source": [
    "## OUT OF THE 2 CATEGORICAL COLUMNS \"NONE\" has missing values\n",
    "## i filled the missing values with a new categorical value \"None\"\n",
    "\n",
    "## ALMOST ALL THE NUMERICAL COLUMNS HAVE MISSING VALUES except form_field14&19\n",
    "## I FILL THE MISSING VALUES WITH A VALUE OF \"0.0\", you can use mean, median, mode values for this also (whichever works best)\n",
    "for i in ['form_field1', 'form_field2', 'form_field3', 'form_field4', 'form_field5', 'form_field6', 'form_field7',\n",
    "       'form_field8', 'form_field9', 'form_field10', 'form_field11', 'form_field12', 'form_field13', 'form_field15',\n",
    "       'form_field16', 'form_field17', 'form_field18', 'form_field20', 'form_field21', 'form_field22', \n",
    "       'form_field23', 'form_field24', 'form_field25', 'form_field26', 'form_field27', 'form_field28', 'form_field29',\n",
    "       'form_field30', 'form_field31', 'form_field32', 'form_field33', 'form_field34', 'form_field35', 'form_field36',\n",
    "       'form_field37', 'form_field38', 'form_field39', 'form_field40', 'form_field41', 'form_field42', 'form_field43',\n",
    "       'form_field44','form_field45','form_field46','form_field48', 'form_field49', 'form_field50']:\n",
    "    dataset_test[i] = dataset_test[i].fillna(value = 0.0)\n",
    "dataset_test.isnull().sum()"
   ]
  },
  {
   "cell_type": "code",
   "execution_count": 16,
   "metadata": {},
   "outputs": [],
   "source": [
    "X = dataset_train.drop([\"default_status\"], axis=1)\n",
    "y = dataset_train['default_status']\n",
    "\n",
    "X_test = dataset_test.drop([\"Applicant_ID\", \"form_field47\"], axis = 1)"
   ]
  },
  {
   "cell_type": "code",
   "execution_count": 17,
   "metadata": {},
   "outputs": [
    {
     "name": "stdout",
     "output_type": "stream",
     "text": [
      "no     29666\n",
      "yes     9534\n",
      "Name: default_status, dtype: int64\n",
      "no     12619\n",
      "yes     4181\n",
      "Name: default_status, dtype: int64\n"
     ]
    }
   ],
   "source": [
    "X_train, X_test, y_train, y_test = train_test_split(X, y, test_size=0.3, random_state=27)\n",
    "\n",
    "print(y_train.value_counts())\n",
    "print(y_test.value_counts())"
   ]
  },
  {
   "cell_type": "code",
   "execution_count": 21,
   "metadata": {},
   "outputs": [
    {
     "name": "stdout",
     "output_type": "stream",
     "text": [
      "0:\ttest: 0.7993075\tbest: 0.7993075 (0)\ttotal: 520ms\tremaining: 8m 39s\n",
      "300:\ttest: 0.8375982\tbest: 0.8375982 (300)\ttotal: 3m 6s\tremaining: 7m 13s\n",
      "600:\ttest: 0.8366144\tbest: 0.8376644 (324)\ttotal: 6m 8s\tremaining: 4m 4s\n",
      "Stopped by overfitting detector  (500 iterations wait)\n",
      "\n",
      "bestTest = 0.8376644301\n",
      "bestIteration = 324\n",
      "\n",
      "Shrink model to first 325 iterations.\n"
     ]
    }
   ],
   "source": [
    "    #provide categorical features to catboost\n",
    "cat_features = ['Applicant_ID','form_field47']\n",
    "\n",
    "best_params = {\n",
    "        'bagging_temperature': 0.5,\n",
    "        'depth': 8,\n",
    "        'iterations': 1000,\n",
    "        'l2_leaf_reg': 25,\n",
    "        'learning_rate': 0.05,\n",
    "        'sampling_frequency': 'PerTreeLevel',\n",
    "        'leaf_estimation_method': 'Gradient',\n",
    "        'random_strength': 0.8,\n",
    "        'boosting_type': 'Ordered',\n",
    "        'feature_border_type': 'MaxLogSum',\n",
    "        'l2_leaf_reg': 50,\n",
    "        'max_ctr_complexity': 2,\n",
    "        'fold_len_multiplier': 2\n",
    "    }\n",
    "\n",
    "model_cat = CatBoostClassifier(**best_params,\n",
    "                            loss_function='Logloss',\n",
    "                            eval_metric='AUC',\n",
    "                            nan_mode='Min',\n",
    "                            thread_count=8,\n",
    "                            task_type='CPU',\n",
    "                            verbose=True)\n",
    "\n",
    "\n",
    "model_cat.fit(X_train, y_train,\n",
    "                            eval_set=(X_test, y_test),\n",
    "                            cat_features=cat_features,\n",
    "                            verbose_eval=300,\n",
    "                            early_stopping_rounds=500,\n",
    "                            use_best_model=True,\n",
    "                            plot=False)\n",
    "\n",
    "\n",
    "model_cat.save_model(\"catmodel\")\n",
    "\n",
    "##Predictions\n",
    "cat_predictions = model_cat.predict_proba(dataset_test)[:, 1]\n",
    "cat_predictions_df = pd.DataFrame({'Applicant_ID':dataset_test['Applicant_ID'],'default_status': cat_predictions})"
   ]
  },
  {
   "cell_type": "code",
   "execution_count": 22,
   "metadata": {},
   "outputs": [],
   "source": [
    "#submission = pd.DataFrame({'Applicant_ID':dataset_test['Applicant_ID'],'default_status':np.mean(y_pred_totcb,0)})\n",
    "#submission.head()\n",
    "cat_predictions_df.head()\n",
    "\n",
    "\n",
    "#submission.to_csv('cb20foldscatMostfeat22Opt_U2.csv',index=False)\n",
    "cat_predictions_df.to_csv('Model_Loan_Default.csv', index=False)"
   ]
  },
  {
   "cell_type": "code",
   "execution_count": null,
   "metadata": {},
   "outputs": [],
   "source": []
  }
 ],
 "metadata": {
  "kernelspec": {
   "display_name": "Python 3",
   "language": "python",
   "name": "python3"
  },
  "language_info": {
   "codemirror_mode": {
    "name": "ipython",
    "version": 3
   },
   "file_extension": ".py",
   "mimetype": "text/x-python",
   "name": "python",
   "nbconvert_exporter": "python",
   "pygments_lexer": "ipython3",
   "version": "3.7.6"
  }
 },
 "nbformat": 4,
 "nbformat_minor": 4
}
