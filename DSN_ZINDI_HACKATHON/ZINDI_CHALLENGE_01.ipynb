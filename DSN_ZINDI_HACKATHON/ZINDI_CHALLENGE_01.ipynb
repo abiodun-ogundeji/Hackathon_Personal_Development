{
 "cells": [
  {
   "cell_type": "code",
   "execution_count": 1,
   "metadata": {},
   "outputs": [],
   "source": [
    "import numpy as np\n",
    "import pandas as pd"
   ]
  },
  {
   "cell_type": "code",
   "execution_count": 2,
   "metadata": {},
   "outputs": [],
   "source": [
    "#Load the data into the data frame\n",
    "dataset_train = pd.read_csv('file:///Users/mac/Documents/Zindi/Train.csv')\n",
    "dataset_test = pd.read_csv('file:///Users/mac/Documents/Zindi/Test.csv')"
   ]
  },
  {
   "cell_type": "code",
   "execution_count": 3,
   "metadata": {},
   "outputs": [
    {
     "name": "stdout",
     "output_type": "stream",
     "text": [
      "Train Data shape:  (400000, 19)\n",
      "Test Data shape:  (100000, 18)\n"
     ]
    }
   ],
   "source": [
    "print(\"Train Data shape: \",dataset_train.shape)\n",
    "print(\"Test Data shape: \",dataset_test.shape)"
   ]
  },
  {
   "cell_type": "code",
   "execution_count": 4,
   "metadata": {},
   "outputs": [
    {
     "name": "stdout",
     "output_type": "stream",
     "text": [
      "<class 'pandas.core.frame.DataFrame'>\n",
      "RangeIndex: 400000 entries, 0 to 399999\n",
      "Data columns (total 19 columns):\n",
      " #   Column          Non-Null Count   Dtype  \n",
      "---  ------          --------------   -----  \n",
      " 0   user_id         400000 non-null  object \n",
      " 1   REGION          242480 non-null  object \n",
      " 2   TENURE          400000 non-null  object \n",
      " 3   MONTANT         259723 non-null  float64\n",
      " 4   FREQUENCE_RECH  259723 non-null  float64\n",
      " 5   REVENUE         265337 non-null  float64\n",
      " 6   ARPU_SEGMENT    265337 non-null  float64\n",
      " 7   FREQUENCE       265337 non-null  float64\n",
      " 8   DATA_VOLUME     203146 non-null  float64\n",
      " 9   ON_NET          254181 non-null  float64\n",
      " 10  ORANGE          233683 non-null  float64\n",
      " 11  TIGO            160614 non-null  float64\n",
      " 12  ZONE1           31690 non-null   float64\n",
      " 13  ZONE2           25513 non-null   float64\n",
      " 14  MRG             400000 non-null  object \n",
      " 15  REGULARITY      400000 non-null  int64  \n",
      " 16  TOP_PACK        232671 non-null  object \n",
      " 17  FREQ_TOP_PACK   232671 non-null  float64\n",
      " 18  CHURN           400000 non-null  int64  \n",
      "dtypes: float64(12), int64(2), object(5)\n",
      "memory usage: 58.0+ MB\n"
     ]
    }
   ],
   "source": [
    "dataset_train.info()"
   ]
  },
  {
   "cell_type": "code",
   "execution_count": 5,
   "metadata": {},
   "outputs": [
    {
     "name": "stdout",
     "output_type": "stream",
     "text": [
      "<class 'pandas.core.frame.DataFrame'>\n",
      "RangeIndex: 100000 entries, 0 to 99999\n",
      "Data columns (total 18 columns):\n",
      " #   Column          Non-Null Count   Dtype  \n",
      "---  ------          --------------   -----  \n",
      " 0   user_id         100000 non-null  object \n",
      " 1   REGION          60707 non-null   object \n",
      " 2   TENURE          100000 non-null  object \n",
      " 3   MONTANT         65049 non-null   float64\n",
      " 4   FREQUENCE_RECH  65049 non-null   float64\n",
      " 5   REVENUE         66510 non-null   float64\n",
      " 6   ARPU_SEGMENT    66510 non-null   float64\n",
      " 7   FREQUENCE       66510 non-null   float64\n",
      " 8   DATA_VOLUME     50662 non-null   float64\n",
      " 9   ON_NET          63617 non-null   float64\n",
      " 10  ORANGE          58800 non-null   float64\n",
      " 11  TIGO            40212 non-null   float64\n",
      " 12  ZONE1           7680 non-null    float64\n",
      " 13  ZONE2           6422 non-null    float64\n",
      " 14  MRG             100000 non-null  object \n",
      " 15  REGULARITY      100000 non-null  int64  \n",
      " 16  TOP_PACK        58297 non-null   object \n",
      " 17  FREQ_TOP_PACK   58297 non-null   float64\n",
      "dtypes: float64(12), int64(1), object(5)\n",
      "memory usage: 13.7+ MB\n"
     ]
    }
   ],
   "source": [
    "dataset_test.info()"
   ]
  },
  {
   "cell_type": "code",
   "execution_count": 6,
   "metadata": {
    "scrolled": true
   },
   "outputs": [
    {
     "data": {
      "text/html": [
       "<div>\n",
       "<style scoped>\n",
       "    .dataframe tbody tr th:only-of-type {\n",
       "        vertical-align: middle;\n",
       "    }\n",
       "\n",
       "    .dataframe tbody tr th {\n",
       "        vertical-align: top;\n",
       "    }\n",
       "\n",
       "    .dataframe thead th {\n",
       "        text-align: right;\n",
       "    }\n",
       "</style>\n",
       "<table border=\"1\" class=\"dataframe\">\n",
       "  <thead>\n",
       "    <tr style=\"text-align: right;\">\n",
       "      <th></th>\n",
       "      <th>user_id</th>\n",
       "      <th>REGION</th>\n",
       "      <th>TENURE</th>\n",
       "      <th>MONTANT</th>\n",
       "      <th>FREQUENCE_RECH</th>\n",
       "      <th>REVENUE</th>\n",
       "      <th>ARPU_SEGMENT</th>\n",
       "      <th>FREQUENCE</th>\n",
       "      <th>DATA_VOLUME</th>\n",
       "      <th>ON_NET</th>\n",
       "      <th>ORANGE</th>\n",
       "      <th>TIGO</th>\n",
       "      <th>ZONE1</th>\n",
       "      <th>ZONE2</th>\n",
       "      <th>MRG</th>\n",
       "      <th>REGULARITY</th>\n",
       "      <th>TOP_PACK</th>\n",
       "      <th>FREQ_TOP_PACK</th>\n",
       "      <th>CHURN</th>\n",
       "    </tr>\n",
       "  </thead>\n",
       "  <tbody>\n",
       "    <tr>\n",
       "      <th>0</th>\n",
       "      <td>dcf68cc2fb515ccad7d8b9b3bd80ee2a4b270063</td>\n",
       "      <td>SAINT-LOUIS</td>\n",
       "      <td>K &gt; 24 month</td>\n",
       "      <td>17000.0</td>\n",
       "      <td>32.0</td>\n",
       "      <td>18000.0</td>\n",
       "      <td>6000.0</td>\n",
       "      <td>34.0</td>\n",
       "      <td>NaN</td>\n",
       "      <td>97.0</td>\n",
       "      <td>355.0</td>\n",
       "      <td>6.0</td>\n",
       "      <td>NaN</td>\n",
       "      <td>NaN</td>\n",
       "      <td>NO</td>\n",
       "      <td>62</td>\n",
       "      <td>All-net 500F=2000F;5d</td>\n",
       "      <td>35.0</td>\n",
       "      <td>0</td>\n",
       "    </tr>\n",
       "    <tr>\n",
       "      <th>1</th>\n",
       "      <td>71c44b5ba328db5c4192a80f7cf8f244d9350ed0</td>\n",
       "      <td>NaN</td>\n",
       "      <td>K &gt; 24 month</td>\n",
       "      <td>4300.0</td>\n",
       "      <td>29.0</td>\n",
       "      <td>4427.0</td>\n",
       "      <td>1476.0</td>\n",
       "      <td>37.0</td>\n",
       "      <td>1764.0</td>\n",
       "      <td>8.0</td>\n",
       "      <td>3.0</td>\n",
       "      <td>0.0</td>\n",
       "      <td>NaN</td>\n",
       "      <td>2.0</td>\n",
       "      <td>NO</td>\n",
       "      <td>40</td>\n",
       "      <td>Data: 100 F=40MB,24H</td>\n",
       "      <td>22.0</td>\n",
       "      <td>0</td>\n",
       "    </tr>\n",
       "    <tr>\n",
       "      <th>2</th>\n",
       "      <td>ce46411b1526c94f20a383b8cb188f8d27f82a0a</td>\n",
       "      <td>TAMBACOUNDA</td>\n",
       "      <td>K &gt; 24 month</td>\n",
       "      <td>1500.0</td>\n",
       "      <td>3.0</td>\n",
       "      <td>1500.0</td>\n",
       "      <td>500.0</td>\n",
       "      <td>3.0</td>\n",
       "      <td>NaN</td>\n",
       "      <td>30.0</td>\n",
       "      <td>30.0</td>\n",
       "      <td>NaN</td>\n",
       "      <td>NaN</td>\n",
       "      <td>NaN</td>\n",
       "      <td>NO</td>\n",
       "      <td>32</td>\n",
       "      <td>All-net 500F=2000F;5d</td>\n",
       "      <td>3.0</td>\n",
       "      <td>0</td>\n",
       "    </tr>\n",
       "    <tr>\n",
       "      <th>3</th>\n",
       "      <td>f467cdb6669818373c26c2bad44e01ba66f97d21</td>\n",
       "      <td>FATICK</td>\n",
       "      <td>K &gt; 24 month</td>\n",
       "      <td>1500.0</td>\n",
       "      <td>3.0</td>\n",
       "      <td>2497.0</td>\n",
       "      <td>832.0</td>\n",
       "      <td>4.0</td>\n",
       "      <td>0.0</td>\n",
       "      <td>159.0</td>\n",
       "      <td>45.0</td>\n",
       "      <td>19.0</td>\n",
       "      <td>NaN</td>\n",
       "      <td>NaN</td>\n",
       "      <td>NO</td>\n",
       "      <td>18</td>\n",
       "      <td>On net 200F=Unlimited _call24H</td>\n",
       "      <td>3.0</td>\n",
       "      <td>0</td>\n",
       "    </tr>\n",
       "    <tr>\n",
       "      <th>4</th>\n",
       "      <td>ec45e1a1888a32b5dcce0954cfec20c6e037db31</td>\n",
       "      <td>FATICK</td>\n",
       "      <td>K &gt; 24 month</td>\n",
       "      <td>NaN</td>\n",
       "      <td>NaN</td>\n",
       "      <td>498.0</td>\n",
       "      <td>166.0</td>\n",
       "      <td>3.0</td>\n",
       "      <td>1.0</td>\n",
       "      <td>1.0</td>\n",
       "      <td>3.0</td>\n",
       "      <td>NaN</td>\n",
       "      <td>NaN</td>\n",
       "      <td>NaN</td>\n",
       "      <td>NO</td>\n",
       "      <td>50</td>\n",
       "      <td>NaN</td>\n",
       "      <td>NaN</td>\n",
       "      <td>0</td>\n",
       "    </tr>\n",
       "  </tbody>\n",
       "</table>\n",
       "</div>"
      ],
      "text/plain": [
       "                                    user_id       REGION        TENURE  \\\n",
       "0  dcf68cc2fb515ccad7d8b9b3bd80ee2a4b270063  SAINT-LOUIS  K > 24 month   \n",
       "1  71c44b5ba328db5c4192a80f7cf8f244d9350ed0          NaN  K > 24 month   \n",
       "2  ce46411b1526c94f20a383b8cb188f8d27f82a0a  TAMBACOUNDA  K > 24 month   \n",
       "3  f467cdb6669818373c26c2bad44e01ba66f97d21       FATICK  K > 24 month   \n",
       "4  ec45e1a1888a32b5dcce0954cfec20c6e037db31       FATICK  K > 24 month   \n",
       "\n",
       "   MONTANT  FREQUENCE_RECH  REVENUE  ARPU_SEGMENT  FREQUENCE  DATA_VOLUME  \\\n",
       "0  17000.0            32.0  18000.0        6000.0       34.0          NaN   \n",
       "1   4300.0            29.0   4427.0        1476.0       37.0       1764.0   \n",
       "2   1500.0             3.0   1500.0         500.0        3.0          NaN   \n",
       "3   1500.0             3.0   2497.0         832.0        4.0          0.0   \n",
       "4      NaN             NaN    498.0         166.0        3.0          1.0   \n",
       "\n",
       "   ON_NET  ORANGE  TIGO  ZONE1  ZONE2 MRG  REGULARITY  \\\n",
       "0    97.0   355.0   6.0    NaN    NaN  NO          62   \n",
       "1     8.0     3.0   0.0    NaN    2.0  NO          40   \n",
       "2    30.0    30.0   NaN    NaN    NaN  NO          32   \n",
       "3   159.0    45.0  19.0    NaN    NaN  NO          18   \n",
       "4     1.0     3.0   NaN    NaN    NaN  NO          50   \n",
       "\n",
       "                         TOP_PACK  FREQ_TOP_PACK  CHURN  \n",
       "0           All-net 500F=2000F;5d           35.0      0  \n",
       "1            Data: 100 F=40MB,24H           22.0      0  \n",
       "2           All-net 500F=2000F;5d            3.0      0  \n",
       "3  On net 200F=Unlimited _call24H            3.0      0  \n",
       "4                             NaN            NaN      0  "
      ]
     },
     "execution_count": 6,
     "metadata": {},
     "output_type": "execute_result"
    }
   ],
   "source": [
    "dataset_train.head()"
   ]
  },
  {
   "cell_type": "code",
   "execution_count": 7,
   "metadata": {},
   "outputs": [
    {
     "data": {
      "text/html": [
       "<div>\n",
       "<style scoped>\n",
       "    .dataframe tbody tr th:only-of-type {\n",
       "        vertical-align: middle;\n",
       "    }\n",
       "\n",
       "    .dataframe tbody tr th {\n",
       "        vertical-align: top;\n",
       "    }\n",
       "\n",
       "    .dataframe thead th {\n",
       "        text-align: right;\n",
       "    }\n",
       "</style>\n",
       "<table border=\"1\" class=\"dataframe\">\n",
       "  <thead>\n",
       "    <tr style=\"text-align: right;\">\n",
       "      <th></th>\n",
       "      <th>user_id</th>\n",
       "      <th>REGION</th>\n",
       "      <th>TENURE</th>\n",
       "      <th>MONTANT</th>\n",
       "      <th>FREQUENCE_RECH</th>\n",
       "      <th>REVENUE</th>\n",
       "      <th>ARPU_SEGMENT</th>\n",
       "      <th>FREQUENCE</th>\n",
       "      <th>DATA_VOLUME</th>\n",
       "      <th>ON_NET</th>\n",
       "      <th>ORANGE</th>\n",
       "      <th>TIGO</th>\n",
       "      <th>ZONE1</th>\n",
       "      <th>ZONE2</th>\n",
       "      <th>MRG</th>\n",
       "      <th>REGULARITY</th>\n",
       "      <th>TOP_PACK</th>\n",
       "      <th>FREQ_TOP_PACK</th>\n",
       "    </tr>\n",
       "  </thead>\n",
       "  <tbody>\n",
       "    <tr>\n",
       "      <th>0</th>\n",
       "      <td>af900d87e73b7ff6509d2203df4704a98aa5f2a6</td>\n",
       "      <td>NaN</td>\n",
       "      <td>K &gt; 24 month</td>\n",
       "      <td>NaN</td>\n",
       "      <td>NaN</td>\n",
       "      <td>NaN</td>\n",
       "      <td>NaN</td>\n",
       "      <td>NaN</td>\n",
       "      <td>NaN</td>\n",
       "      <td>NaN</td>\n",
       "      <td>NaN</td>\n",
       "      <td>NaN</td>\n",
       "      <td>NaN</td>\n",
       "      <td>NaN</td>\n",
       "      <td>NO</td>\n",
       "      <td>1</td>\n",
       "      <td>NaN</td>\n",
       "      <td>NaN</td>\n",
       "    </tr>\n",
       "    <tr>\n",
       "      <th>1</th>\n",
       "      <td>5335efd940280b82143272275637d1e65d37eadb</td>\n",
       "      <td>NaN</td>\n",
       "      <td>K &gt; 24 month</td>\n",
       "      <td>NaN</td>\n",
       "      <td>NaN</td>\n",
       "      <td>10.0</td>\n",
       "      <td>3.0</td>\n",
       "      <td>1.0</td>\n",
       "      <td>NaN</td>\n",
       "      <td>NaN</td>\n",
       "      <td>NaN</td>\n",
       "      <td>NaN</td>\n",
       "      <td>NaN</td>\n",
       "      <td>NaN</td>\n",
       "      <td>NO</td>\n",
       "      <td>2</td>\n",
       "      <td>NaN</td>\n",
       "      <td>NaN</td>\n",
       "    </tr>\n",
       "    <tr>\n",
       "      <th>2</th>\n",
       "      <td>a581f4fa08677c26f83f643248c667e241043086</td>\n",
       "      <td>NaN</td>\n",
       "      <td>K &gt; 24 month</td>\n",
       "      <td>1900.0</td>\n",
       "      <td>15.0</td>\n",
       "      <td>2299.0</td>\n",
       "      <td>766.0</td>\n",
       "      <td>21.0</td>\n",
       "      <td>414.0</td>\n",
       "      <td>NaN</td>\n",
       "      <td>7.0</td>\n",
       "      <td>2.0</td>\n",
       "      <td>NaN</td>\n",
       "      <td>NaN</td>\n",
       "      <td>NO</td>\n",
       "      <td>27</td>\n",
       "      <td>Data: 100 F=40MB,24H</td>\n",
       "      <td>17.0</td>\n",
       "    </tr>\n",
       "    <tr>\n",
       "      <th>3</th>\n",
       "      <td>64f67177d0775262b8087a9e2e3b8061b6324ae6</td>\n",
       "      <td>DAKAR</td>\n",
       "      <td>K &gt; 24 month</td>\n",
       "      <td>3000.0</td>\n",
       "      <td>9.0</td>\n",
       "      <td>2603.0</td>\n",
       "      <td>868.0</td>\n",
       "      <td>14.0</td>\n",
       "      <td>332.0</td>\n",
       "      <td>0.0</td>\n",
       "      <td>23.0</td>\n",
       "      <td>4.0</td>\n",
       "      <td>NaN</td>\n",
       "      <td>NaN</td>\n",
       "      <td>NO</td>\n",
       "      <td>46</td>\n",
       "      <td>IVR Echat_Daily_50F</td>\n",
       "      <td>3.0</td>\n",
       "    </tr>\n",
       "    <tr>\n",
       "      <th>4</th>\n",
       "      <td>0d6009a4594c4be22449b8d9cc01a0bcea98faea</td>\n",
       "      <td>DAKAR</td>\n",
       "      <td>K &gt; 24 month</td>\n",
       "      <td>32000.0</td>\n",
       "      <td>47.0</td>\n",
       "      <td>33000.0</td>\n",
       "      <td>11000.0</td>\n",
       "      <td>47.0</td>\n",
       "      <td>NaN</td>\n",
       "      <td>128.0</td>\n",
       "      <td>555.0</td>\n",
       "      <td>280.0</td>\n",
       "      <td>NaN</td>\n",
       "      <td>NaN</td>\n",
       "      <td>NO</td>\n",
       "      <td>61</td>\n",
       "      <td>All-net 500F=2000F;5d</td>\n",
       "      <td>65.0</td>\n",
       "    </tr>\n",
       "  </tbody>\n",
       "</table>\n",
       "</div>"
      ],
      "text/plain": [
       "                                    user_id REGION        TENURE  MONTANT  \\\n",
       "0  af900d87e73b7ff6509d2203df4704a98aa5f2a6    NaN  K > 24 month      NaN   \n",
       "1  5335efd940280b82143272275637d1e65d37eadb    NaN  K > 24 month      NaN   \n",
       "2  a581f4fa08677c26f83f643248c667e241043086    NaN  K > 24 month   1900.0   \n",
       "3  64f67177d0775262b8087a9e2e3b8061b6324ae6  DAKAR  K > 24 month   3000.0   \n",
       "4  0d6009a4594c4be22449b8d9cc01a0bcea98faea  DAKAR  K > 24 month  32000.0   \n",
       "\n",
       "   FREQUENCE_RECH  REVENUE  ARPU_SEGMENT  FREQUENCE  DATA_VOLUME  ON_NET  \\\n",
       "0             NaN      NaN           NaN        NaN          NaN     NaN   \n",
       "1             NaN     10.0           3.0        1.0          NaN     NaN   \n",
       "2            15.0   2299.0         766.0       21.0        414.0     NaN   \n",
       "3             9.0   2603.0         868.0       14.0        332.0     0.0   \n",
       "4            47.0  33000.0       11000.0       47.0          NaN   128.0   \n",
       "\n",
       "   ORANGE   TIGO  ZONE1  ZONE2 MRG  REGULARITY               TOP_PACK  \\\n",
       "0     NaN    NaN    NaN    NaN  NO           1                    NaN   \n",
       "1     NaN    NaN    NaN    NaN  NO           2                    NaN   \n",
       "2     7.0    2.0    NaN    NaN  NO          27   Data: 100 F=40MB,24H   \n",
       "3    23.0    4.0    NaN    NaN  NO          46    IVR Echat_Daily_50F   \n",
       "4   555.0  280.0    NaN    NaN  NO          61  All-net 500F=2000F;5d   \n",
       "\n",
       "   FREQ_TOP_PACK  \n",
       "0            NaN  \n",
       "1            NaN  \n",
       "2           17.0  \n",
       "3            3.0  \n",
       "4           65.0  "
      ]
     },
     "execution_count": 7,
     "metadata": {},
     "output_type": "execute_result"
    }
   ],
   "source": [
    "dataset_test.head()"
   ]
  },
  {
   "cell_type": "code",
   "execution_count": 8,
   "metadata": {},
   "outputs": [
    {
     "data": {
      "text/plain": [
       "user_id           400000\n",
       "REGION                14\n",
       "TENURE                 8\n",
       "MONTANT             2421\n",
       "FREQUENCE_RECH       111\n",
       "REVENUE            23760\n",
       "ARPU_SEGMENT       11014\n",
       "FREQUENCE             91\n",
       "DATA_VOLUME        22229\n",
       "ON_NET              5996\n",
       "ORANGE              2072\n",
       "TIGO                 805\n",
       "ZONE1                319\n",
       "ZONE2                255\n",
       "MRG                    1\n",
       "REGULARITY            62\n",
       "TOP_PACK             111\n",
       "FREQ_TOP_PACK        170\n",
       "CHURN                  2\n",
       "dtype: int64"
      ]
     },
     "execution_count": 8,
     "metadata": {},
     "output_type": "execute_result"
    }
   ],
   "source": [
    "dataset_train.nunique()"
   ]
  },
  {
   "cell_type": "code",
   "execution_count": 9,
   "metadata": {},
   "outputs": [
    {
     "data": {
      "text/plain": [
       "user_id           100000\n",
       "REGION                14\n",
       "TENURE                 8\n",
       "MONTANT             1269\n",
       "FREQUENCE_RECH       106\n",
       "REVENUE            13625\n",
       "ARPU_SEGMENT        7277\n",
       "FREQUENCE             91\n",
       "DATA_VOLUME        11526\n",
       "ON_NET              3488\n",
       "ORANGE              1338\n",
       "TIGO                 526\n",
       "ZONE1                186\n",
       "ZONE2                153\n",
       "MRG                    1\n",
       "REGULARITY            62\n",
       "TOP_PACK              92\n",
       "FREQ_TOP_PACK        130\n",
       "dtype: int64"
      ]
     },
     "execution_count": 9,
     "metadata": {},
     "output_type": "execute_result"
    }
   ],
   "source": [
    "dataset_test.nunique()"
   ]
  },
  {
   "cell_type": "code",
   "execution_count": 10,
   "metadata": {},
   "outputs": [
    {
     "data": {
      "text/plain": [
       "user_id                0\n",
       "REGION            157520\n",
       "TENURE                 0\n",
       "MONTANT           140277\n",
       "FREQUENCE_RECH    140277\n",
       "REVENUE           134663\n",
       "ARPU_SEGMENT      134663\n",
       "FREQUENCE         134663\n",
       "DATA_VOLUME       196854\n",
       "ON_NET            145819\n",
       "ORANGE            166317\n",
       "TIGO              239386\n",
       "ZONE1             368310\n",
       "ZONE2             374487\n",
       "MRG                    0\n",
       "REGULARITY             0\n",
       "TOP_PACK          167329\n",
       "FREQ_TOP_PACK     167329\n",
       "CHURN                  0\n",
       "dtype: int64"
      ]
     },
     "execution_count": 10,
     "metadata": {},
     "output_type": "execute_result"
    }
   ],
   "source": [
    "dataset_train.isnull().sum()"
   ]
  },
  {
   "cell_type": "code",
   "execution_count": 11,
   "metadata": {},
   "outputs": [
    {
     "data": {
      "text/plain": [
       "user_id               0\n",
       "REGION            39293\n",
       "TENURE                0\n",
       "MONTANT           34951\n",
       "FREQUENCE_RECH    34951\n",
       "REVENUE           33490\n",
       "ARPU_SEGMENT      33490\n",
       "FREQUENCE         33490\n",
       "DATA_VOLUME       49338\n",
       "ON_NET            36383\n",
       "ORANGE            41200\n",
       "TIGO              59788\n",
       "ZONE1             92320\n",
       "ZONE2             93578\n",
       "MRG                   0\n",
       "REGULARITY            0\n",
       "TOP_PACK          41703\n",
       "FREQ_TOP_PACK     41703\n",
       "dtype: int64"
      ]
     },
     "execution_count": 11,
     "metadata": {},
     "output_type": "execute_result"
    }
   ],
   "source": [
    "dataset_test.isnull().sum()"
   ]
  },
  {
   "cell_type": "code",
   "execution_count": 12,
   "metadata": {},
   "outputs": [],
   "source": [
    "## OUT OF THE 4 CATEGORICAL COLUMNS ONLY \"TOP_PACK\" and \"REGION\" have missing values\n",
    "dataset_train[\"TOP_PACK\"] = dataset_train[\"TOP_PACK\"].fillna(value= \"None\")\n",
    "dataset_train[\"REGION\"] = dataset_train[\"REGION\"].fillna(value= \"None\")\n",
    "\n",
    "\n",
    "dataset_test[\"TOP_PACK\"] = dataset_test[\"TOP_PACK\"].fillna(value= \"None\")\n",
    "dataset_test[\"REGION\"] = dataset_test[\"REGION\"].fillna(value= \"None\")\n",
    "\n",
    "## i filled the missing values with a new categorical value \"None\""
   ]
  },
  {
   "cell_type": "code",
   "execution_count": 13,
   "metadata": {},
   "outputs": [],
   "source": [
    "## ALMOST ALL THE NUMERICAL COLUMNS HAVE MISSING VALUES\n",
    "## I FILL THE MISSING VALUES WITH A VALUE OF \"0.0\", you can use mean, median, mode values for this also (whichever works best)\n",
    "for i in ['MONTANT', 'FREQUENCE_RECH', 'REVENUE',\n",
    "       'ARPU_SEGMENT', 'FREQUENCE', 'DATA_VOLUME', 'ON_NET', 'ORANGE', 'TIGO',\n",
    "       'ZONE1', 'ZONE2', 'FREQ_TOP_PACK']:\n",
    "    dataset_train[i] = dataset_train[i].fillna(value = 0.0)\n",
    "    dataset_test[i] = dataset_test[i].fillna(value = 0.0)"
   ]
  },
  {
   "cell_type": "code",
   "execution_count": 14,
   "metadata": {
    "scrolled": true
   },
   "outputs": [
    {
     "data": {
      "text/plain": [
       "user_id           0\n",
       "REGION            0\n",
       "TENURE            0\n",
       "MONTANT           0\n",
       "FREQUENCE_RECH    0\n",
       "REVENUE           0\n",
       "ARPU_SEGMENT      0\n",
       "FREQUENCE         0\n",
       "DATA_VOLUME       0\n",
       "ON_NET            0\n",
       "ORANGE            0\n",
       "TIGO              0\n",
       "ZONE1             0\n",
       "ZONE2             0\n",
       "MRG               0\n",
       "REGULARITY        0\n",
       "TOP_PACK          0\n",
       "FREQ_TOP_PACK     0\n",
       "CHURN             0\n",
       "dtype: int64"
      ]
     },
     "execution_count": 14,
     "metadata": {},
     "output_type": "execute_result"
    }
   ],
   "source": [
    "dataset_train.isnull().sum()"
   ]
  },
  {
   "cell_type": "code",
   "execution_count": 15,
   "metadata": {},
   "outputs": [
    {
     "data": {
      "text/plain": [
       "user_id           0\n",
       "REGION            0\n",
       "TENURE            0\n",
       "MONTANT           0\n",
       "FREQUENCE_RECH    0\n",
       "REVENUE           0\n",
       "ARPU_SEGMENT      0\n",
       "FREQUENCE         0\n",
       "DATA_VOLUME       0\n",
       "ON_NET            0\n",
       "ORANGE            0\n",
       "TIGO              0\n",
       "ZONE1             0\n",
       "ZONE2             0\n",
       "MRG               0\n",
       "REGULARITY        0\n",
       "TOP_PACK          0\n",
       "FREQ_TOP_PACK     0\n",
       "dtype: int64"
      ]
     },
     "execution_count": 15,
     "metadata": {},
     "output_type": "execute_result"
    }
   ],
   "source": [
    "dataset_test.isnull().sum()"
   ]
  },
  {
   "cell_type": "code",
   "execution_count": 16,
   "metadata": {},
   "outputs": [
    {
     "data": {
      "text/plain": [
       "0    325156\n",
       "1     74844\n",
       "Name: CHURN, dtype: int64"
      ]
     },
     "execution_count": 16,
     "metadata": {},
     "output_type": "execute_result"
    }
   ],
   "source": [
    "#Get the number of customers that churned\n",
    "dataset_train['CHURN'].value_counts()"
   ]
  },
  {
   "cell_type": "code",
   "execution_count": 17,
   "metadata": {},
   "outputs": [
    {
     "data": {
      "text/plain": [
       "0    0.81289\n",
       "1    0.18711\n",
       "Name: CHURN, dtype: float64"
      ]
     },
     "execution_count": 17,
     "metadata": {},
     "output_type": "execute_result"
    }
   ],
   "source": [
    "dataset_train['CHURN'].value_counts(1)"
   ]
  },
  {
   "cell_type": "code",
   "execution_count": 18,
   "metadata": {},
   "outputs": [
    {
     "name": "stdout",
     "output_type": "stream",
     "text": [
      "325156\n",
      "74844\n"
     ]
    }
   ],
   "source": [
    "print(dataset_train['CHURN'].value_counts(0)[0])\n",
    "print(dataset_train['CHURN'].value_counts(0)[1])"
   ]
  },
  {
   "cell_type": "code",
   "execution_count": 19,
   "metadata": {},
   "outputs": [],
   "source": [
    "retained = dataset_train['CHURN'].value_counts(0)[0]\n",
    "CHURNed = dataset_train['CHURN'].value_counts(0)[1]"
   ]
  },
  {
   "cell_type": "code",
   "execution_count": 20,
   "metadata": {},
   "outputs": [
    {
     "name": "stdout",
     "output_type": "stream",
     "text": [
      "81.289 % of customers stayed with the company.\n",
      "18.711 % of customers left the company.\n"
     ]
    }
   ],
   "source": [
    "#Print the percentage of customers that stayed and left\n",
    "print(retained /(retained + CHURNed) * 100 , \"% of customers stayed with the company.\")\n",
    "\n",
    "\n",
    "#Print the percentage of customers that stayed and left\n",
    "print(CHURNed /(retained + CHURNed) * 100,\"% of customers left the company.\")"
   ]
  },
  {
   "cell_type": "code",
   "execution_count": 21,
   "metadata": {},
   "outputs": [],
   "source": [
    "import seaborn as sns"
   ]
  },
  {
   "cell_type": "code",
   "execution_count": 22,
   "metadata": {},
   "outputs": [
    {
     "data": {
      "text/plain": [
       "<AxesSubplot:xlabel='CHURN', ylabel='count'>"
      ]
     },
     "execution_count": 22,
     "metadata": {},
     "output_type": "execute_result"
    },
    {
     "data": {
      "image/png": "[encoded data removed]",
      "text/plain": [
       "<Figure size 432x288 with 1 Axes>"
      ]
     },
     "metadata": {
      "needs_background": "light"
     },
     "output_type": "display_data"
    }
   ],
   "source": [
    "#Visualize the count of customer churn\n",
    "sns.countplot(dataset_train['CHURN'])"
   ]
  },
  {
   "cell_type": "code",
   "execution_count": 23,
   "metadata": {},
   "outputs": [
    {
     "data": {
      "text/plain": [
       "<AxesSubplot:xlabel='TENURE', ylabel='count'>"
      ]
     },
     "execution_count": 23,
     "metadata": {},
     "output_type": "execute_result"
    },
    {
     "data": {
      "image/png": "[encoded data removed]",
      "text/plain": [
       "<Figure size 432x288 with 1 Axes>"
      ]
     },
     "metadata": {
      "needs_background": "light"
     },
     "output_type": "display_data"
    }
   ],
   "source": [
    "#Visualize the churn count for the Tenure\n",
    "sns.countplot(x='TENURE', hue='CHURN', data = dataset_train)"
   ]
  },
  {
   "cell_type": "code",
   "execution_count": 24,
   "metadata": {},
   "outputs": [
    {
     "data": {
      "text/plain": [
       "<AxesSubplot:xlabel='MRG', ylabel='count'>"
      ]
     },
     "execution_count": 24,
     "metadata": {},
     "output_type": "execute_result"
    },
    {
     "data": {
      "image/png": "[encoded data removed]",
      "text/plain": [
       "<Figure size 432x288 with 1 Axes>"
      ]
     },
     "metadata": {
      "needs_background": "light"
     },
     "output_type": "display_data"
    }
   ],
   "source": [
    "#Visualize the churn count for the MRG \n",
    "sns.countplot(x='MRG', hue='CHURN', data = dataset_train)"
   ]
  },
  {
   "cell_type": "code",
   "execution_count": 25,
   "metadata": {},
   "outputs": [],
   "source": [
    "## We drop some columns: \n",
    "## 1) \"user_id\": because each of values is unique, so its redundant to the model (i think *smiles*)\n",
    "## 2) \"MRG\": because it possesses only one value for all the entries, so its redundant (you can attempt to include it and comapre results)\n",
    "## 3) \"CHURN\": it is the target columns it will be assigned to \"y\"\n",
    "X = dataset_train.drop([\"user_id\", \"MRG\", \"CHURN\"], axis =1)\n",
    "y = dataset_train[\"CHURN\"]\n",
    "\n",
    "X_test = dataset_test.drop([\"user_id\", \"MRG\"], axis = 1)"
   ]
  },
  {
   "cell_type": "code",
   "execution_count": 26,
   "metadata": {},
   "outputs": [],
   "source": [
    "from sklearn.preprocessing import LabelEncoder\n",
    "\n",
    "for i in [\"REGION\", \"TENURE\", \"TOP_PACK\"]:\n",
    "    X[i] = LabelEncoder().fit_transform(X[i])\n",
    "    X_test[i] = LabelEncoder().fit_transform(X_test[i])"
   ]
  },
  {
   "cell_type": "code",
   "execution_count": 27,
   "metadata": {},
   "outputs": [
    {
     "data": {
      "text/html": [
       "<div>\n",
       "<style scoped>\n",
       "    .dataframe tbody tr th:only-of-type {\n",
       "        vertical-align: middle;\n",
       "    }\n",
       "\n",
       "    .dataframe tbody tr th {\n",
       "        vertical-align: top;\n",
       "    }\n",
       "\n",
       "    .dataframe thead th {\n",
       "        text-align: right;\n",
       "    }\n",
       "</style>\n",
       "<table border=\"1\" class=\"dataframe\">\n",
       "  <thead>\n",
       "    <tr style=\"text-align: right;\">\n",
       "      <th></th>\n",
       "      <th>REGION</th>\n",
       "      <th>TENURE</th>\n",
       "      <th>MONTANT</th>\n",
       "      <th>FREQUENCE_RECH</th>\n",
       "      <th>REVENUE</th>\n",
       "      <th>ARPU_SEGMENT</th>\n",
       "      <th>FREQUENCE</th>\n",
       "      <th>DATA_VOLUME</th>\n",
       "      <th>ON_NET</th>\n",
       "      <th>ORANGE</th>\n",
       "      <th>TIGO</th>\n",
       "      <th>ZONE1</th>\n",
       "      <th>ZONE2</th>\n",
       "      <th>REGULARITY</th>\n",
       "      <th>TOP_PACK</th>\n",
       "      <th>FREQ_TOP_PACK</th>\n",
       "    </tr>\n",
       "  </thead>\n",
       "  <tbody>\n",
       "    <tr>\n",
       "      <th>0</th>\n",
       "      <td>10</td>\n",
       "      <td>7</td>\n",
       "      <td>17000.0</td>\n",
       "      <td>32.0</td>\n",
       "      <td>18000.0</td>\n",
       "      <td>6000.0</td>\n",
       "      <td>34.0</td>\n",
       "      <td>0.0</td>\n",
       "      <td>97.0</td>\n",
       "      <td>355.0</td>\n",
       "      <td>6.0</td>\n",
       "      <td>0.0</td>\n",
       "      <td>0.0</td>\n",
       "      <td>62</td>\n",
       "      <td>15</td>\n",
       "      <td>35.0</td>\n",
       "    </tr>\n",
       "    <tr>\n",
       "      <th>1</th>\n",
       "      <td>9</td>\n",
       "      <td>7</td>\n",
       "      <td>4300.0</td>\n",
       "      <td>29.0</td>\n",
       "      <td>4427.0</td>\n",
       "      <td>1476.0</td>\n",
       "      <td>37.0</td>\n",
       "      <td>1764.0</td>\n",
       "      <td>8.0</td>\n",
       "      <td>3.0</td>\n",
       "      <td>0.0</td>\n",
       "      <td>0.0</td>\n",
       "      <td>2.0</td>\n",
       "      <td>40</td>\n",
       "      <td>25</td>\n",
       "      <td>22.0</td>\n",
       "    </tr>\n",
       "    <tr>\n",
       "      <th>2</th>\n",
       "      <td>12</td>\n",
       "      <td>7</td>\n",
       "      <td>1500.0</td>\n",
       "      <td>3.0</td>\n",
       "      <td>1500.0</td>\n",
       "      <td>500.0</td>\n",
       "      <td>3.0</td>\n",
       "      <td>0.0</td>\n",
       "      <td>30.0</td>\n",
       "      <td>30.0</td>\n",
       "      <td>0.0</td>\n",
       "      <td>0.0</td>\n",
       "      <td>0.0</td>\n",
       "      <td>32</td>\n",
       "      <td>15</td>\n",
       "      <td>3.0</td>\n",
       "    </tr>\n",
       "    <tr>\n",
       "      <th>3</th>\n",
       "      <td>2</td>\n",
       "      <td>7</td>\n",
       "      <td>1500.0</td>\n",
       "      <td>3.0</td>\n",
       "      <td>2497.0</td>\n",
       "      <td>832.0</td>\n",
       "      <td>4.0</td>\n",
       "      <td>0.0</td>\n",
       "      <td>159.0</td>\n",
       "      <td>45.0</td>\n",
       "      <td>19.0</td>\n",
       "      <td>0.0</td>\n",
       "      <td>0.0</td>\n",
       "      <td>18</td>\n",
       "      <td>85</td>\n",
       "      <td>3.0</td>\n",
       "    </tr>\n",
       "    <tr>\n",
       "      <th>4</th>\n",
       "      <td>2</td>\n",
       "      <td>7</td>\n",
       "      <td>0.0</td>\n",
       "      <td>0.0</td>\n",
       "      <td>498.0</td>\n",
       "      <td>166.0</td>\n",
       "      <td>3.0</td>\n",
       "      <td>1.0</td>\n",
       "      <td>1.0</td>\n",
       "      <td>3.0</td>\n",
       "      <td>0.0</td>\n",
       "      <td>0.0</td>\n",
       "      <td>0.0</td>\n",
       "      <td>50</td>\n",
       "      <td>83</td>\n",
       "      <td>0.0</td>\n",
       "    </tr>\n",
       "  </tbody>\n",
       "</table>\n",
       "</div>"
      ],
      "text/plain": [
       "   REGION  TENURE  MONTANT  FREQUENCE_RECH  REVENUE  ARPU_SEGMENT  FREQUENCE  \\\n",
       "0      10       7  17000.0            32.0  18000.0        6000.0       34.0   \n",
       "1       9       7   4300.0            29.0   4427.0        1476.0       37.0   \n",
       "2      12       7   1500.0             3.0   1500.0         500.0        3.0   \n",
       "3       2       7   1500.0             3.0   2497.0         832.0        4.0   \n",
       "4       2       7      0.0             0.0    498.0         166.0        3.0   \n",
       "\n",
       "   DATA_VOLUME  ON_NET  ORANGE  TIGO  ZONE1  ZONE2  REGULARITY  TOP_PACK  \\\n",
       "0          0.0    97.0   355.0   6.0    0.0    0.0          62        15   \n",
       "1       1764.0     8.0     3.0   0.0    0.0    2.0          40        25   \n",
       "2          0.0    30.0    30.0   0.0    0.0    0.0          32        15   \n",
       "3          0.0   159.0    45.0  19.0    0.0    0.0          18        85   \n",
       "4          1.0     1.0     3.0   0.0    0.0    0.0          50        83   \n",
       "\n",
       "   FREQ_TOP_PACK  \n",
       "0           35.0  \n",
       "1           22.0  \n",
       "2            3.0  \n",
       "3            3.0  \n",
       "4            0.0  "
      ]
     },
     "execution_count": 27,
     "metadata": {},
     "output_type": "execute_result"
    }
   ],
   "source": [
    "X.head()"
   ]
  },
  {
   "cell_type": "code",
   "execution_count": 28,
   "metadata": {},
   "outputs": [
    {
     "data": {
      "text/html": [
       "<div>\n",
       "<style scoped>\n",
       "    .dataframe tbody tr th:only-of-type {\n",
       "        vertical-align: middle;\n",
       "    }\n",
       "\n",
       "    .dataframe tbody tr th {\n",
       "        vertical-align: top;\n",
       "    }\n",
       "\n",
       "    .dataframe thead th {\n",
       "        text-align: right;\n",
       "    }\n",
       "</style>\n",
       "<table border=\"1\" class=\"dataframe\">\n",
       "  <thead>\n",
       "    <tr style=\"text-align: right;\">\n",
       "      <th></th>\n",
       "      <th>REGION</th>\n",
       "      <th>TENURE</th>\n",
       "      <th>MONTANT</th>\n",
       "      <th>FREQUENCE_RECH</th>\n",
       "      <th>REVENUE</th>\n",
       "      <th>ARPU_SEGMENT</th>\n",
       "      <th>FREQUENCE</th>\n",
       "      <th>DATA_VOLUME</th>\n",
       "      <th>ON_NET</th>\n",
       "      <th>ORANGE</th>\n",
       "      <th>TIGO</th>\n",
       "      <th>ZONE1</th>\n",
       "      <th>ZONE2</th>\n",
       "      <th>REGULARITY</th>\n",
       "      <th>TOP_PACK</th>\n",
       "      <th>FREQ_TOP_PACK</th>\n",
       "    </tr>\n",
       "  </thead>\n",
       "  <tbody>\n",
       "    <tr>\n",
       "      <th>0</th>\n",
       "      <td>9</td>\n",
       "      <td>7</td>\n",
       "      <td>0.0</td>\n",
       "      <td>0.0</td>\n",
       "      <td>0.0</td>\n",
       "      <td>0.0</td>\n",
       "      <td>0.0</td>\n",
       "      <td>0.0</td>\n",
       "      <td>0.0</td>\n",
       "      <td>0.0</td>\n",
       "      <td>0.0</td>\n",
       "      <td>0.0</td>\n",
       "      <td>0.0</td>\n",
       "      <td>1</td>\n",
       "      <td>68</td>\n",
       "      <td>0.0</td>\n",
       "    </tr>\n",
       "    <tr>\n",
       "      <th>1</th>\n",
       "      <td>9</td>\n",
       "      <td>7</td>\n",
       "      <td>0.0</td>\n",
       "      <td>0.0</td>\n",
       "      <td>10.0</td>\n",
       "      <td>3.0</td>\n",
       "      <td>1.0</td>\n",
       "      <td>0.0</td>\n",
       "      <td>0.0</td>\n",
       "      <td>0.0</td>\n",
       "      <td>0.0</td>\n",
       "      <td>0.0</td>\n",
       "      <td>0.0</td>\n",
       "      <td>2</td>\n",
       "      <td>68</td>\n",
       "      <td>0.0</td>\n",
       "    </tr>\n",
       "    <tr>\n",
       "      <th>2</th>\n",
       "      <td>9</td>\n",
       "      <td>7</td>\n",
       "      <td>1900.0</td>\n",
       "      <td>15.0</td>\n",
       "      <td>2299.0</td>\n",
       "      <td>766.0</td>\n",
       "      <td>21.0</td>\n",
       "      <td>414.0</td>\n",
       "      <td>0.0</td>\n",
       "      <td>7.0</td>\n",
       "      <td>2.0</td>\n",
       "      <td>0.0</td>\n",
       "      <td>0.0</td>\n",
       "      <td>27</td>\n",
       "      <td>15</td>\n",
       "      <td>17.0</td>\n",
       "    </tr>\n",
       "    <tr>\n",
       "      <th>3</th>\n",
       "      <td>0</td>\n",
       "      <td>7</td>\n",
       "      <td>3000.0</td>\n",
       "      <td>9.0</td>\n",
       "      <td>2603.0</td>\n",
       "      <td>868.0</td>\n",
       "      <td>14.0</td>\n",
       "      <td>332.0</td>\n",
       "      <td>0.0</td>\n",
       "      <td>23.0</td>\n",
       "      <td>4.0</td>\n",
       "      <td>0.0</td>\n",
       "      <td>0.0</td>\n",
       "      <td>46</td>\n",
       "      <td>43</td>\n",
       "      <td>3.0</td>\n",
       "    </tr>\n",
       "    <tr>\n",
       "      <th>4</th>\n",
       "      <td>0</td>\n",
       "      <td>7</td>\n",
       "      <td>32000.0</td>\n",
       "      <td>47.0</td>\n",
       "      <td>33000.0</td>\n",
       "      <td>11000.0</td>\n",
       "      <td>47.0</td>\n",
       "      <td>0.0</td>\n",
       "      <td>128.0</td>\n",
       "      <td>555.0</td>\n",
       "      <td>280.0</td>\n",
       "      <td>0.0</td>\n",
       "      <td>0.0</td>\n",
       "      <td>61</td>\n",
       "      <td>10</td>\n",
       "      <td>65.0</td>\n",
       "    </tr>\n",
       "  </tbody>\n",
       "</table>\n",
       "</div>"
      ],
      "text/plain": [
       "   REGION  TENURE  MONTANT  FREQUENCE_RECH  REVENUE  ARPU_SEGMENT  FREQUENCE  \\\n",
       "0       9       7      0.0             0.0      0.0           0.0        0.0   \n",
       "1       9       7      0.0             0.0     10.0           3.0        1.0   \n",
       "2       9       7   1900.0            15.0   2299.0         766.0       21.0   \n",
       "3       0       7   3000.0             9.0   2603.0         868.0       14.0   \n",
       "4       0       7  32000.0            47.0  33000.0       11000.0       47.0   \n",
       "\n",
       "   DATA_VOLUME  ON_NET  ORANGE   TIGO  ZONE1  ZONE2  REGULARITY  TOP_PACK  \\\n",
       "0          0.0     0.0     0.0    0.0    0.0    0.0           1        68   \n",
       "1          0.0     0.0     0.0    0.0    0.0    0.0           2        68   \n",
       "2        414.0     0.0     7.0    2.0    0.0    0.0          27        15   \n",
       "3        332.0     0.0    23.0    4.0    0.0    0.0          46        43   \n",
       "4          0.0   128.0   555.0  280.0    0.0    0.0          61        10   \n",
       "\n",
       "   FREQ_TOP_PACK  \n",
       "0            0.0  \n",
       "1            0.0  \n",
       "2           17.0  \n",
       "3            3.0  \n",
       "4           65.0  "
      ]
     },
     "execution_count": 28,
     "metadata": {},
     "output_type": "execute_result"
    }
   ],
   "source": [
    "X_test.head()\n",
    "## We can see that all the values are now in integrt/floats which our machine learning models can work with"
   ]
  },
  {
   "cell_type": "code",
   "execution_count": 29,
   "metadata": {},
   "outputs": [],
   "source": [
    "from sklearn.model_selection import train_test_split\n",
    "\n",
    "X_train, X_val, y_train, y_val = train_test_split(X, y, test_size = 0.2, stratify = y, random_state = 0)\n",
    "## \"stratify = y\", to make sure the districution of the target \"CHURN\" are evenly distributed in the train and validation sets"
   ]
  },
  {
   "cell_type": "code",
   "execution_count": 30,
   "metadata": {},
   "outputs": [],
   "source": [
    "from sklearn.linear_model import LogisticRegression\n",
    "from sklearn.ensemble import RandomForestClassifier\n",
    "from sklearn.preprocessing import StandardScaler\n",
    "from sklearn.pipeline import Pipeline\n",
    "\n",
    "pipe = Pipeline([(\"scaler\", StandardScaler()), (\"model\", RandomForestClassifier())])\n",
    "pipe = Pipeline([(\"scaler\", StandardScaler()), (\"model\", LogisticRegression())])"
   ]
  },
  {
   "cell_type": "code",
   "execution_count": 31,
   "metadata": {
    "scrolled": true
   },
   "outputs": [
    {
     "data": {
      "text/plain": [
       "Pipeline(memory=None,\n",
       "         steps=[('scaler',\n",
       "                 StandardScaler(copy=True, with_mean=True, with_std=True)),\n",
       "                ('model',\n",
       "                 LogisticRegression(C=1.0, class_weight=None, dual=False,\n",
       "                                    fit_intercept=True, intercept_scaling=1,\n",
       "                                    l1_ratio=None, max_iter=100,\n",
       "                                    multi_class='auto', n_jobs=None,\n",
       "                                    penalty='l2', random_state=None,\n",
       "                                    solver='lbfgs', tol=0.0001, verbose=0,\n",
       "                                    warm_start=False))],\n",
       "         verbose=False)"
      ]
     },
     "execution_count": 31,
     "metadata": {},
     "output_type": "execute_result"
    }
   ],
   "source": [
    "pipe.fit(X_train, y_train)"
   ]
  },
  {
   "cell_type": "code",
   "execution_count": 32,
   "metadata": {},
   "outputs": [],
   "source": [
    "prediction = pipe.predict(X_val)"
   ]
  },
  {
   "cell_type": "code",
   "execution_count": 33,
   "metadata": {
    "scrolled": false
   },
   "outputs": [
    {
     "name": "stdout",
     "output_type": "stream",
     "text": [
      "Accuracy on validation set:  0.8620875\n"
     ]
    }
   ],
   "source": [
    "from sklearn.metrics import log_loss, accuracy_score\n",
    "\n",
    "score = accuracy_score(y_val, prediction)\n",
    "print(\"Accuracy on validation set: \",score)"
   ]
  },
  {
   "cell_type": "code",
   "execution_count": 34,
   "metadata": {},
   "outputs": [],
   "source": [
    "## we fit on the entire data this time\n",
    "pipe.fit(X, y)\n",
    "## we are now making prediction based on the \"test dataset\" stores with variable name \"X_test\" (if lost check the celss above)\n",
    "## we are using \"predict_proba()\" can we are required to predict the likelihood(probabilitiy) of a user churning\n",
    "## \"[:,1]\", this helps to select only the probabilites of churning (i.e 1), if we use \"[:, 0]\" it selects the probalities of not-churning (i.e 0)\n",
    "pred = pipe.predict_proba(X_test)[:,1]\n",
    "## so create a dictionary with the \"user_id\" from the \"test_dataset\" and the new predictions \"pred\"\n",
    "## we trun the dictionary into a pandas dataframe using \"pd.DataFrame()\"\n",
    "## we then export the dataframe into a csv file using \".to_csv\"\n",
    "pd.DataFrame({\"user_id\": dataset_test[\"user_id\"], \"CHURN\": pred}).to_csv(\"my_submission.csv\", index = False)"
   ]
  },
  {
   "cell_type": "code",
   "execution_count": 35,
   "metadata": {},
   "outputs": [],
   "source": [
    "from sklearn.ensemble import RandomForestClassifier"
   ]
  },
  {
   "cell_type": "code",
   "execution_count": 36,
   "metadata": {},
   "outputs": [
    {
     "data": {
      "text/plain": [
       "Pipeline(memory=None,\n",
       "         steps=[('scaler',\n",
       "                 StandardScaler(copy=True, with_mean=True, with_std=True)),\n",
       "                ('model',\n",
       "                 LogisticRegression(C=1.0, class_weight=None, dual=False,\n",
       "                                    fit_intercept=True, intercept_scaling=1,\n",
       "                                    l1_ratio=None, max_iter=100,\n",
       "                                    multi_class='auto', n_jobs=None,\n",
       "                                    penalty='l2', random_state=None,\n",
       "                                    solver='lbfgs', tol=0.0001, verbose=0,\n",
       "                                    warm_start=False))],\n",
       "         verbose=False)"
      ]
     },
     "execution_count": 36,
     "metadata": {},
     "output_type": "execute_result"
    }
   ],
   "source": [
    "pipe.fit(X_train, y_train)"
   ]
  },
  {
   "cell_type": "code",
   "execution_count": 37,
   "metadata": {},
   "outputs": [],
   "source": [
    "prediction = pipe.predict(X_val)"
   ]
  },
  {
   "cell_type": "code",
   "execution_count": 38,
   "metadata": {},
   "outputs": [
    {
     "name": "stdout",
     "output_type": "stream",
     "text": [
      "Accuracy on validation set:  0.8620875\n"
     ]
    }
   ],
   "source": [
    "from sklearn.metrics import log_loss, accuracy_score\n",
    "\n",
    "score = accuracy_score(y_val, prediction)\n",
    "print(\"Accuracy on validation set: \",score)"
   ]
  },
  {
   "cell_type": "code",
   "execution_count": 39,
   "metadata": {},
   "outputs": [],
   "source": [
    "# we fit on the entire data this time\n",
    "# Show the Confusion Matrix\n",
    "pipe.fit(X, y)\n",
    "## we are now making prediction based on the \"test dataset\" stores with variable name \"X_test\" (if lost check the celss above)\n",
    "## we are using \"predict_proba()\" can we are required to predict the likelihood(probabilitiy) of a user churning\n",
    "## \"[:,1]\", this helps to select only the probabilites of churning (i.e 1), if we use \"[:, 0]\" it selects the probalities of not-churning (i.e 0)\n",
    "pred = pipe.predict_proba(X_test)[:,1]\n",
    "## so create a dictionary with the \"user_id\" from the \"test_dataset\" and the new predictions \"pred\"\n",
    "## we trun the dictionary into a pandas dataframe using \"pd.DataFrame()\"\n",
    "## we then export the dataframe into a csv file using \".to_csv\"\n",
    "pd.DataFrame({\"user_id\": dataset_test[\"user_id\"], \"CHURN\": pred}).to_csv(\"my_submission.csv\", index = False)"
   ]
  },
  {
   "cell_type": "code",
   "execution_count": 40,
   "metadata": {},
   "outputs": [],
   "source": [
    "from sklearn.neighbors import KNeighborsClassifier"
   ]
  },
  {
   "cell_type": "code",
   "execution_count": 41,
   "metadata": {},
   "outputs": [
    {
     "data": {
      "text/plain": [
       "Pipeline(memory=None,\n",
       "         steps=[('scaler',\n",
       "                 StandardScaler(copy=True, with_mean=True, with_std=True)),\n",
       "                ('model',\n",
       "                 LogisticRegression(C=1.0, class_weight=None, dual=False,\n",
       "                                    fit_intercept=True, intercept_scaling=1,\n",
       "                                    l1_ratio=None, max_iter=100,\n",
       "                                    multi_class='auto', n_jobs=None,\n",
       "                                    penalty='l2', random_state=None,\n",
       "                                    solver='lbfgs', tol=0.0001, verbose=0,\n",
       "                                    warm_start=False))],\n",
       "         verbose=False)"
      ]
     },
     "execution_count": 41,
     "metadata": {},
     "output_type": "execute_result"
    }
   ],
   "source": [
    "pipe.fit(X_train, y_train) "
   ]
  },
  {
   "cell_type": "code",
   "execution_count": 42,
   "metadata": {},
   "outputs": [],
   "source": [
    "prediction = pipe.predict(X_val)"
   ]
  },
  {
   "cell_type": "code",
   "execution_count": 43,
   "metadata": {},
   "outputs": [
    {
     "name": "stdout",
     "output_type": "stream",
     "text": [
      "Accuracy on validation set:  0.8620875\n"
     ]
    }
   ],
   "source": [
    "from sklearn.metrics import log_loss, accuracy_score\n",
    "\n",
    "score = accuracy_score(y_val, prediction)\n",
    "print(\"Accuracy on validation set: \",score)"
   ]
  },
  {
   "cell_type": "code",
   "execution_count": 44,
   "metadata": {},
   "outputs": [],
   "source": [
    "# we fit on the entire data this time\n",
    "# Show the Confusion Matrix\n",
    "pipe.fit(X, y)\n",
    "## we are now making prediction based on the \"test dataset\" stores with variable name \"X_test\" (if lost check the celss above)\n",
    "## we are using \"predict_proba()\" can we are required to predict the likelihood(probabilitiy) of a user churning\n",
    "## \"[:,1]\", this helps to select only the probabilites of churning (i.e 1), if we use \"[:, 0]\" it selects the probalities of not-churning (i.e 0)\n",
    "pred = pipe.predict_proba(X_test)[:,1]\n",
    "## so create a dictionary with the \"user_id\" from the \"test_dataset\" and the new predictions \"pred\"\n",
    "## we trun the dictionary into a pandas dataframe using \"pd.DataFrame()\"\n",
    "## we then export the dataframe into a csv file using \".to_csv\"\n",
    "pd.DataFrame({\"user_id\": dataset_test[\"user_id\"], \"CHURN\": pred}).to_csv(\"my_submission.csv\", index = False)"
   ]
  },
  {
   "cell_type": "code",
   "execution_count": null,
   "metadata": {},
   "outputs": [],
   "source": []
  }
 ],
 "metadata": {
  "kernelspec": {
   "display_name": "Python 3",
   "language": "python",
   "name": "python3"
  },
  "language_info": {
   "codemirror_mode": {
    "name": "ipython",
    "version": 3
   },
   "file_extension": ".py",
   "mimetype": "text/x-python",
   "name": "python",
   "nbconvert_exporter": "python",
   "pygments_lexer": "ipython3",
   "version": "3.7.6"
  }
 },
 "nbformat": 4,
 "nbformat_minor": 4
}
