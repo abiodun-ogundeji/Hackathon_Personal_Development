{
 "cells": [
  {
   "cell_type": "code",
   "execution_count": 1,
   "metadata": {},
   "outputs": [],
   "source": [
    "#Import the library\n",
    "import pandas as pd\n",
    "import numpy as np\n",
    "import sklearn\n",
    "import matplotlib.pyplot as plt\n",
    "import seaborn as sns\n",
    "from sklearn.preprocessing import LabelEncoder\n",
    "from sklearn.preprocessing import StandardScaler\n",
    "from sklearn.metrics import classification_report\n",
    "from sklearn.linear_model import LogisticRegression\n",
    "from sklearn.model_selection import train_test_split\n",
    "%matplotlib inline\n",
    "\n",
    "#Load the data into the data frame\n",
    "dataset = pd.read_csv('file:///Users/mac/Documents/Zindi/Train.csv')"
   ]
  },
  {
   "cell_type": "code",
   "execution_count": 2,
   "metadata": {
    "scrolled": true
   },
   "outputs": [
    {
     "data": {
      "text/html": [
       "<div>\n",
       "<style scoped>\n",
       "    .dataframe tbody tr th:only-of-type {\n",
       "        vertical-align: middle;\n",
       "    }\n",
       "\n",
       "    .dataframe tbody tr th {\n",
       "        vertical-align: top;\n",
       "    }\n",
       "\n",
       "    .dataframe thead th {\n",
       "        text-align: right;\n",
       "    }\n",
       "</style>\n",
       "<table border=\"1\" class=\"dataframe\">\n",
       "  <thead>\n",
       "    <tr style=\"text-align: right;\">\n",
       "      <th></th>\n",
       "      <th>user_id</th>\n",
       "      <th>REGION</th>\n",
       "      <th>TENURE</th>\n",
       "      <th>MONTANT</th>\n",
       "      <th>FREQUENCE_RECH</th>\n",
       "      <th>REVENUE</th>\n",
       "      <th>ARPU_SEGMENT</th>\n",
       "      <th>FREQUENCE</th>\n",
       "      <th>DATA_VOLUME</th>\n",
       "      <th>ON_NET</th>\n",
       "      <th>ORANGE</th>\n",
       "      <th>TIGO</th>\n",
       "      <th>ZONE1</th>\n",
       "      <th>ZONE2</th>\n",
       "      <th>MRG</th>\n",
       "      <th>REGULARITY</th>\n",
       "      <th>TOP_PACK</th>\n",
       "      <th>FREQ_TOP_PACK</th>\n",
       "      <th>CHURN</th>\n",
       "    </tr>\n",
       "  </thead>\n",
       "  <tbody>\n",
       "    <tr>\n",
       "      <th>0</th>\n",
       "      <td>dcf68cc2fb515ccad7d8b9b3bd80ee2a4b270063</td>\n",
       "      <td>SAINT-LOUIS</td>\n",
       "      <td>K &gt; 24 month</td>\n",
       "      <td>17000.0</td>\n",
       "      <td>32.0</td>\n",
       "      <td>18000.0</td>\n",
       "      <td>6000.0</td>\n",
       "      <td>34.0</td>\n",
       "      <td>NaN</td>\n",
       "      <td>97.0</td>\n",
       "      <td>355.0</td>\n",
       "      <td>6.0</td>\n",
       "      <td>NaN</td>\n",
       "      <td>NaN</td>\n",
       "      <td>NO</td>\n",
       "      <td>62</td>\n",
       "      <td>All-net 500F=2000F;5d</td>\n",
       "      <td>35.0</td>\n",
       "      <td>0</td>\n",
       "    </tr>\n",
       "    <tr>\n",
       "      <th>1</th>\n",
       "      <td>71c44b5ba328db5c4192a80f7cf8f244d9350ed0</td>\n",
       "      <td>NaN</td>\n",
       "      <td>K &gt; 24 month</td>\n",
       "      <td>4300.0</td>\n",
       "      <td>29.0</td>\n",
       "      <td>4427.0</td>\n",
       "      <td>1476.0</td>\n",
       "      <td>37.0</td>\n",
       "      <td>1764.0</td>\n",
       "      <td>8.0</td>\n",
       "      <td>3.0</td>\n",
       "      <td>0.0</td>\n",
       "      <td>NaN</td>\n",
       "      <td>2.0</td>\n",
       "      <td>NO</td>\n",
       "      <td>40</td>\n",
       "      <td>Data: 100 F=40MB,24H</td>\n",
       "      <td>22.0</td>\n",
       "      <td>0</td>\n",
       "    </tr>\n",
       "    <tr>\n",
       "      <th>2</th>\n",
       "      <td>ce46411b1526c94f20a383b8cb188f8d27f82a0a</td>\n",
       "      <td>TAMBACOUNDA</td>\n",
       "      <td>K &gt; 24 month</td>\n",
       "      <td>1500.0</td>\n",
       "      <td>3.0</td>\n",
       "      <td>1500.0</td>\n",
       "      <td>500.0</td>\n",
       "      <td>3.0</td>\n",
       "      <td>NaN</td>\n",
       "      <td>30.0</td>\n",
       "      <td>30.0</td>\n",
       "      <td>NaN</td>\n",
       "      <td>NaN</td>\n",
       "      <td>NaN</td>\n",
       "      <td>NO</td>\n",
       "      <td>32</td>\n",
       "      <td>All-net 500F=2000F;5d</td>\n",
       "      <td>3.0</td>\n",
       "      <td>0</td>\n",
       "    </tr>\n",
       "    <tr>\n",
       "      <th>3</th>\n",
       "      <td>f467cdb6669818373c26c2bad44e01ba66f97d21</td>\n",
       "      <td>FATICK</td>\n",
       "      <td>K &gt; 24 month</td>\n",
       "      <td>1500.0</td>\n",
       "      <td>3.0</td>\n",
       "      <td>2497.0</td>\n",
       "      <td>832.0</td>\n",
       "      <td>4.0</td>\n",
       "      <td>0.0</td>\n",
       "      <td>159.0</td>\n",
       "      <td>45.0</td>\n",
       "      <td>19.0</td>\n",
       "      <td>NaN</td>\n",
       "      <td>NaN</td>\n",
       "      <td>NO</td>\n",
       "      <td>18</td>\n",
       "      <td>On net 200F=Unlimited _call24H</td>\n",
       "      <td>3.0</td>\n",
       "      <td>0</td>\n",
       "    </tr>\n",
       "    <tr>\n",
       "      <th>4</th>\n",
       "      <td>ec45e1a1888a32b5dcce0954cfec20c6e037db31</td>\n",
       "      <td>FATICK</td>\n",
       "      <td>K &gt; 24 month</td>\n",
       "      <td>NaN</td>\n",
       "      <td>NaN</td>\n",
       "      <td>498.0</td>\n",
       "      <td>166.0</td>\n",
       "      <td>3.0</td>\n",
       "      <td>1.0</td>\n",
       "      <td>1.0</td>\n",
       "      <td>3.0</td>\n",
       "      <td>NaN</td>\n",
       "      <td>NaN</td>\n",
       "      <td>NaN</td>\n",
       "      <td>NO</td>\n",
       "      <td>50</td>\n",
       "      <td>NaN</td>\n",
       "      <td>NaN</td>\n",
       "      <td>0</td>\n",
       "    </tr>\n",
       "    <tr>\n",
       "      <th>5</th>\n",
       "      <td>2bd9ab2983615149380a63f44a66780f4fa19a4a</td>\n",
       "      <td>THIES</td>\n",
       "      <td>K &gt; 24 month</td>\n",
       "      <td>5500.0</td>\n",
       "      <td>9.0</td>\n",
       "      <td>5359.0</td>\n",
       "      <td>1786.0</td>\n",
       "      <td>19.0</td>\n",
       "      <td>6084.0</td>\n",
       "      <td>7.0</td>\n",
       "      <td>12.0</td>\n",
       "      <td>5.0</td>\n",
       "      <td>NaN</td>\n",
       "      <td>NaN</td>\n",
       "      <td>NO</td>\n",
       "      <td>30</td>\n",
       "      <td>Data:490F=1GB,7d</td>\n",
       "      <td>7.0</td>\n",
       "      <td>0</td>\n",
       "    </tr>\n",
       "    <tr>\n",
       "      <th>6</th>\n",
       "      <td>b2d9c4bdceaafe305e8424c97f64e4ba880d0a97</td>\n",
       "      <td>NaN</td>\n",
       "      <td>K &gt; 24 month</td>\n",
       "      <td>NaN</td>\n",
       "      <td>NaN</td>\n",
       "      <td>NaN</td>\n",
       "      <td>NaN</td>\n",
       "      <td>NaN</td>\n",
       "      <td>NaN</td>\n",
       "      <td>NaN</td>\n",
       "      <td>NaN</td>\n",
       "      <td>NaN</td>\n",
       "      <td>NaN</td>\n",
       "      <td>NaN</td>\n",
       "      <td>NO</td>\n",
       "      <td>7</td>\n",
       "      <td>NaN</td>\n",
       "      <td>NaN</td>\n",
       "      <td>0</td>\n",
       "    </tr>\n",
       "    <tr>\n",
       "      <th>7</th>\n",
       "      <td>8ebce4e82fa049f96ff1aa460217171af4e4ede1</td>\n",
       "      <td>SAINT-LOUIS</td>\n",
       "      <td>H 15-18 month</td>\n",
       "      <td>NaN</td>\n",
       "      <td>NaN</td>\n",
       "      <td>NaN</td>\n",
       "      <td>NaN</td>\n",
       "      <td>NaN</td>\n",
       "      <td>0.0</td>\n",
       "      <td>NaN</td>\n",
       "      <td>NaN</td>\n",
       "      <td>NaN</td>\n",
       "      <td>NaN</td>\n",
       "      <td>NaN</td>\n",
       "      <td>NO</td>\n",
       "      <td>5</td>\n",
       "      <td>NaN</td>\n",
       "      <td>NaN</td>\n",
       "      <td>1</td>\n",
       "    </tr>\n",
       "    <tr>\n",
       "      <th>8</th>\n",
       "      <td>ebfbd28870a7663d49ec79799f9fd59e8c5655ed</td>\n",
       "      <td>TAMBACOUNDA</td>\n",
       "      <td>K &gt; 24 month</td>\n",
       "      <td>22500.0</td>\n",
       "      <td>8.0</td>\n",
       "      <td>22230.0</td>\n",
       "      <td>7410.0</td>\n",
       "      <td>16.0</td>\n",
       "      <td>14956.0</td>\n",
       "      <td>6336.0</td>\n",
       "      <td>1017.0</td>\n",
       "      <td>185.0</td>\n",
       "      <td>NaN</td>\n",
       "      <td>NaN</td>\n",
       "      <td>NO</td>\n",
       "      <td>62</td>\n",
       "      <td>Data:1000F=5GB,7d</td>\n",
       "      <td>3.0</td>\n",
       "      <td>0</td>\n",
       "    </tr>\n",
       "    <tr>\n",
       "      <th>9</th>\n",
       "      <td>cf5d5edda4805f7f526884cee8bde797213eeefa</td>\n",
       "      <td>NaN</td>\n",
       "      <td>G 12-15 month</td>\n",
       "      <td>NaN</td>\n",
       "      <td>NaN</td>\n",
       "      <td>NaN</td>\n",
       "      <td>NaN</td>\n",
       "      <td>NaN</td>\n",
       "      <td>NaN</td>\n",
       "      <td>NaN</td>\n",
       "      <td>NaN</td>\n",
       "      <td>NaN</td>\n",
       "      <td>NaN</td>\n",
       "      <td>NaN</td>\n",
       "      <td>NO</td>\n",
       "      <td>1</td>\n",
       "      <td>NaN</td>\n",
       "      <td>NaN</td>\n",
       "      <td>0</td>\n",
       "    </tr>\n",
       "  </tbody>\n",
       "</table>\n",
       "</div>"
      ],
      "text/plain": [
       "                                    user_id       REGION         TENURE  \\\n",
       "0  dcf68cc2fb515ccad7d8b9b3bd80ee2a4b270063  SAINT-LOUIS   K > 24 month   \n",
       "1  71c44b5ba328db5c4192a80f7cf8f244d9350ed0          NaN   K > 24 month   \n",
       "2  ce46411b1526c94f20a383b8cb188f8d27f82a0a  TAMBACOUNDA   K > 24 month   \n",
       "3  f467cdb6669818373c26c2bad44e01ba66f97d21       FATICK   K > 24 month   \n",
       "4  ec45e1a1888a32b5dcce0954cfec20c6e037db31       FATICK   K > 24 month   \n",
       "5  2bd9ab2983615149380a63f44a66780f4fa19a4a        THIES   K > 24 month   \n",
       "6  b2d9c4bdceaafe305e8424c97f64e4ba880d0a97          NaN   K > 24 month   \n",
       "7  8ebce4e82fa049f96ff1aa460217171af4e4ede1  SAINT-LOUIS  H 15-18 month   \n",
       "8  ebfbd28870a7663d49ec79799f9fd59e8c5655ed  TAMBACOUNDA   K > 24 month   \n",
       "9  cf5d5edda4805f7f526884cee8bde797213eeefa          NaN  G 12-15 month   \n",
       "\n",
       "   MONTANT  FREQUENCE_RECH  REVENUE  ARPU_SEGMENT  FREQUENCE  DATA_VOLUME  \\\n",
       "0  17000.0            32.0  18000.0        6000.0       34.0          NaN   \n",
       "1   4300.0            29.0   4427.0        1476.0       37.0       1764.0   \n",
       "2   1500.0             3.0   1500.0         500.0        3.0          NaN   \n",
       "3   1500.0             3.0   2497.0         832.0        4.0          0.0   \n",
       "4      NaN             NaN    498.0         166.0        3.0          1.0   \n",
       "5   5500.0             9.0   5359.0        1786.0       19.0       6084.0   \n",
       "6      NaN             NaN      NaN           NaN        NaN          NaN   \n",
       "7      NaN             NaN      NaN           NaN        NaN          0.0   \n",
       "8  22500.0             8.0  22230.0        7410.0       16.0      14956.0   \n",
       "9      NaN             NaN      NaN           NaN        NaN          NaN   \n",
       "\n",
       "   ON_NET  ORANGE   TIGO  ZONE1  ZONE2 MRG  REGULARITY  \\\n",
       "0    97.0   355.0    6.0    NaN    NaN  NO          62   \n",
       "1     8.0     3.0    0.0    NaN    2.0  NO          40   \n",
       "2    30.0    30.0    NaN    NaN    NaN  NO          32   \n",
       "3   159.0    45.0   19.0    NaN    NaN  NO          18   \n",
       "4     1.0     3.0    NaN    NaN    NaN  NO          50   \n",
       "5     7.0    12.0    5.0    NaN    NaN  NO          30   \n",
       "6     NaN     NaN    NaN    NaN    NaN  NO           7   \n",
       "7     NaN     NaN    NaN    NaN    NaN  NO           5   \n",
       "8  6336.0  1017.0  185.0    NaN    NaN  NO          62   \n",
       "9     NaN     NaN    NaN    NaN    NaN  NO           1   \n",
       "\n",
       "                         TOP_PACK  FREQ_TOP_PACK  CHURN  \n",
       "0           All-net 500F=2000F;5d           35.0      0  \n",
       "1            Data: 100 F=40MB,24H           22.0      0  \n",
       "2           All-net 500F=2000F;5d            3.0      0  \n",
       "3  On net 200F=Unlimited _call24H            3.0      0  \n",
       "4                             NaN            NaN      0  \n",
       "5                Data:490F=1GB,7d            7.0      0  \n",
       "6                             NaN            NaN      0  \n",
       "7                             NaN            NaN      1  \n",
       "8               Data:1000F=5GB,7d            3.0      0  \n",
       "9                             NaN            NaN      0  "
      ]
     },
     "execution_count": 2,
     "metadata": {},
     "output_type": "execute_result"
    }
   ],
   "source": [
    "dataset.head(10)"
   ]
  },
  {
   "cell_type": "code",
   "execution_count": 3,
   "metadata": {},
   "outputs": [
    {
     "name": "stdout",
     "output_type": "stream",
     "text": [
      "<class 'pandas.core.frame.DataFrame'>\n",
      "RangeIndex: 400000 entries, 0 to 399999\n",
      "Data columns (total 19 columns):\n",
      " #   Column          Non-Null Count   Dtype  \n",
      "---  ------          --------------   -----  \n",
      " 0   user_id         400000 non-null  object \n",
      " 1   REGION          242480 non-null  object \n",
      " 2   TENURE          400000 non-null  object \n",
      " 3   MONTANT         259723 non-null  float64\n",
      " 4   FREQUENCE_RECH  259723 non-null  float64\n",
      " 5   REVENUE         265337 non-null  float64\n",
      " 6   ARPU_SEGMENT    265337 non-null  float64\n",
      " 7   FREQUENCE       265337 non-null  float64\n",
      " 8   DATA_VOLUME     203146 non-null  float64\n",
      " 9   ON_NET          254181 non-null  float64\n",
      " 10  ORANGE          233683 non-null  float64\n",
      " 11  TIGO            160614 non-null  float64\n",
      " 12  ZONE1           31690 non-null   float64\n",
      " 13  ZONE2           25513 non-null   float64\n",
      " 14  MRG             400000 non-null  object \n",
      " 15  REGULARITY      400000 non-null  int64  \n",
      " 16  TOP_PACK        232671 non-null  object \n",
      " 17  FREQ_TOP_PACK   232671 non-null  float64\n",
      " 18  CHURN           400000 non-null  int64  \n",
      "dtypes: float64(12), int64(2), object(5)\n",
      "memory usage: 58.0+ MB\n"
     ]
    }
   ],
   "source": [
    "dataset.info()"
   ]
  },
  {
   "cell_type": "code",
   "execution_count": 4,
   "metadata": {},
   "outputs": [
    {
     "data": {
      "text/plain": [
       "array(['user_id', 'REGION', 'TENURE', 'MONTANT', 'FREQUENCE_RECH',\n",
       "       'REVENUE', 'ARPU_SEGMENT', 'FREQUENCE', 'DATA_VOLUME', 'ON_NET',\n",
       "       'ORANGE', 'TIGO', 'ZONE1', 'ZONE2', 'MRG', 'REGULARITY',\n",
       "       'TOP_PACK', 'FREQ_TOP_PACK', 'CHURN'], dtype=object)"
      ]
     },
     "execution_count": 4,
     "metadata": {},
     "output_type": "execute_result"
    }
   ],
   "source": [
    "#Show all of the column names\n",
    "dataset.columns.values"
   ]
  },
  {
   "cell_type": "code",
   "execution_count": 5,
   "metadata": {},
   "outputs": [
    {
     "data": {
      "text/html": [
       "<div>\n",
       "<style scoped>\n",
       "    .dataframe tbody tr th:only-of-type {\n",
       "        vertical-align: middle;\n",
       "    }\n",
       "\n",
       "    .dataframe tbody tr th {\n",
       "        vertical-align: top;\n",
       "    }\n",
       "\n",
       "    .dataframe thead th {\n",
       "        text-align: right;\n",
       "    }\n",
       "</style>\n",
       "<table border=\"1\" class=\"dataframe\">\n",
       "  <thead>\n",
       "    <tr style=\"text-align: right;\">\n",
       "      <th></th>\n",
       "      <th>MONTANT</th>\n",
       "      <th>FREQUENCE_RECH</th>\n",
       "      <th>REVENUE</th>\n",
       "      <th>ARPU_SEGMENT</th>\n",
       "      <th>FREQUENCE</th>\n",
       "      <th>DATA_VOLUME</th>\n",
       "      <th>ON_NET</th>\n",
       "      <th>ORANGE</th>\n",
       "      <th>TIGO</th>\n",
       "      <th>ZONE1</th>\n",
       "      <th>ZONE2</th>\n",
       "      <th>REGULARITY</th>\n",
       "      <th>FREQ_TOP_PACK</th>\n",
       "      <th>CHURN</th>\n",
       "    </tr>\n",
       "  </thead>\n",
       "  <tbody>\n",
       "    <tr>\n",
       "      <th>count</th>\n",
       "      <td>259723.000000</td>\n",
       "      <td>259723.000000</td>\n",
       "      <td>265337.000000</td>\n",
       "      <td>265337.000000</td>\n",
       "      <td>265337.000000</td>\n",
       "      <td>203146.000000</td>\n",
       "      <td>254181.000000</td>\n",
       "      <td>233683.000000</td>\n",
       "      <td>160614.000000</td>\n",
       "      <td>31690.000000</td>\n",
       "      <td>25513.000000</td>\n",
       "      <td>400000.000000</td>\n",
       "      <td>232671.000000</td>\n",
       "      <td>400000.00000</td>\n",
       "    </tr>\n",
       "    <tr>\n",
       "      <th>mean</th>\n",
       "      <td>5522.971346</td>\n",
       "      <td>11.503733</td>\n",
       "      <td>5505.487757</td>\n",
       "      <td>1835.167658</td>\n",
       "      <td>13.951835</td>\n",
       "      <td>3369.763441</td>\n",
       "      <td>275.917586</td>\n",
       "      <td>95.532927</td>\n",
       "      <td>23.134608</td>\n",
       "      <td>7.874282</td>\n",
       "      <td>7.187003</td>\n",
       "      <td>28.046502</td>\n",
       "      <td>9.254209</td>\n",
       "      <td>0.18711</td>\n",
       "    </tr>\n",
       "    <tr>\n",
       "      <th>std</th>\n",
       "      <td>7099.640630</td>\n",
       "      <td>13.275514</td>\n",
       "      <td>7175.802367</td>\n",
       "      <td>2391.929290</td>\n",
       "      <td>14.679943</td>\n",
       "      <td>12281.867504</td>\n",
       "      <td>873.593034</td>\n",
       "      <td>204.733272</td>\n",
       "      <td>63.061871</td>\n",
       "      <td>35.642843</td>\n",
       "      <td>26.964028</td>\n",
       "      <td>22.282773</td>\n",
       "      <td>12.305563</td>\n",
       "      <td>0.39000</td>\n",
       "    </tr>\n",
       "    <tr>\n",
       "      <th>min</th>\n",
       "      <td>20.000000</td>\n",
       "      <td>1.000000</td>\n",
       "      <td>1.000000</td>\n",
       "      <td>0.000000</td>\n",
       "      <td>1.000000</td>\n",
       "      <td>0.000000</td>\n",
       "      <td>0.000000</td>\n",
       "      <td>0.000000</td>\n",
       "      <td>0.000000</td>\n",
       "      <td>0.000000</td>\n",
       "      <td>0.000000</td>\n",
       "      <td>1.000000</td>\n",
       "      <td>1.000000</td>\n",
       "      <td>0.00000</td>\n",
       "    </tr>\n",
       "    <tr>\n",
       "      <th>25%</th>\n",
       "      <td>1000.000000</td>\n",
       "      <td>2.000000</td>\n",
       "      <td>1000.000000</td>\n",
       "      <td>333.000000</td>\n",
       "      <td>3.000000</td>\n",
       "      <td>0.000000</td>\n",
       "      <td>5.000000</td>\n",
       "      <td>7.000000</td>\n",
       "      <td>2.000000</td>\n",
       "      <td>0.000000</td>\n",
       "      <td>0.000000</td>\n",
       "      <td>6.000000</td>\n",
       "      <td>2.000000</td>\n",
       "      <td>0.00000</td>\n",
       "    </tr>\n",
       "    <tr>\n",
       "      <th>50%</th>\n",
       "      <td>3000.000000</td>\n",
       "      <td>6.000000</td>\n",
       "      <td>3000.000000</td>\n",
       "      <td>1000.000000</td>\n",
       "      <td>9.000000</td>\n",
       "      <td>267.000000</td>\n",
       "      <td>27.000000</td>\n",
       "      <td>29.000000</td>\n",
       "      <td>6.000000</td>\n",
       "      <td>1.000000</td>\n",
       "      <td>2.000000</td>\n",
       "      <td>24.000000</td>\n",
       "      <td>5.000000</td>\n",
       "      <td>0.00000</td>\n",
       "    </tr>\n",
       "    <tr>\n",
       "      <th>75%</th>\n",
       "      <td>7300.000000</td>\n",
       "      <td>15.000000</td>\n",
       "      <td>7340.000000</td>\n",
       "      <td>2447.000000</td>\n",
       "      <td>19.000000</td>\n",
       "      <td>2925.000000</td>\n",
       "      <td>155.000000</td>\n",
       "      <td>99.000000</td>\n",
       "      <td>20.000000</td>\n",
       "      <td>3.000000</td>\n",
       "      <td>5.000000</td>\n",
       "      <td>51.000000</td>\n",
       "      <td>12.000000</td>\n",
       "      <td>0.00000</td>\n",
       "    </tr>\n",
       "    <tr>\n",
       "      <th>max</th>\n",
       "      <td>226550.000000</td>\n",
       "      <td>133.000000</td>\n",
       "      <td>233413.000000</td>\n",
       "      <td>77804.000000</td>\n",
       "      <td>91.000000</td>\n",
       "      <td>934576.000000</td>\n",
       "      <td>45011.000000</td>\n",
       "      <td>6788.000000</td>\n",
       "      <td>2758.000000</td>\n",
       "      <td>1657.000000</td>\n",
       "      <td>1011.000000</td>\n",
       "      <td>62.000000</td>\n",
       "      <td>629.000000</td>\n",
       "      <td>1.00000</td>\n",
       "    </tr>\n",
       "  </tbody>\n",
       "</table>\n",
       "</div>"
      ],
      "text/plain": [
       "             MONTANT  FREQUENCE_RECH        REVENUE   ARPU_SEGMENT  \\\n",
       "count  259723.000000   259723.000000  265337.000000  265337.000000   \n",
       "mean     5522.971346       11.503733    5505.487757    1835.167658   \n",
       "std      7099.640630       13.275514    7175.802367    2391.929290   \n",
       "min        20.000000        1.000000       1.000000       0.000000   \n",
       "25%      1000.000000        2.000000    1000.000000     333.000000   \n",
       "50%      3000.000000        6.000000    3000.000000    1000.000000   \n",
       "75%      7300.000000       15.000000    7340.000000    2447.000000   \n",
       "max    226550.000000      133.000000  233413.000000   77804.000000   \n",
       "\n",
       "           FREQUENCE    DATA_VOLUME         ON_NET         ORANGE  \\\n",
       "count  265337.000000  203146.000000  254181.000000  233683.000000   \n",
       "mean       13.951835    3369.763441     275.917586      95.532927   \n",
       "std        14.679943   12281.867504     873.593034     204.733272   \n",
       "min         1.000000       0.000000       0.000000       0.000000   \n",
       "25%         3.000000       0.000000       5.000000       7.000000   \n",
       "50%         9.000000     267.000000      27.000000      29.000000   \n",
       "75%        19.000000    2925.000000     155.000000      99.000000   \n",
       "max        91.000000  934576.000000   45011.000000    6788.000000   \n",
       "\n",
       "                TIGO         ZONE1         ZONE2     REGULARITY  \\\n",
       "count  160614.000000  31690.000000  25513.000000  400000.000000   \n",
       "mean       23.134608      7.874282      7.187003      28.046502   \n",
       "std        63.061871     35.642843     26.964028      22.282773   \n",
       "min         0.000000      0.000000      0.000000       1.000000   \n",
       "25%         2.000000      0.000000      0.000000       6.000000   \n",
       "50%         6.000000      1.000000      2.000000      24.000000   \n",
       "75%        20.000000      3.000000      5.000000      51.000000   \n",
       "max      2758.000000   1657.000000   1011.000000      62.000000   \n",
       "\n",
       "       FREQ_TOP_PACK         CHURN  \n",
       "count  232671.000000  400000.00000  \n",
       "mean        9.254209       0.18711  \n",
       "std        12.305563       0.39000  \n",
       "min         1.000000       0.00000  \n",
       "25%         2.000000       0.00000  \n",
       "50%         5.000000       0.00000  \n",
       "75%        12.000000       0.00000  \n",
       "max       629.000000       1.00000  "
      ]
     },
     "execution_count": 5,
     "metadata": {},
     "output_type": "execute_result"
    }
   ],
   "source": [
    "#Show statistics on the current data \n",
    "dataset.describe()"
   ]
  },
  {
   "cell_type": "code",
   "execution_count": 6,
   "metadata": {},
   "outputs": [
    {
     "data": {
      "text/plain": [
       "user_id                0\n",
       "REGION            157520\n",
       "TENURE                 0\n",
       "MONTANT           140277\n",
       "FREQUENCE_RECH    140277\n",
       "REVENUE           134663\n",
       "ARPU_SEGMENT      134663\n",
       "FREQUENCE         134663\n",
       "DATA_VOLUME       196854\n",
       "ON_NET            145819\n",
       "ORANGE            166317\n",
       "TIGO              239386\n",
       "ZONE1             368310\n",
       "ZONE2             374487\n",
       "MRG                    0\n",
       "REGULARITY             0\n",
       "TOP_PACK          167329\n",
       "FREQ_TOP_PACK     167329\n",
       "CHURN                  0\n",
       "dtype: int64"
      ]
     },
     "execution_count": 6,
     "metadata": {},
     "output_type": "execute_result"
    }
   ],
   "source": [
    "#Check for na or missing data\n",
    "dataset.isna().sum()"
   ]
  },
  {
   "cell_type": "code",
   "execution_count": 7,
   "metadata": {},
   "outputs": [
    {
     "data": {
      "text/plain": [
       "0    325156\n",
       "1     74844\n",
       "Name: CHURN, dtype: int64"
      ]
     },
     "execution_count": 7,
     "metadata": {},
     "output_type": "execute_result"
    }
   ],
   "source": [
    "#Get the number of customers that churned\n",
    "dataset['CHURN'].value_counts()"
   ]
  },
  {
   "cell_type": "code",
   "execution_count": 8,
   "metadata": {
    "scrolled": true
   },
   "outputs": [
    {
     "data": {
      "text/plain": [
       "<AxesSubplot:xlabel='CHURN', ylabel='count'>"
      ]
     },
     "execution_count": 8,
     "metadata": {},
     "output_type": "execute_result"
    },
    {
     "data": {
      "image/png": "[encoded data removed]",
      "text/plain": [
       "<Figure size 432x288 with 1 Axes>"
      ]
     },
     "metadata": {
      "needs_background": "light"
     },
     "output_type": "display_data"
    }
   ],
   "source": [
    "#Visualize the count of customer churn\n",
    "sns.countplot(dataset['CHURN'])"
   ]
  },
  {
   "cell_type": "code",
   "execution_count": 9,
   "metadata": {},
   "outputs": [
    {
     "data": {
      "text/plain": [
       "<AxesSubplot:xlabel='TENURE', ylabel='count'>"
      ]
     },
     "execution_count": 9,
     "metadata": {},
     "output_type": "execute_result"
    },
    {
     "data": {
      "image/png": "[encoded data removed]",
      "text/plain": [
       "<Figure size 432x288 with 1 Axes>"
      ]
     },
     "metadata": {
      "needs_background": "light"
     },
     "output_type": "display_data"
    }
   ],
   "source": [
    "#Visualize the churn count for the Tenure\n",
    "sns.countplot(x='TENURE', hue='CHURN', data = dataset)"
   ]
  },
  {
   "cell_type": "code",
   "execution_count": 10,
   "metadata": {},
   "outputs": [
    {
     "data": {
      "text/plain": [
       "<AxesSubplot:xlabel='MRG', ylabel='count'>"
      ]
     },
     "execution_count": 10,
     "metadata": {},
     "output_type": "execute_result"
    },
    {
     "data": {
      "image/png": "[encoded data removed]",
      "text/plain": [
       "<Figure size 432x288 with 1 Axes>"
      ]
     },
     "metadata": {
      "needs_background": "light"
     },
     "output_type": "display_data"
    }
   ],
   "source": [
    "#Visualize the churn count for the MRG \n",
    "sns.countplot(x='MRG', hue='CHURN', data = dataset)"
   ]
  },
  {
   "cell_type": "code",
   "execution_count": 11,
   "metadata": {
    "scrolled": true
   },
   "outputs": [
    {
     "name": "stdout",
     "output_type": "stream",
     "text": [
      "(400000, 18) (400000,)\n"
     ]
    }
   ],
   "source": [
    "X = dataset.drop(labels='CHURN',axis=1)\n",
    "Y = dataset.CHURN\n",
    "print(X.shape, Y.shape)"
   ]
  },
  {
   "cell_type": "code",
   "execution_count": 12,
   "metadata": {},
   "outputs": [
    {
     "data": {
      "text/plain": [
       "0    0.81289\n",
       "1    0.18711\n",
       "Name: CHURN, dtype: float64"
      ]
     },
     "execution_count": 12,
     "metadata": {},
     "output_type": "execute_result"
    }
   ],
   "source": [
    "dataset['CHURN'].value_counts(1)"
   ]
  },
  {
   "cell_type": "code",
   "execution_count": 13,
   "metadata": {},
   "outputs": [
    {
     "data": {
      "text/plain": [
       "325156"
      ]
     },
     "execution_count": 13,
     "metadata": {},
     "output_type": "execute_result"
    }
   ],
   "source": [
    "dataset['CHURN'].value_counts(0)[0]"
   ]
  },
  {
   "cell_type": "code",
   "execution_count": 14,
   "metadata": {},
   "outputs": [
    {
     "data": {
      "text/plain": [
       "74844"
      ]
     },
     "execution_count": 14,
     "metadata": {},
     "output_type": "execute_result"
    }
   ],
   "source": [
    "dataset['CHURN'].value_counts(0)[1]"
   ]
  },
  {
   "cell_type": "code",
   "execution_count": 15,
   "metadata": {},
   "outputs": [],
   "source": [
    "retained = dataset['CHURN'].value_counts(0)[0]\n",
    "CHURNed = dataset['CHURN'].value_counts(0)[1]"
   ]
  },
  {
   "cell_type": "code",
   "execution_count": 16,
   "metadata": {},
   "outputs": [
    {
     "name": "stdout",
     "output_type": "stream",
     "text": [
      "81.289 % of customers stayed with the company.\n",
      "18.711 % of customers left the company.\n"
     ]
    }
   ],
   "source": [
    "#Print the percentage of customers that stayed and left\n",
    "print(retained /(retained + CHURNed) * 100 , \"% of customers stayed with the company.\")\n",
    "\n",
    "\n",
    "#Print the percentage of customers that stayed and left\n",
    "print(CHURNed /(retained + CHURNed) * 100,\"% of customers left the company.\")"
   ]
  },
  {
   "cell_type": "code",
   "execution_count": 17,
   "metadata": {},
   "outputs": [],
   "source": [
    "#Remove the unnecessary column customerID\n",
    "cleaned_dataset = dataset = dataset.drop('user_id', axis=1)"
   ]
  },
  {
   "cell_type": "code",
   "execution_count": 18,
   "metadata": {},
   "outputs": [
    {
     "data": {
      "text/plain": [
       "(400000, 18)"
      ]
     },
     "execution_count": 18,
     "metadata": {},
     "output_type": "execute_result"
    }
   ],
   "source": [
    "#Look at the number of rows and cols in the new data set\n",
    "cleaned_dataset.shape"
   ]
  },
  {
   "cell_type": "code",
   "execution_count": 19,
   "metadata": {},
   "outputs": [],
   "source": [
    "#Perform One Hot Encoding using get-dummies method\n",
    "cleaned_dataset = pd.get_dummies(dataset, columns = ['MONTANT', 'FREQUENCE_RECH', 'REVENUE', 'ARPU_SEGMENT', 'FREQUENCE', 'DATA_VOLUME', 'ON_NET', 'ORANGE', 'TIGO', 'ZONE1', 'ZONE2', 'REGULARITY', 'FREQ_TOP_PACK', 'CHURN'],\n",
    "                         drop_first=True)"
   ]
  },
  {
   "cell_type": "code",
   "execution_count": null,
   "metadata": {},
   "outputs": [],
   "source": [
    "#Perform Feature Scaling and One Hot Encoding\n",
    "from sklearn.preprocessing import StandardScaler\n",
    "\n",
    "#Perform Feature Scaling on 'Region', 'Tenure', 'MRG', 'TOP_PACK' in order to bring them on same scale.\n",
    "StandardScaler = StandardScaler()\n",
    "columns_for_ft_scaling = ['MRG', 'TOP_PACK']\n",
    "\n",
    "#Apply the feature scaling operation on dataset using fit_transform() method\n",
    "cleaned_dataset[columns_for_ft_scaling] = StandardScaler.fit_transform(cleaned_dataset[columns_for_ft_scaling])"
   ]
  },
  {
   "cell_type": "code",
   "execution_count": null,
   "metadata": {},
   "outputs": [],
   "source": [
    "#Subset of values\n",
    "cleaned_dataset.head() "
   ]
  },
  {
   "cell_type": "code",
   "execution_count": null,
   "metadata": {},
   "outputs": [],
   "source": [
    "#Scale the cleaned data [Create Feature varaible X and  Target variable y]\n",
    "X = cleaned_dataset.drop('CHURN', 'user_id' axis = 1) \n",
    "y = cleaned_dataset['CHURN']"
   ]
  },
  {
   "cell_type": "code",
   "execution_count": null,
   "metadata": {},
   "outputs": [],
   "source": [
    "#Split the data into 80% training and 20% testing\n",
    "from sklearn.model_selection import train_test_split\n",
    "X_train, X_test, y_train, y_test = train_test_split(X, y, test_size=0.2, random_state=42)"
   ]
  },
  {
   "cell_type": "code",
   "execution_count": null,
   "metadata": {},
   "outputs": [],
   "source": [
    "from sklearn.linear_model import LogisticRegression\n",
    "from sklearn.neighbors import KNeighborsClassifier\n",
    "from sklearn.svm import SVC\n",
    "from sklearn.tree import DecisionTreeClassifier\n",
    "from sklearn.ensemble import RandomForestClassifier\n",
    "from sklearn import metrics"
   ]
  },
  {
   "cell_type": "code",
   "execution_count": null,
   "metadata": {},
   "outputs": [],
   "source": [
    "#Create the model\n",
    "from sklearn.linear_model import LogisticRegression\n",
    "logmodel = LogisticRegression(random_state=42)\n",
    "\n",
    "#Train the model\n",
    "logmodel.fit(X_train, y_train)\n",
    "\n",
    "#Predict the value for new, unseen data\n",
    "pred = logmodel.predict(X_test)\n",
    "\n",
    "#Find Accuracy using accuracy_score method\n",
    "logmodel_accuracy = round(metrics.accuracy_score(y_test, pred) * 100, 2)"
   ]
  },
  {
   "cell_type": "code",
   "execution_count": null,
   "metadata": {},
   "outputs": [],
   "source": [
    "#Fit The Support Vector Machine Model\n",
    "from sklearn.svm import SVC\n",
    "svcmodel = SVC(kernel='linear', random_state=42, probability=True)\n",
    "\n",
    "#Train the model\n",
    "svcmodel.fit(X_train, y_train)\n",
    "\n",
    "#Predict the value for new, unseen data\n",
    "svc_pred = svcmodel.predict(X_test)\n",
    "\n",
    "#Find Accuracy using accuracy_score method\n",
    "svc_accuracy = round(metrics.accuracy_score(y_test, svc_pred) * 100, 2)"
   ]
  },
  {
   "cell_type": "code",
   "execution_count": null,
   "metadata": {},
   "outputs": [],
   "source": [
    "#Fit The K-Nearest Neighbors Model\n",
    "from sklearn.neighbors import KNeighborsClassifier\n",
    "knnmodel = KNeighborsClassifier(n_neighbors=5, metric='minkowski', p=2) #p2 represents Euclidian distance, p1 represent\n",
    "\n",
    "#Train the model\n",
    "knnmodel.fit(X_train, y_train)\n",
    "\n",
    "#Predict the value for new, unseen data\n",
    "knn_pred = knnmodel.predict(X_test)\n",
    "\n",
    "#Find Accuracy using accuracy_score method\n",
    "knn_accuracy = round(metrics.accuracy_score(y_test, knn_pred) * 100, 2)"
   ]
  },
  {
   "cell_type": "code",
   "execution_count": null,
   "metadata": {},
   "outputs": [],
   "source": [
    "#Fit The DecisionTreeClassifier Model\n",
    "from sklearn.tree import DecisionTreeClassifier\n",
    "dtmodel = DecisionTreeClassifier(criteron = 'gini', random_state=42) \n",
    "dtmodel.fit(X_train, y_train)\n",
    "\n",
    "#Predict the value for new, unseen data\n",
    "dt_pred = dtmodel.predict(X_test)\n",
    "\n",
    "#Find Accuracy using accuracy_score method\n",
    "dt_accuracy = round(metrics.accuracy_score(y_test, dt_pred) * 100, 2)"
   ]
  },
  {
   "cell_type": "code",
   "execution_count": null,
   "metadata": {},
   "outputs": [],
   "source": [
    "#Fit The RandomForestClassifier Model\n",
    "from sklearn.ensemble import RandomForestClassifier\n",
    "rfmodel = RandomForestClassifier(n_estimators = 100, criterion = 'entropy', random_state=42) \n",
    "\n",
    "#Train the model\n",
    "rfmodel.fit(X_train, y_train)\n",
    "\n",
    "#Predict the value for new, unseen data\n",
    "rf_pred = rfmodel.predict(X_test)\n",
    "\n",
    "#Find Accuracy using accuracy_score method\n",
    "rf_accuracy = round(metrics.accuracy_score(y_test, rf_pred) * 100, 2)"
   ]
  },
  {
   "cell_type": "code",
   "execution_count": null,
   "metadata": {},
   "outputs": [],
   "source": [
    "#Compare several models according to their Accuracies\n",
    "Model_Comparison = pd.DataFrame({\n",
    "    'Model' : ['LogisticRegression', 'KNeighborsClassifier’, ’SVC’, ‘DecisionTreeClassifier’, ‘RandomForestClassifier'],\n",
    "    'Score' : [logmodel_accuracy, svc_accuracy, knn_accuracy, dt_accuracy, rf_accuracy]})\n",
    "Model_Comparison_df = Model_Comparison.sort_values(by='Score', ascending=False)\n",
    "Model_Comparison_df = Model_Comparison_df.set_index('Score')\n",
    "Model_Comparison_df.reset_index()"
   ]
  },
  {
   "cell_type": "code",
   "execution_count": null,
   "metadata": {},
   "outputs": [],
   "source": [
    "#Generate confusion matrix for logistics regression model\n",
    "from sklearn.metric import confusion_matrix\n",
    "conf_mat_logmodel = confusion_matrix(y-test, pred)\n",
    "conf_mat_logmodel"
   ]
  },
  {
   "cell_type": "code",
   "execution_count": null,
   "metadata": {},
   "outputs": [],
   "source": [
    "#Predict the probability of CHURN of each Customer\n",
    "cleaned_dataset['Probability_of_CHURN'] = logmodel.predict_proba(cleaned_dataset[X_test.columns])[:,1]"
   ]
  },
  {
   "cell_type": "code",
   "execution_count": null,
   "metadata": {},
   "outputs": [],
   "source": [
    "#Create a DateFrame showcasing probability of CHURN of each Customer\n",
    "cleaned_dataset[['user_id', 'Probability_of_CHURN']].head()"
   ]
  },
  {
   "cell_type": "code",
   "execution_count": null,
   "metadata": {},
   "outputs": [],
   "source": []
  },
  {
   "cell_type": "code",
   "execution_count": null,
   "metadata": {},
   "outputs": [],
   "source": []
  }
 ],
 "metadata": {
  "kernelspec": {
   "display_name": "Python 3",
   "language": "python",
   "name": "python3"
  },
  "language_info": {
   "codemirror_mode": {
    "name": "ipython",
    "version": 3
   },
   "file_extension": ".py",
   "mimetype": "text/x-python",
   "name": "python",
   "nbconvert_exporter": "python",
   "pygments_lexer": "ipython3",
   "version": "3.8.5"
  }
 },
 "nbformat": 4,
 "nbformat_minor": 4
}
