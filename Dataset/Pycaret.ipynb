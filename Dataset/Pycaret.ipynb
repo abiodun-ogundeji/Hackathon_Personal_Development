{
 "cells": [
  {
   "cell_type": "code",
   "execution_count": null,
   "metadata": {},
   "outputs": [],
   "source": [
    "# check version\n",
    "from pycaret.utils import version\n",
    "version()"
   ]
  },
  {
   "cell_type": "code",
   "execution_count": null,
   "metadata": {},
   "outputs": [],
   "source": [
    "import pandas as pd\n",
    "import numpy as np"
   ]
  },
  {
   "cell_type": "code",
   "execution_count": null,
   "metadata": {},
   "outputs": [],
   "source": [
    "def read_and_display(filepath):\n",
    "    data = pd.read_csv(filepath, index_col='comp_id')\n",
    "    print(data.shape)\n",
    "    display(data.head())\n",
    "    return data"
   ]
  },
  {
   "cell_type": "code",
   "execution_count": null,
   "metadata": {},
   "outputs": [],
   "source": [
    "desc_data_train = read_and_display(\"Description Data/train_desc_df.csv\")"
   ]
  },
  {
   "cell_type": "code",
   "execution_count": null,
   "metadata": {},
   "outputs": [],
   "source": [
    "desc_data_public = read_and_display(\"Description Data/public_desc_df.csv\")"
   ]
  },
  {
   "cell_type": "code",
   "execution_count": null,
   "metadata": {},
   "outputs": [],
   "source": [
    "img_data_train = read_and_display(\"Image Data/train_image_df.csv\")"
   ]
  },
  {
   "cell_type": "code",
   "execution_count": null,
   "metadata": {},
   "outputs": [],
   "source": [
    "img_data_public = read_and_display(\"Image Data/public_image_df.csv\")"
   ]
  },
  {
   "cell_type": "code",
   "execution_count": null,
   "metadata": {},
   "outputs": [],
   "source": [
    "title_data_train = read_and_display(\"Title_Data/train_title_df.csv\")"
   ]
  },
  {
   "cell_type": "code",
   "execution_count": null,
   "metadata": {},
   "outputs": [],
   "source": [
    "title_data_public = read_and_display(\"Title_Data/public_title_df.csv\")"
   ]
  },
  {
   "cell_type": "code",
   "execution_count": null,
   "metadata": {
    "jupyter": {
     "source_hidden": true
    }
   },
   "outputs": [],
   "source": [
    "meta_data_train = read_and_display(\"Metadata/train_meta_df.csv\")"
   ]
  },
  {
   "cell_type": "code",
   "execution_count": null,
   "metadata": {},
   "outputs": [],
   "source": [
    "meta_data_public = read_and_display(\"Metadata/public_meta_df.csv\")"
   ]
  },
  {
   "cell_type": "code",
   "execution_count": null,
   "metadata": {},
   "outputs": [],
   "source": [
    "train_data = pd.concat([desc_data_train, title_data_train, img_data_train, meta_data_train], axis=1)\n",
    "print(train_data.shape)\n",
    "train_data.head()"
   ]
  },
  {
   "cell_type": "code",
   "execution_count": null,
   "metadata": {},
   "outputs": [],
   "source": [
    "test_data = pd.concat([desc_data_public, title_data_public, img_data_public, meta_data_public], axis=1)\n",
    "print(test_data.shape)\n",
    "test_data.head()"
   ]
  },
  {
   "cell_type": "code",
   "execution_count": null,
   "metadata": {},
   "outputs": [],
   "source": [
    "ad_blocked = train_data.select_dtypes(exclude=np.number)['ad_blocked'].value_counts()\n",
    "embed = train_data['embed'].value_counts()\n",
    "partner = train_data['partner'].value_counts()\n",
    "partner_active = train_data['partner_active'].value_counts()\n",
    "\n",
    "train_data['Encoded_ad_blocked'] = train_data['ad_blocked'].map(ad_blocked)\n",
    "train_data['Encoded_embed'] = train_data['embed'].map(embed)\n",
    "train_data['Encoded_partner'] = train_data['partner'].map(partner)\n",
    "train_data['Encoded_partner_active'] = train_data['partner_active'].map(partner_active)\n",
    "\n",
    "train_data[['ad_blocked', 'Encoded_ad_blocked', 'embed', 'Encoded_embed', 'partner', 'Encoded_partner', 'partner_active', 'Encoded_partner_active']].head()"
   ]
  },
  {
   "cell_type": "code",
   "execution_count": null,
   "metadata": {},
   "outputs": [],
   "source": [
    "train_data = train_data.drop(['ad_blocked','embed','partner','partner_active'], axis = 1)\n",
    "train_data.head()"
   ]
  },
  {
   "cell_type": "code",
   "execution_count": null,
   "metadata": {},
   "outputs": [],
   "source": [
    "ad_blocked = test_data['ad_blocked'].value_counts()\n",
    "embed = test_data['embed'].value_counts()\n",
    "partner = test_data['partner'].value_counts()\n",
    "partner_active = test_data['partner_active'].value_counts()\n",
    "\n",
    "test_data['Encoded_ad_blocked'] = test_data['ad_blocked'].map(ad_blocked)\n",
    "test_data['Encoded_embed'] = test_data['embed'].map(embed)\n",
    "test_data['Encoded_partner'] = test_data['partner'].map(partner)\n",
    "test_data['Encoded_partner_active'] = test_data['partner_active'].map(partner_active)\n",
    "\n",
    "test_data[['ad_blocked', 'Encoded_ad_blocked', 'embed', 'Encoded_embed', 'partner', 'Encoded_partner', 'partner_active', 'Encoded_partner_active']].head()"
   ]
  },
  {
   "cell_type": "code",
   "execution_count": null,
   "metadata": {},
   "outputs": [],
   "source": [
    "test_data = test_data.drop(['ad_blocked','embed','partner','partner_active'], axis = 1)\n",
    "test_data.head()"
   ]
  },
  {
   "cell_type": "code",
   "execution_count": null,
   "metadata": {},
   "outputs": [],
   "source": [
    "from pycaret.datasets import get_data\n",
    "def read_and_display(filepath):\n",
    "    data = pd.read_csv(filepath, index_col='comp_id')\n",
    "    print(data.shape)\n",
    "    display(data.head())\n",
    "    return data"
   ]
  },
  {
   "cell_type": "code",
   "execution_count": null,
   "metadata": {},
   "outputs": [],
   "source": [
    "train_data.head()"
   ]
  },
  {
   "cell_type": "code",
   "execution_count": null,
   "metadata": {},
   "outputs": [],
   "source": [
    "train_data.shape"
   ]
  },
  {
   "cell_type": "code",
   "execution_count": null,
   "metadata": {},
   "outputs": [],
   "source": [
    "from pycaret.regression import *\n",
    "regression = setup(data = train_data,  target = 'views')"
   ]
  },
  {
   "cell_type": "code",
   "execution_count": null,
   "metadata": {},
   "outputs": [],
   "source": [
    "best_model = compare_models()\n",
    "\n",
    "print(best_model)"
   ]
  }
 ],
 "metadata": {
  "kernelspec": {
   "display_name": "Python 3",
   "language": "python",
   "name": "python3"
  },
  "language_info": {
   "codemirror_mode": {
    "name": "ipython",
    "version": 3
   },
   "file_extension": ".py",
   "mimetype": "text/x-python",
   "name": "python",
   "nbconvert_exporter": "python",
   "pygments_lexer": "ipython3",
   "version": "3.8.5"
  }
 },
 "nbformat": 4,
 "nbformat_minor": 4
}
