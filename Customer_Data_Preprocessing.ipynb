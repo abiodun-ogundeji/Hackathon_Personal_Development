{
  "nbformat": 4,
  "nbformat_minor": 0,
  "metadata": {
    "colab": {
      "name": "Customer_Data_Preprocessing.ipynb",
      "provenance": [],
      "authorship_tag": "ABX9TyNbOHSyR3msSQ+xowHDHdu4",
      "include_colab_link": true
    },
    "kernelspec": {
      "name": "python3",
      "display_name": "Python 3"
    },
    "language_info": {
      "name": "python"
    }
  },
  "cells": [
    {
      "cell_type": "markdown",
      "metadata": {
        "id": "view-in-github",
        "colab_type": "text"
      },
      "source": [
        "<a href=\"https://colab.research.google.com/github/waleogundeji/personal/blob/main/Customer_Data_Preprocessing.ipynb\" target=\"_parent\"><img src=\"https://colab.research.google.com/assets/colab-badge.svg\" alt=\"Open In Colab\"/></a>"
      ]
    },
    {
      "cell_type": "code",
      "metadata": {
        "id": "AerRzDc2v_gP"
      },
      "source": [
        "Pimport csv"
      ],
      "execution_count": null,
      "outputs": []
    },
    {
      "cell_type": "code",
      "metadata": {
        "colab": {
          "resources": {
            "http://localhost:8080/nbextensions/google.colab/files.js": {
              "data": "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",
              "ok": true,
              "headers": [
                [
                  "content-type",
                  "application/javascript"
                ]
              ],
              "status": 200,
              "status_text": ""
            }
          },
          "base_uri": "https://localhost:8080/",
          "height": 72
        },
        "id": "gzEBzObRyJ4n",
        "outputId": "46c1191d-c7bb-4b41-dab7-b5b44f5296f1"
      },
      "source": [
        "from google.colab import files \n",
        "files=files.upload()"
      ],
      "execution_count": null,
      "outputs": [
        {
          "output_type": "display_data",
          "data": {
            "text/html": [
              "\n",
              "     <input type=\"file\" id=\"files-6fb571cd-d44f-4f3b-b456-58442c0aa6ae\" name=\"files[]\" multiple disabled\n",
              "        style=\"border:none\" />\n",
              "     <output id=\"result-6fb571cd-d44f-4f3b-b456-58442c0aa6ae\">\n",
              "      Upload widget is only available when the cell has been executed in the\n",
              "      current browser session. Please rerun this cell to enable.\n",
              "      </output>\n",
              "      <script src=\"/nbextensions/google.colab/files.js\"></script> "
            ],
            "text/plain": [
              "<IPython.core.display.HTML object>"
            ]
          },
          "metadata": {}
        },
        {
          "output_type": "stream",
          "name": "stdout",
          "text": [
            "Saving acw_user_data.csv to acw_user_data.csv\n"
          ]
        }
      ]
    },
    {
      "cell_type": "markdown",
      "metadata": {
        "id": "sEJYUaFBtLkV"
      },
      "source": [
        "**Task 1**\n",
        "\n",
        "\n",
        "*Read acw_user_data.csv with csv library.*"
      ]
    },
    {
      "cell_type": "code",
      "metadata": {
        "id": "w4guSZbryOJl"
      },
      "source": [
        "## Import csv, read the acw_user_data and create errow_row list\n",
        "\n",
        "import csv\n",
        "\n",
        "with open('acw_user_data.csv') as csv_file:\n",
        "    csv_reader = csv.reader( csv_file, delimiter=',')\n",
        "\n",
        "    error_row = []\n",
        "    for line_number, line in enumerate(csv_reader):\n",
        "            if line_number == 0: # First line\n",
        "                continue\n",
        "                #print(line_number, line)\n",
        "            if line[10] == \"\":\n",
        "                error_row.append(line_number)"
      ],
      "execution_count": null,
      "outputs": []
    },
    {
      "cell_type": "markdown",
      "metadata": {
        "id": "hmFEHSNLtfN5"
      },
      "source": [
        "**Task 2**\n",
        "\n",
        "\n",
        "*Convert csv file (flat strustures) into nested structures.*"
      ]
    },
    {
      "cell_type": "code",
      "metadata": {
        "colab": {
          "base_uri": "https://localhost:8080/"
        },
        "id": "15O3uVAxp1Tl",
        "outputId": "f5f55b09-4f62-4313-b436-c5b8be5d0fb4"
      },
      "source": [
        "## Load csv file\n",
        "\n",
        "with open('acw_user_data.csv') as csv_file:\n",
        "    csv_reader = csv.reader( csv_file, delimiter=',' )\n",
        "    header = next(csv_reader)\n",
        "    \n",
        "    acw_user_dataset = [line_number for line_number in csv_reader]\n",
        "    \n",
        "## Grouped feature attributes in acw_user_dataset for individauls\n",
        "\n",
        "personal_details = ['First Name', 'Last Name', 'Age (Years)', 'Sex', 'Marital Status', 'Dependants']\n",
        "address_details = ['Address Street', 'Address City', 'Address Postcode']\n",
        "work_details = ['Employer Company', 'Distance Commuted to Work (miles)', 'Yearly Salary (£)', 'Retired', 'Yearly Pension (£)']\n",
        "credit_card_details = ['Bank IBAN', 'Credit Card Number', 'Credit Card CVV', 'Credit Card Start Date', 'Credit Card Expiry Date']\n",
        "vehicle_details = ['Vehicle Make', 'Vehicle Model', 'Vehicle Year', 'Vehicle Type']\n",
        "\n",
        "## Create header dictionary to nest the csv flat strutures\n",
        "\n",
        "header_dict = {key:value for value, key in enumerate(header)}\n",
        "header_dict"
      ],
      "execution_count": null,
      "outputs": [
        {
          "output_type": "execute_result",
          "data": {
            "text/plain": [
              "{'Address City': 1,\n",
              " 'Address Postcode': 2,\n",
              " 'Address Street': 0,\n",
              " 'Age (Years)': 3,\n",
              " 'Bank IBAN': 12,\n",
              " 'Credit Card CVV': 9,\n",
              " 'Credit Card Expiry Date': 7,\n",
              " 'Credit Card Number': 8,\n",
              " 'Credit Card Start Date': 6,\n",
              " 'Dependants': 10,\n",
              " 'Distance Commuted to Work (miles)': 4,\n",
              " 'Employer Company': 5,\n",
              " 'First Name': 11,\n",
              " 'Last Name': 13,\n",
              " 'Marital Status': 14,\n",
              " 'Retired': 16,\n",
              " 'Sex': 18,\n",
              " 'Vehicle Make': 19,\n",
              " 'Vehicle Model': 20,\n",
              " 'Vehicle Type': 22,\n",
              " 'Vehicle Year': 21,\n",
              " 'Yearly Pension (£)': 15,\n",
              " 'Yearly Salary (£)': 17}"
            ]
          },
          "metadata": {},
          "execution_count": 4
        }
      ]
    },
    {
      "cell_type": "code",
      "metadata": {
        "id": "YLyzBQkBqLyi"
      },
      "source": [
        "## Cast each value in the file to the approapriate data types\n",
        "\n",
        "for value, line_number in enumerate(acw_user_dataset):\n",
        "    def convert_dtypes(value):\n",
        "        if value == \"True\":\n",
        "            return True\n",
        "        if value == \"False\":\n",
        "            return False    \n",
        "        if value.isnumeric():\n",
        "            return int(value)\n",
        "        try: \n",
        "            return float(value)\n",
        "        except ValueError:\n",
        "            return value "
      ],
      "execution_count": null,
      "outputs": []
    },
    {
      "cell_type": "code",
      "metadata": {
        "colab": {
          "base_uri": "https://localhost:8080/"
        },
        "id": "M5PXoIggqvsL",
        "outputId": "e4e062a4-6005-415d-eeed-aad9386f198b"
      },
      "source": [
        "## Nest the flat structures\n",
        "\n",
        "##Create empty list\n",
        "customers_list = []\n",
        "\n",
        "## Create dictionaries for each of the feature attributes\n",
        "for item, row in enumerate(acw_user_dataset, 2):\n",
        "    \n",
        "    personal_dict = {}\n",
        "    for key in personal_details:\n",
        "        personal_dict[key] = row[header_dict[key]]\n",
        "        \n",
        "    address_dict = {}\n",
        "    for key in address_details:\n",
        "        address_dict[key] = row[header_dict[key]]  \n",
        "        \n",
        "    work_dict = {}\n",
        "    for key in work_details:\n",
        "        work_dict[key] = row[header_dict[key]]\n",
        "        \n",
        "    credit_card_dict = {}\n",
        "    for key in credit_card_details:\n",
        "        credit_card_dict[key] = row[header_dict[key]]\n",
        "        \n",
        "    vehicle_dict = {}\n",
        "    for key in vehicle_details:\n",
        "        vehicle_dict[key] = row[header_dict[key]]\n",
        "\n",
        "## Create a dictionary for every individaul in the file(dictionary inside dictionary)     \n",
        "    row_dict = {'personal_details':personal_dict, 'address_details':address_dict, 'work_details':work_dict,\n",
        "               'credit_card_details':credit_card_dict, 'vehicle_details':vehicle_dict}\n",
        "##Append the dictionary for every individaul [dictionary inside dictionary (row_dict)] to the empty list.....\n",
        "##....to form the list of every individual with different features and their attributes.\n",
        "    customers_list.append(row_dict)\n",
        "customers_list[999]"
      ],
      "execution_count": null,
      "outputs": [
        {
          "output_type": "execute_result",
          "data": {
            "text/plain": [
              "{'address_details': {'Address City': 'West Glen',\n",
              "  'Address Postcode': 'LL3M 4WS',\n",
              "  'Address Street': 'Flat 9 Mohamed route'},\n",
              " 'credit_card_details': {'Bank IBAN': 'GB45ORXV49380519147072',\n",
              "  'Credit Card CVV': '903',\n",
              "  'Credit Card Expiry Date': '01/16',\n",
              "  'Credit Card Number': '180020306382110',\n",
              "  'Credit Card Start Date': '12/14'},\n",
              " 'personal_details': {'Age (Years)': '80',\n",
              "  'Dependants': '1',\n",
              "  'First Name': 'Sheila',\n",
              "  'Last Name': 'Russell',\n",
              "  'Marital Status': 'single',\n",
              "  'Sex': 'Female'},\n",
              " 'vehicle_details': {'Vehicle Make': 'Geo',\n",
              "  'Vehicle Model': 'S7',\n",
              "  'Vehicle Type': 'Van/Minivan',\n",
              "  'Vehicle Year': '1993'},\n",
              " 'work_details': {'Distance Commuted to Work (miles)': '0',\n",
              "  'Employer Company': 'N/A',\n",
              "  'Retired': 'True',\n",
              "  'Yearly Pension (£)': '22869',\n",
              "  'Yearly Salary (£)': '25788'}}"
            ]
          },
          "metadata": {},
          "execution_count": 6
        }
      ]
    },
    {
      "cell_type": "markdown",
      "metadata": {
        "id": "OgSVBOvtuGNU"
      },
      "source": [
        "**Task 3**\n",
        "\n",
        "\n",
        "*Print a list where all such error corrections take place.*"
      ]
    },
    {
      "cell_type": "code",
      "metadata": {
        "colab": {
          "base_uri": "https://localhost:8080/"
        },
        "id": "-0_usHYVuNtm",
        "outputId": "72fd3c44-f8bd-433c-8dee-d24f221ba270"
      },
      "source": [
        "print('The problematic rows for dependants:', error_row)"
      ],
      "execution_count": null,
      "outputs": [
        {
          "output_type": "stream",
          "name": "stdout",
          "text": [
            "The problematic rows for dependants: [22, 110, 180, 206, 271, 273, 275, 359, 461, 469, 580, 637, 680, 726, 823, 866, 918, 932, 984]\n"
          ]
        }
      ]
    },
    {
      "cell_type": "markdown",
      "metadata": {
        "id": "JxPqf34xuhjq"
      },
      "source": [
        "**Task 4**\n",
        "\n",
        "*Write all records to a processed.json file in the JSON data format.*"
      ]
    },
    {
      "cell_type": "code",
      "metadata": {
        "id": "sPSgWfBdt-FE"
      },
      "source": [
        "## import json, write all the record of all individuals in the json data format as processed.json\n",
        "\n",
        "import json\n",
        "with open('processed.json', mode='w') as processed_file:\n",
        "    json.dump(customers_list, processed_file)"
      ],
      "execution_count": null,
      "outputs": []
    },
    {
      "cell_type": "code",
      "metadata": {
        "colab": {
          "base_uri": "https://localhost:8080/"
        },
        "id": "aP5J8PFtw_Sg",
        "outputId": "a235e900-a5b2-4356-bce3-53831d29eb69"
      },
      "source": [
        "## Read processed.json file\n",
        "\n",
        "with open('processed.json', mode='r') as processed_file:\n",
        "    customers_details = json.load(processed_file)\n",
        "\n",
        "customers_details[10]   "
      ],
      "execution_count": null,
      "outputs": [
        {
          "output_type": "execute_result",
          "data": {
            "text/plain": [
              "{'address_details': {'Address City': 'North Martyn',\n",
              "  'Address Postcode': 'LN2 4JH',\n",
              "  'Address Street': '2 Robert squares'},\n",
              " 'credit_card_details': {'Bank IBAN': 'GB95JQAU66555098753975',\n",
              "  'Credit Card CVV': '843',\n",
              "  'Credit Card Expiry Date': '03/29',\n",
              "  'Credit Card Number': '4707491977031086',\n",
              "  'Credit Card Start Date': '05/19'},\n",
              " 'personal_details': {'Age (Years)': '64',\n",
              "  'Dependants': '3',\n",
              "  'First Name': 'Kimberley',\n",
              "  'Last Name': 'Turner',\n",
              "  'Marital Status': 'married or civil partner',\n",
              "  'Sex': 'Female'},\n",
              " 'vehicle_details': {'Vehicle Make': 'Volvo',\n",
              "  'Vehicle Model': 'Tundra Double Cab',\n",
              "  'Vehicle Type': 'Sedan',\n",
              "  'Vehicle Year': '2011'},\n",
              " 'work_details': {'Distance Commuted to Work (miles)': '11.11',\n",
              "  'Employer Company': 'Gray-James',\n",
              "  'Retired': 'False',\n",
              "  'Yearly Pension (£)': '0',\n",
              "  'Yearly Salary (£)': '39983'}}"
            ]
          },
          "metadata": {},
          "execution_count": 9
        }
      ]
    },
    {
      "cell_type": "markdown",
      "metadata": {
        "id": "X0kWH3K2xf6b"
      },
      "source": [
        "**Task 5**\n",
        "\n",
        "\n",
        "*Create two additional file outputs, retired.json and employed.json, these should contain all retired customers.*"
      ]
    },
    {
      "cell_type": "code",
      "metadata": {
        "id": "mlFb97bRxv0d"
      },
      "source": [
        "## Create two empty files for retired and employed\n",
        "retired_customers = []\n",
        "employed_customers = []\n",
        "\n",
        "##Iterates through the customer_list to get the lists of retired and employed\n",
        "for line in customers_list: \n",
        "    if line['work_details']['Retired'] == \"True\":\n",
        "        retired_customers.append(line) \n",
        "    else:\n",
        "        employed_customers.append(line)"
      ],
      "execution_count": null,
      "outputs": []
    },
    {
      "cell_type": "code",
      "metadata": {
        "id": "ZSVfS7_qxZgv"
      },
      "source": [
        "## Create retired.json data file\n",
        "with open('retired.json', mode='w') as retired_file:\n",
        "    json.dump(retired_customers, retired_file)"
      ],
      "execution_count": null,
      "outputs": []
    },
    {
      "cell_type": "code",
      "metadata": {
        "colab": {
          "base_uri": "https://localhost:8080/"
        },
        "id": "61yuP5S_y9ZL",
        "outputId": "d8d4056f-7234-4f24-9cd9-ee2e0f2f099b"
      },
      "source": [
        "##Read retired.json file\n",
        "with open('retired.json', mode='r') as retired_file:\n",
        "    retired_customers = json.load(retired_file)\n",
        "retired_customers[1]"
      ],
      "execution_count": null,
      "outputs": [
        {
          "output_type": "execute_result",
          "data": {
            "text/plain": [
              "{'address_details': {'Address City': 'Griffinstad',\n",
              "  'Address Postcode': 'G3 7ZX',\n",
              "  'Address Street': '81 Goodwin dam'},\n",
              " 'credit_card_details': {'Bank IBAN': 'GB04VSAZ69128049616822',\n",
              "  'Credit Card CVV': '389',\n",
              "  'Credit Card Expiry Date': '04/27',\n",
              "  'Credit Card Number': '213199489183130',\n",
              "  'Credit Card Start Date': '07/15'},\n",
              " 'personal_details': {'Age (Years)': '67',\n",
              "  'Dependants': '1',\n",
              "  'First Name': 'Clive',\n",
              "  'Last Name': 'Evans',\n",
              "  'Marital Status': 'single',\n",
              "  'Sex': 'Male'},\n",
              " 'vehicle_details': {'Vehicle Make': 'Volvo',\n",
              "  'Vehicle Model': 'Express 3500 Passenger',\n",
              "  'Vehicle Type': 'SUV',\n",
              "  'Vehicle Year': '2013'},\n",
              " 'work_details': {'Distance Commuted to Work (miles)': '0',\n",
              "  'Employer Company': 'N/A',\n",
              "  'Retired': 'True',\n",
              "  'Yearly Pension (£)': '28075',\n",
              "  'Yearly Salary (£)': '27964'}}"
            ]
          },
          "metadata": {},
          "execution_count": 12
        }
      ]
    },
    {
      "cell_type": "code",
      "metadata": {
        "id": "dN2xrdAyzMFn"
      },
      "source": [
        "## Create employed.json data file\n",
        "\n",
        "with open('employed.json', mode='w') as employed_file:\n",
        "    json.dump(employed_customers, employed_file)"
      ],
      "execution_count": null,
      "outputs": []
    },
    {
      "cell_type": "code",
      "metadata": {
        "colab": {
          "base_uri": "https://localhost:8080/"
        },
        "id": "rEnTOwUDVoPJ",
        "outputId": "3412daa1-3161-4a64-db40-49b19832751a"
      },
      "source": [
        "with open('employed.json', mode='r') as employed_file:\n",
        "    employed_customers = json.load(employed_file)\n",
        "employed_customers[1]"
      ],
      "execution_count": null,
      "outputs": [
        {
          "output_type": "execute_result",
          "data": {
            "text/plain": [
              "{'address_details': {'Address City': 'Randallborough',\n",
              "  'Address Postcode': 'ME3N 1GH',\n",
              "  'Address Street': 'Studio 33K Joel walk'},\n",
              " 'credit_card_details': {'Bank IBAN': 'GB40CVUE84011545859591',\n",
              "  'Credit Card CVV': '422',\n",
              "  'Credit Card Expiry Date': '07/27',\n",
              "  'Credit Card Number': '4091726363083888495',\n",
              "  'Credit Card Start Date': '11/19'},\n",
              " 'personal_details': {'Age (Years)': '22',\n",
              "  'Dependants': '1',\n",
              "  'First Name': 'Antony',\n",
              "  'Last Name': 'Jones',\n",
              "  'Marital Status': 'married or civil partner',\n",
              "  'Sex': 'Male'},\n",
              " 'vehicle_details': {'Vehicle Make': 'GMC',\n",
              "  'Vehicle Model': 'Achieva',\n",
              "  'Vehicle Type': 'Convertible, Coupe',\n",
              "  'Vehicle Year': '2015'},\n",
              " 'work_details': {'Distance Commuted to Work (miles)': '16.02',\n",
              "  'Employer Company': 'Hill-Wright',\n",
              "  'Retired': 'False',\n",
              "  'Yearly Pension (£)': '0',\n",
              "  'Yearly Salary (£)': '68049'}}"
            ]
          },
          "metadata": {},
          "execution_count": 14
        }
      ]
    }
  ]
}